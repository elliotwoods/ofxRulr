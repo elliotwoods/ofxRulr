{
 "cells": [
  {
   "cell_type": "markdown",
   "metadata": {},
   "source": [
    "# Capturing\n",
    "\n",
    "When capturing:\n",
    "\n",
    "* No elements in the photo that might be lit by lasers (e.g. trees or solar panels)\n",
    "* Try to take a photo calibration set with the same aperture and focus\n",
    "* Take a small set of snaps and evaluate on the computer before continuing\n",
    "\n",
    "## Camera settings\n",
    "\n",
    "Important settings:\n",
    "\n",
    "* Shutter speed must be quicker than the delay speed between captures?\n",
    "* Focus should be fixed throughout\n",
    "\n",
    "Notes : \n",
    "\n",
    "Presuming Canon R5\n",
    "\n",
    "### Notes from Greece\n",
    "\n",
    "Greece first capture settings:\n",
    "\n",
    "* 0.8s\n",
    "* f7.1\n",
    "* ISO 1000\n",
    "* Focus is directly beneath center of infinite symbol\n",
    "\n",
    "This was underexposed."
   ]
  },
  {
   "cell_type": "markdown",
   "metadata": {},
   "source": [
    "# Calibration\n",
    "\n",
    "Process is generally:\n",
    "\n",
    "* Import measured/planned laser positions\n",
    "* Sort files\n",
    "* Calibrate lines\n",
    "* Solve the initial camera poses\n",
    "* Perform laser bundle adjustment\n",
    "\n",
    "Note:\n",
    "\n",
    "* ignore BundleAdjustPoints (I think!)\n",
    "* Calibration works internally with laserAddress (serial number) rather than position number."
   ]
  },
  {
   "cell_type": "markdown",
   "metadata": {},
   "source": [
    "## Import measured/planned laser positions\n",
    "\n",
    "Right now we use a workflow of:\n",
    "\n",
    "1. Chris makes the positions within Rhino\n",
    "2. Chris exports via Google Sheets\n",
    "3. Chris enters the positions into Airtable (in meters, and in our coordinate system)\n",
    "4. We use `make_nodes.py` from the RunDeck folder to make a json\n",
    "5. Import the json into Rulr (Lasers node)\n",
    "6. Choose a position for the moon \n",
    "7. Aim all the lasers towards that moon (to estimate the angles), using the `Target` node"
   ]
  },
  {
   "cell_type": "markdown",
   "metadata": {},
   "source": [
    "## Sort files\n",
    "\n",
    "Use the `SortFiles` node to copy files into distinct folders. Make sure to save after sorting as this adjusts the captures themselves. For 4 captures, this takes about 15-20 minutes.\n",
    "\n",
    "This process will create unique folders like `[Camera capture]/[Laser capture]` and name the files for each beam on/off.\n",
    "\n",
    "This is an optional step, but it's really useful for viewing the data with context, and also when previews are rendered (e.g. in the find lines stage) they will be rendered to these folders."
   ]
  },
  {
   "cell_type": "markdown",
   "metadata": {},
   "source": [
    "# Calibate lines\n",
    "\n",
    "This stage converts the image pairs into found lines, and solves the image center point for each `LaserCapture`.\n",
    "\n",
    "Use `1.1_Thresholding` to find the difference between bright and dark in the images. Select a time and a laser address index. in block `[14]`\n",
    "\n",
    "At `Figure 1` we can see the line value. Choose accordingly:\n",
    "\n",
    "* Difference threshold (good is around 32)\n",
    "* Min mean value on line ~ 32\n",
    "    * Pixel values are already normalised\n",
    "    * We can easily get distracted by something like a tree in the picture\n",
    "\n",
    "Test on a single LaserCapture (select one camera, one lasercapture)\n",
    "\n",
    "In the rendered preview:\n",
    "\n",
    "* Red - OpenCV solve\n",
    "* Green - Difference\n",
    "* Blue - Our solved line + overlay\n",
    "\n",
    "If the light level is very low, you can use the option `Amplify blue` to strongly pick out the blue channel vs the others. This seems to work for dim images.\n",
    "\n",
    "For Greece it took ~ 2 hours to calculate lines for 3 camera captures."
   ]
  },
  {
   "cell_type": "markdown",
   "metadata": {},
   "source": [
    "Solve the initial camera poses (also consider using the `Bundle Adjust Lines` with the lasers fixed to get better solutions)\n",
    "\n",
    "Check `1_imagePoints.ipynb`\n"
   ]
  },
  {
   "cell_type": "markdown",
   "metadata": {},
   "source": [
    "## Bundle adjustment\n",
    "\n",
    "Check figure 3 in `1_ImagePoints.ipynb`"
   ]
  },
  {
   "cell_type": "markdown",
   "metadata": {},
   "source": []
  }
 ],
 "metadata": {
  "kernelspec": {
   "display_name": "base",
   "language": "python",
   "name": "python3"
  },
  "language_info": {
   "codemirror_mode": {
    "name": "ipython",
    "version": 3
   },
   "file_extension": ".py",
   "mimetype": "text/x-python",
   "name": "python",
   "nbconvert_exporter": "python",
   "pygments_lexer": "ipython3",
   "version": "3.9.7"
  },
  "orig_nbformat": 4
 },
 "nbformat": 4,
 "nbformat_minor": 2
}
