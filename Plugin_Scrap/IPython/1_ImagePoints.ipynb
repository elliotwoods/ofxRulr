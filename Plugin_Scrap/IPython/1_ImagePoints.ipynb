{
 "cells": [
  {
   "cell_type": "markdown",
   "metadata": {},
   "source": [
    "# Analyse imagePoints\n",
    "\n",
    "Our aim is to calibrate the cameras against the laser positions (3D) and projections of lasers into camrea images (as 2D image points where lines converge).\n",
    "\n",
    "During this stage we want to:\n",
    "\n",
    "1. Deselect any beamcaptures that are wrongly detected\n",
    "2. Deselect any lasercaptures where the convergence point does not follow the circle in Figure 2 (NB : these should be re-selected after completing the camera calibration stage)\n",
    "3. Evaluate residuals using Figure 3"
   ]
  },
  {
   "cell_type": "code",
   "execution_count": 69,
   "metadata": {},
   "outputs": [],
   "source": [
    "import json\n",
    "import numpy as np\n",
    "import pandas as pd\n",
    "import plotly.express as px"
   ]
  },
  {
   "cell_type": "code",
   "execution_count": 70,
   "metadata": {},
   "outputs": [],
   "source": [
    "with open('../../Application/bin/data/Patch.json') as file:\n",
    "\tpatch = json.load(file)\n",
    "\t"
   ]
  },
  {
   "cell_type": "code",
   "execution_count": 71,
   "metadata": {},
   "outputs": [],
   "source": [
    "def find_node_by_name(node_name):\n",
    "\tfor node_id in patch['Nodes']:\n",
    "\t\tif patch['Nodes'][node_id]['Name'] == node_name:\n",
    "\t\t\treturn patch['Nodes'][node_id]\n",
    "\traise(Exception(\"Node not found\"))"
   ]
  },
  {
   "cell_type": "code",
   "execution_count": 72,
   "metadata": {},
   "outputs": [],
   "source": [
    "calibrate_node = find_node_by_name('Calibrate')"
   ]
  },
  {
   "attachments": {},
   "cell_type": "markdown",
   "metadata": {},
   "source": [
    "Here you might need to manually select which camera index you're looking at"
   ]
  },
  {
   "cell_type": "code",
   "execution_count": 73,
   "metadata": {},
   "outputs": [],
   "source": [
    "first_camera_index = 2\n",
    "first_camera = calibrate_node['Content']['cameraCaptures']['captures'][first_camera_index]"
   ]
  },
  {
   "cell_type": "code",
   "execution_count": 74,
   "metadata": {},
   "outputs": [],
   "source": [
    "#gather laser image points function\n",
    "def gather_laser_image_points(camera_capture):\n",
    "\tlaser_image_points = []\n",
    "\tlaser_names = []\n",
    "\tfor laser_capture in first_camera['laserCaptures']['captures']:\n",
    "\t\tif laser_capture['Selected']:\n",
    "\t\t\tlaser_image_points.append(laser_capture['imagePointInCamera'])\n",
    "\t\t\tlaser_names.append(laser_capture['serialNumber'])\n",
    "\treturn laser_image_points, laser_names"
   ]
  },
  {
   "cell_type": "code",
   "execution_count": 75,
   "metadata": {},
   "outputs": [],
   "source": [
    "laser_image_points, laser_names = gather_laser_image_points(first_camera)\n",
    "data = np.array(laser_image_points)"
   ]
  },
  {
   "cell_type": "markdown",
   "metadata": {},
   "source": [
    "# Figure 1"
   ]
  },
  {
   "cell_type": "code",
   "execution_count": 76,
   "metadata": {},
   "outputs": [
    {
     "data": {
      "application/vnd.plotly.v1+json": {
       "config": {
        "plotlyServerURL": "https://plot.ly"
       },
       "data": [
        {
         "hovertemplate": "<b>%{hovertext}</b><br><br>x=%{x}<br>y=%{y}<extra></extra>",
         "hovertext": [
          1,
          3,
          4,
          36,
          6,
          7,
          8,
          37,
          10,
          27,
          40,
          13,
          35,
          15,
          16,
          17,
          18,
          20,
          21,
          22,
          23,
          24,
          25,
          26,
          29,
          30,
          31,
          32,
          33,
          38,
          39
         ],
         "legendgroup": "",
         "marker": {
          "color": "#636efa",
          "symbol": "circle"
         },
         "mode": "markers",
         "name": "",
         "orientation": "v",
         "showlegend": false,
         "type": "scatter",
         "x": [
          -59784.26171875,
          -38109.140625,
          -29307.591796875,
          -22592.314453125,
          -18030.689453125,
          -14147.40625,
          -11419.05078125,
          -9281.580078125,
          -7510.94921875,
          -5715.064453125,
          -4368.5009765625,
          -3193.1533203125,
          -2034.3680419921875,
          -1191.3099365234375,
          -313.0570983886719,
          442.47332763671875,
          1223.812255859375,
          2623.110595703125,
          3321.611083984375,
          4001.96142578125,
          4679.4443359375,
          5344.42529296875,
          6109.2109375,
          6829.89404296875,
          12022.0908203125,
          13291.4443359375,
          14426.5322265625,
          15262.431640625,
          16422.8984375,
          17827.359375,
          18919.8984375
         ],
         "xaxis": "x",
         "y": [
          -29716.908203125,
          -5809.07958984375,
          -1251.3448486328125,
          1445.2506103515625,
          2894.79541015625,
          3870.80712890625,
          4502.54296875,
          4922.55810546875,
          5203.58837890625,
          5468.35595703125,
          5608.3193359375,
          5739.9501953125,
          5850.45703125,
          5940.86376953125,
          5992.36474609375,
          6039.3125,
          6056.7265625,
          6050.34033203125,
          6040.1103515625,
          6028.0869140625,
          5987.28369140625,
          5945.087890625,
          5887.4296875,
          5848.42333984375,
          4769.19921875,
          4314.59326171875,
          3784.186767578125,
          3076.642822265625,
          1858.5267333984375,
          -239.2524871826172,
          -4357.18994140625
         ],
         "yaxis": "y"
        }
       ],
       "layout": {
        "legend": {
         "tracegroupgap": 0
        },
        "margin": {
         "t": 60
        },
        "template": {
         "data": {
          "bar": [
           {
            "error_x": {
             "color": "#2a3f5f"
            },
            "error_y": {
             "color": "#2a3f5f"
            },
            "marker": {
             "line": {
              "color": "#E5ECF6",
              "width": 0.5
             },
             "pattern": {
              "fillmode": "overlay",
              "size": 10,
              "solidity": 0.2
             }
            },
            "type": "bar"
           }
          ],
          "barpolar": [
           {
            "marker": {
             "line": {
              "color": "#E5ECF6",
              "width": 0.5
             },
             "pattern": {
              "fillmode": "overlay",
              "size": 10,
              "solidity": 0.2
             }
            },
            "type": "barpolar"
           }
          ],
          "carpet": [
           {
            "aaxis": {
             "endlinecolor": "#2a3f5f",
             "gridcolor": "white",
             "linecolor": "white",
             "minorgridcolor": "white",
             "startlinecolor": "#2a3f5f"
            },
            "baxis": {
             "endlinecolor": "#2a3f5f",
             "gridcolor": "white",
             "linecolor": "white",
             "minorgridcolor": "white",
             "startlinecolor": "#2a3f5f"
            },
            "type": "carpet"
           }
          ],
          "choropleth": [
           {
            "colorbar": {
             "outlinewidth": 0,
             "ticks": ""
            },
            "type": "choropleth"
           }
          ],
          "contour": [
           {
            "colorbar": {
             "outlinewidth": 0,
             "ticks": ""
            },
            "colorscale": [
             [
              0,
              "#0d0887"
             ],
             [
              0.1111111111111111,
              "#46039f"
             ],
             [
              0.2222222222222222,
              "#7201a8"
             ],
             [
              0.3333333333333333,
              "#9c179e"
             ],
             [
              0.4444444444444444,
              "#bd3786"
             ],
             [
              0.5555555555555556,
              "#d8576b"
             ],
             [
              0.6666666666666666,
              "#ed7953"
             ],
             [
              0.7777777777777778,
              "#fb9f3a"
             ],
             [
              0.8888888888888888,
              "#fdca26"
             ],
             [
              1,
              "#f0f921"
             ]
            ],
            "type": "contour"
           }
          ],
          "contourcarpet": [
           {
            "colorbar": {
             "outlinewidth": 0,
             "ticks": ""
            },
            "type": "contourcarpet"
           }
          ],
          "heatmap": [
           {
            "colorbar": {
             "outlinewidth": 0,
             "ticks": ""
            },
            "colorscale": [
             [
              0,
              "#0d0887"
             ],
             [
              0.1111111111111111,
              "#46039f"
             ],
             [
              0.2222222222222222,
              "#7201a8"
             ],
             [
              0.3333333333333333,
              "#9c179e"
             ],
             [
              0.4444444444444444,
              "#bd3786"
             ],
             [
              0.5555555555555556,
              "#d8576b"
             ],
             [
              0.6666666666666666,
              "#ed7953"
             ],
             [
              0.7777777777777778,
              "#fb9f3a"
             ],
             [
              0.8888888888888888,
              "#fdca26"
             ],
             [
              1,
              "#f0f921"
             ]
            ],
            "type": "heatmap"
           }
          ],
          "heatmapgl": [
           {
            "colorbar": {
             "outlinewidth": 0,
             "ticks": ""
            },
            "colorscale": [
             [
              0,
              "#0d0887"
             ],
             [
              0.1111111111111111,
              "#46039f"
             ],
             [
              0.2222222222222222,
              "#7201a8"
             ],
             [
              0.3333333333333333,
              "#9c179e"
             ],
             [
              0.4444444444444444,
              "#bd3786"
             ],
             [
              0.5555555555555556,
              "#d8576b"
             ],
             [
              0.6666666666666666,
              "#ed7953"
             ],
             [
              0.7777777777777778,
              "#fb9f3a"
             ],
             [
              0.8888888888888888,
              "#fdca26"
             ],
             [
              1,
              "#f0f921"
             ]
            ],
            "type": "heatmapgl"
           }
          ],
          "histogram": [
           {
            "marker": {
             "pattern": {
              "fillmode": "overlay",
              "size": 10,
              "solidity": 0.2
             }
            },
            "type": "histogram"
           }
          ],
          "histogram2d": [
           {
            "colorbar": {
             "outlinewidth": 0,
             "ticks": ""
            },
            "colorscale": [
             [
              0,
              "#0d0887"
             ],
             [
              0.1111111111111111,
              "#46039f"
             ],
             [
              0.2222222222222222,
              "#7201a8"
             ],
             [
              0.3333333333333333,
              "#9c179e"
             ],
             [
              0.4444444444444444,
              "#bd3786"
             ],
             [
              0.5555555555555556,
              "#d8576b"
             ],
             [
              0.6666666666666666,
              "#ed7953"
             ],
             [
              0.7777777777777778,
              "#fb9f3a"
             ],
             [
              0.8888888888888888,
              "#fdca26"
             ],
             [
              1,
              "#f0f921"
             ]
            ],
            "type": "histogram2d"
           }
          ],
          "histogram2dcontour": [
           {
            "colorbar": {
             "outlinewidth": 0,
             "ticks": ""
            },
            "colorscale": [
             [
              0,
              "#0d0887"
             ],
             [
              0.1111111111111111,
              "#46039f"
             ],
             [
              0.2222222222222222,
              "#7201a8"
             ],
             [
              0.3333333333333333,
              "#9c179e"
             ],
             [
              0.4444444444444444,
              "#bd3786"
             ],
             [
              0.5555555555555556,
              "#d8576b"
             ],
             [
              0.6666666666666666,
              "#ed7953"
             ],
             [
              0.7777777777777778,
              "#fb9f3a"
             ],
             [
              0.8888888888888888,
              "#fdca26"
             ],
             [
              1,
              "#f0f921"
             ]
            ],
            "type": "histogram2dcontour"
           }
          ],
          "mesh3d": [
           {
            "colorbar": {
             "outlinewidth": 0,
             "ticks": ""
            },
            "type": "mesh3d"
           }
          ],
          "parcoords": [
           {
            "line": {
             "colorbar": {
              "outlinewidth": 0,
              "ticks": ""
             }
            },
            "type": "parcoords"
           }
          ],
          "pie": [
           {
            "automargin": true,
            "type": "pie"
           }
          ],
          "scatter": [
           {
            "fillpattern": {
             "fillmode": "overlay",
             "size": 10,
             "solidity": 0.2
            },
            "type": "scatter"
           }
          ],
          "scatter3d": [
           {
            "line": {
             "colorbar": {
              "outlinewidth": 0,
              "ticks": ""
             }
            },
            "marker": {
             "colorbar": {
              "outlinewidth": 0,
              "ticks": ""
             }
            },
            "type": "scatter3d"
           }
          ],
          "scattercarpet": [
           {
            "marker": {
             "colorbar": {
              "outlinewidth": 0,
              "ticks": ""
             }
            },
            "type": "scattercarpet"
           }
          ],
          "scattergeo": [
           {
            "marker": {
             "colorbar": {
              "outlinewidth": 0,
              "ticks": ""
             }
            },
            "type": "scattergeo"
           }
          ],
          "scattergl": [
           {
            "marker": {
             "colorbar": {
              "outlinewidth": 0,
              "ticks": ""
             }
            },
            "type": "scattergl"
           }
          ],
          "scattermapbox": [
           {
            "marker": {
             "colorbar": {
              "outlinewidth": 0,
              "ticks": ""
             }
            },
            "type": "scattermapbox"
           }
          ],
          "scatterpolar": [
           {
            "marker": {
             "colorbar": {
              "outlinewidth": 0,
              "ticks": ""
             }
            },
            "type": "scatterpolar"
           }
          ],
          "scatterpolargl": [
           {
            "marker": {
             "colorbar": {
              "outlinewidth": 0,
              "ticks": ""
             }
            },
            "type": "scatterpolargl"
           }
          ],
          "scatterternary": [
           {
            "marker": {
             "colorbar": {
              "outlinewidth": 0,
              "ticks": ""
             }
            },
            "type": "scatterternary"
           }
          ],
          "surface": [
           {
            "colorbar": {
             "outlinewidth": 0,
             "ticks": ""
            },
            "colorscale": [
             [
              0,
              "#0d0887"
             ],
             [
              0.1111111111111111,
              "#46039f"
             ],
             [
              0.2222222222222222,
              "#7201a8"
             ],
             [
              0.3333333333333333,
              "#9c179e"
             ],
             [
              0.4444444444444444,
              "#bd3786"
             ],
             [
              0.5555555555555556,
              "#d8576b"
             ],
             [
              0.6666666666666666,
              "#ed7953"
             ],
             [
              0.7777777777777778,
              "#fb9f3a"
             ],
             [
              0.8888888888888888,
              "#fdca26"
             ],
             [
              1,
              "#f0f921"
             ]
            ],
            "type": "surface"
           }
          ],
          "table": [
           {
            "cells": {
             "fill": {
              "color": "#EBF0F8"
             },
             "line": {
              "color": "white"
             }
            },
            "header": {
             "fill": {
              "color": "#C8D4E3"
             },
             "line": {
              "color": "white"
             }
            },
            "type": "table"
           }
          ]
         },
         "layout": {
          "annotationdefaults": {
           "arrowcolor": "#2a3f5f",
           "arrowhead": 0,
           "arrowwidth": 1
          },
          "autotypenumbers": "strict",
          "coloraxis": {
           "colorbar": {
            "outlinewidth": 0,
            "ticks": ""
           }
          },
          "colorscale": {
           "diverging": [
            [
             0,
             "#8e0152"
            ],
            [
             0.1,
             "#c51b7d"
            ],
            [
             0.2,
             "#de77ae"
            ],
            [
             0.3,
             "#f1b6da"
            ],
            [
             0.4,
             "#fde0ef"
            ],
            [
             0.5,
             "#f7f7f7"
            ],
            [
             0.6,
             "#e6f5d0"
            ],
            [
             0.7,
             "#b8e186"
            ],
            [
             0.8,
             "#7fbc41"
            ],
            [
             0.9,
             "#4d9221"
            ],
            [
             1,
             "#276419"
            ]
           ],
           "sequential": [
            [
             0,
             "#0d0887"
            ],
            [
             0.1111111111111111,
             "#46039f"
            ],
            [
             0.2222222222222222,
             "#7201a8"
            ],
            [
             0.3333333333333333,
             "#9c179e"
            ],
            [
             0.4444444444444444,
             "#bd3786"
            ],
            [
             0.5555555555555556,
             "#d8576b"
            ],
            [
             0.6666666666666666,
             "#ed7953"
            ],
            [
             0.7777777777777778,
             "#fb9f3a"
            ],
            [
             0.8888888888888888,
             "#fdca26"
            ],
            [
             1,
             "#f0f921"
            ]
           ],
           "sequentialminus": [
            [
             0,
             "#0d0887"
            ],
            [
             0.1111111111111111,
             "#46039f"
            ],
            [
             0.2222222222222222,
             "#7201a8"
            ],
            [
             0.3333333333333333,
             "#9c179e"
            ],
            [
             0.4444444444444444,
             "#bd3786"
            ],
            [
             0.5555555555555556,
             "#d8576b"
            ],
            [
             0.6666666666666666,
             "#ed7953"
            ],
            [
             0.7777777777777778,
             "#fb9f3a"
            ],
            [
             0.8888888888888888,
             "#fdca26"
            ],
            [
             1,
             "#f0f921"
            ]
           ]
          },
          "colorway": [
           "#636efa",
           "#EF553B",
           "#00cc96",
           "#ab63fa",
           "#FFA15A",
           "#19d3f3",
           "#FF6692",
           "#B6E880",
           "#FF97FF",
           "#FECB52"
          ],
          "font": {
           "color": "#2a3f5f"
          },
          "geo": {
           "bgcolor": "white",
           "lakecolor": "white",
           "landcolor": "#E5ECF6",
           "showlakes": true,
           "showland": true,
           "subunitcolor": "white"
          },
          "hoverlabel": {
           "align": "left"
          },
          "hovermode": "closest",
          "mapbox": {
           "style": "light"
          },
          "paper_bgcolor": "white",
          "plot_bgcolor": "#E5ECF6",
          "polar": {
           "angularaxis": {
            "gridcolor": "white",
            "linecolor": "white",
            "ticks": ""
           },
           "bgcolor": "#E5ECF6",
           "radialaxis": {
            "gridcolor": "white",
            "linecolor": "white",
            "ticks": ""
           }
          },
          "scene": {
           "xaxis": {
            "backgroundcolor": "#E5ECF6",
            "gridcolor": "white",
            "gridwidth": 2,
            "linecolor": "white",
            "showbackground": true,
            "ticks": "",
            "zerolinecolor": "white"
           },
           "yaxis": {
            "backgroundcolor": "#E5ECF6",
            "gridcolor": "white",
            "gridwidth": 2,
            "linecolor": "white",
            "showbackground": true,
            "ticks": "",
            "zerolinecolor": "white"
           },
           "zaxis": {
            "backgroundcolor": "#E5ECF6",
            "gridcolor": "white",
            "gridwidth": 2,
            "linecolor": "white",
            "showbackground": true,
            "ticks": "",
            "zerolinecolor": "white"
           }
          },
          "shapedefaults": {
           "line": {
            "color": "#2a3f5f"
           }
          },
          "ternary": {
           "aaxis": {
            "gridcolor": "white",
            "linecolor": "white",
            "ticks": ""
           },
           "baxis": {
            "gridcolor": "white",
            "linecolor": "white",
            "ticks": ""
           },
           "bgcolor": "#E5ECF6",
           "caxis": {
            "gridcolor": "white",
            "linecolor": "white",
            "ticks": ""
           }
          },
          "title": {
           "x": 0.05
          },
          "xaxis": {
           "automargin": true,
           "gridcolor": "white",
           "linecolor": "white",
           "ticks": "",
           "title": {
            "standoff": 15
           },
           "zerolinecolor": "white",
           "zerolinewidth": 2
          },
          "yaxis": {
           "automargin": true,
           "gridcolor": "white",
           "linecolor": "white",
           "ticks": "",
           "title": {
            "standoff": 15
           },
           "zerolinecolor": "white",
           "zerolinewidth": 2
          }
         }
        },
        "xaxis": {
         "anchor": "y",
         "domain": [
          0,
          1
         ],
         "title": {
          "text": "x"
         }
        },
        "yaxis": {
         "anchor": "x",
         "domain": [
          0,
          1
         ],
         "title": {
          "text": "y"
         }
        }
       }
      }
     },
     "metadata": {},
     "output_type": "display_data"
    }
   ],
   "source": [
    "fig = px.scatter(x=data[:,0], y=data[:,1],hover_name=laser_names)\n",
    "fig.show()"
   ]
  },
  {
   "attachments": {},
   "cell_type": "markdown",
   "metadata": {},
   "source": [
    "If you have trouble calibrating cameras, then try the following:\n",
    "\n",
    "* Use intrinsic guess and set an initial postiion \n",
    "* Fix the lasers and use Bundle adjust lasers instead (needs a rough initial camera position) - note that you'll need more than one camera selected at a time since bundle adjustment rejects single camera scenarios\n",
    "\n"
   ]
  },
  {
   "cell_type": "code",
   "execution_count": 77,
   "metadata": {},
   "outputs": [
    {
     "data": {
      "text/plain": [
       "dict_keys(['Color', 'Selected', 'beamCaptures', 'date', 'directory', 'imagePointInCamera', 'linesWithCommonPointSolveResult', 'parameters', 'serialNumber', 'time', 'timestamp'])"
      ]
     },
     "execution_count": 77,
     "metadata": {},
     "output_type": "execute_result"
    }
   ],
   "source": [
    "def get_laser_capture(camera_capture, serialNumber):\n",
    "\tfor laser_capture in camera_capture['laserCaptures']['captures']:\n",
    "\t\tif int(laser_capture['serialNumber']) == serialNumber:\n",
    "\t\t\treturn laser_capture\n",
    "\n",
    "get_laser_capture(first_camera, 22).keys()"
   ]
  },
  {
   "cell_type": "code",
   "execution_count": 78,
   "metadata": {},
   "outputs": [],
   "source": [
    "# gather data\n",
    "data_points = []\n",
    "for camera_capture in calibrate_node['Content']['cameraCaptures']['captures']:\n",
    "\tfor laser_capture in camera_capture['laserCaptures']['captures']:\n",
    "\t\tif laser_capture['Selected']:\n",
    "\t\t\tdata_point = {}\n",
    "\t\t\tdata_point['Camera'] = \"{0} {1}\".format(camera_capture['date'], camera_capture['time'])\n",
    "\t\t\tdata_point['x'] = laser_capture['imagePointInCamera'][0]\n",
    "\t\t\tdata_point['y'] = laser_capture['imagePointInCamera'][1]\n",
    "\t\t\tdata_point['Laser'] = \"Laser {0}\".format(laser_capture['serialNumber'])\n",
    "\t\t\t\n",
    "\t\t\tif 'residual' in data_point:\n",
    "\t\t\t\tdata_point['residual'] = laser_capture['serialNumber']\n",
    "\t\t\telse:\n",
    "\t\t\t\tdata_point['residual'] = 0\n",
    "\t\t\t\t\n",
    "\t\t\t#count active beam captures\n",
    "\t\t\tactive_beam_capture_count = 0\n",
    "\t\t\tfor beam_capture in laser_capture['beamCaptures']['captures']:\n",
    "\t\t\t\tif beam_capture['Selected']:\n",
    "\t\t\t\t\tactive_beam_capture_count = active_beam_capture_count + 1\n",
    "\t\t\tdata_point['Active beam captures'] = active_beam_capture_count\n",
    "\t\t\t\n",
    "\t\t\tdata_points.append(data_point)\n",
    "\n"
   ]
  },
  {
   "cell_type": "markdown",
   "metadata": {},
   "source": [
    "# Figure 2\n",
    "\n",
    "Disable LaserCaptures until we have good looking ellipses below:"
   ]
  },
  {
   "cell_type": "markdown",
   "metadata": {},
   "source": [
    "Then we keep solving the intiial camera calibration, progressively removiving points with largest values until we get a good camera solve (e.g. values > 20k can be confusing for residuals)"
   ]
  },
  {
   "cell_type": "code",
   "execution_count": 79,
   "metadata": {},
   "outputs": [
    {
     "data": {
      "application/vnd.plotly.v1+json": {
       "config": {
        "plotlyServerURL": "https://plot.ly"
       },
       "data": [
        {
         "customdata": [
          [
           9
          ],
          [
           9
          ],
          [
           9
          ],
          [
           7
          ],
          [
           9
          ],
          [
           9
          ],
          [
           9
          ],
          [
           9
          ],
          [
           9
          ],
          [
           9
          ],
          [
           9
          ],
          [
           8
          ],
          [
           8
          ],
          [
           9
          ],
          [
           7
          ],
          [
           9
          ],
          [
           9
          ],
          [
           8
          ],
          [
           9
          ],
          [
           9
          ],
          [
           5
          ],
          [
           9
          ],
          [
           8
          ],
          [
           9
          ],
          [
           9
          ],
          [
           9
          ],
          [
           8
          ]
         ],
         "hovertemplate": "<b>%{hovertext}</b><br><br>Camera=Wed 2024.11.20 02:52<br>x=%{x}<br>y=%{y}<br>Active beam captures=%{customdata[0]}<extra></extra>",
         "hovertext": [
          "Laser 1",
          "Laser 2",
          "Laser 3",
          "Laser 4",
          "Laser 36",
          "Laser 6",
          "Laser 7",
          "Laser 8",
          "Laser 10",
          "Laser 27",
          "Laser 40",
          "Laser 13",
          "Laser 15",
          "Laser 16",
          "Laser 17",
          "Laser 18",
          "Laser 19",
          "Laser 20",
          "Laser 21",
          "Laser 22",
          "Laser 29",
          "Laser 30",
          "Laser 31",
          "Laser 32",
          "Laser 33",
          "Laser 38",
          "Laser 39"
         ],
         "legendgroup": "Wed 2024.11.20 02:52",
         "marker": {
          "color": "#636efa",
          "symbol": "circle"
         },
         "mode": "markers",
         "name": "Wed 2024.11.20 02:52",
         "orientation": "v",
         "showlegend": true,
         "type": "scatter",
         "x": [
          591.8245239257812,
          1228.6102294921875,
          1831.9752197265625,
          2463.404296875,
          3082.5859375,
          3643.890869140625,
          4264.037109375,
          4854.9248046875,
          5962.44384765625,
          6675.99951171875,
          7306.79345703125,
          7960.64404296875,
          9294.01171875,
          9991.001953125,
          10706.7763671875,
          11410.326171875,
          12248.3056640625,
          12714.951171875,
          13037.3759765625,
          13318.796875,
          -5285.76416015625,
          -5304.6650390625,
          -4870.9775390625,
          -4195.73193359375,
          -3561.4462890625,
          -2972.452880859375,
          -2307.192138671875
         ],
         "xaxis": "x",
         "y": [
          6617.15185546875,
          6696.8251953125,
          6747.9208984375,
          6780.7412109375,
          6819.275390625,
          6833.84521484375,
          6831.67822265625,
          6833.07958984375,
          6802.048828125,
          6767.27392578125,
          6706.0859375,
          6651.26708984375,
          6531.49365234375,
          6428.21044921875,
          6319.328125,
          6149.03173828125,
          5907.8134765625,
          5668.1796875,
          5374.0302734375,
          5012.111328125,
          4575.58447265625,
          5035.03515625,
          5418.71484375,
          5706.2177734375,
          5924.25048828125,
          6088.94287109375,
          6234.85546875
         ],
         "yaxis": "y"
        },
        {
         "customdata": [
          [
           4
          ],
          [
           4
          ],
          [
           4
          ],
          [
           4
          ],
          [
           4
          ],
          [
           4
          ],
          [
           4
          ],
          [
           4
          ],
          [
           4
          ],
          [
           4
          ],
          [
           3
          ],
          [
           4
          ],
          [
           4
          ],
          [
           4
          ],
          [
           3
          ],
          [
           4
          ],
          [
           4
          ],
          [
           3
          ],
          [
           4
          ],
          [
           4
          ],
          [
           4
          ],
          [
           4
          ],
          [
           3
          ],
          [
           4
          ],
          [
           4
          ],
          [
           4
          ],
          [
           4
          ]
         ],
         "hovertemplate": "<b>%{hovertext}</b><br><br>Camera=Wed 2024.11.20 03:43<br>x=%{x}<br>y=%{y}<br>Active beam captures=%{customdata[0]}<extra></extra>",
         "hovertext": [
          "Laser 1",
          "Laser 2",
          "Laser 3",
          "Laser 4",
          "Laser 36",
          "Laser 6",
          "Laser 7",
          "Laser 8",
          "Laser 10",
          "Laser 27",
          "Laser 40",
          "Laser 15",
          "Laser 16",
          "Laser 17",
          "Laser 18",
          "Laser 21",
          "Laser 22",
          "Laser 2",
          "Laser 8",
          "Laser 23",
          "Laser 25",
          "Laser 30",
          "Laser 31",
          "Laser 32",
          "Laser 33",
          "Laser 38",
          "Laser 39"
         ],
         "legendgroup": "Wed 2024.11.20 03:43",
         "marker": {
          "color": "#EF553B",
          "symbol": "circle"
         },
         "mode": "markers",
         "name": "Wed 2024.11.20 03:43",
         "orientation": "v",
         "showlegend": true,
         "type": "scatter",
         "x": [
          -2032.368896484375,
          2341.002197265625,
          6823.86669921875,
          11852.5185546875,
          17192.34765625,
          22147.267578125,
          27659.982421875,
          33310.234375,
          43558.90625,
          50092.07421875,
          54238.9375,
          68549.859375,
          70454.8359375,
          72045.8203125,
          68675.140625,
          42072.7890625,
          30649.037109375,
          2339.10400390625,
          33332.4375,
          17495.865234375,
          -6128.2529296875,
          -33126.13671875,
          -31473.76171875,
          -28712.408203125,
          -25633.30078125,
          -22439.59375,
          -18817.66015625
         ],
         "xaxis": "x",
         "y": [
          29544.591796875,
          30876.5,
          31807.654296875,
          32058.220703125,
          32138.6875,
          31341.76171875,
          29611.017578125,
          27579.521484375,
          21162.111328125,
          15556.126953125,
          9264.34375,
          -16721.1328125,
          -28039.439453125,
          -40456.03125,
          -52581.3515625,
          -76736.8046875,
          -82029.5,
          30820.916015625,
          27597.3515625,
          -80357.1796875,
          -72202.7109375,
          -4920.88623046875,
          1202.159423828125,
          6446.60546875,
          11391.263671875,
          15630.0791015625,
          19430.720703125
         ],
         "yaxis": "y"
        },
        {
         "customdata": [
          [
           2
          ],
          [
           2
          ],
          [
           2
          ],
          [
           3
          ],
          [
           2
          ],
          [
           3
          ],
          [
           3
          ],
          [
           3
          ],
          [
           3
          ],
          [
           3
          ],
          [
           3
          ],
          [
           3
          ],
          [
           3
          ],
          [
           4
          ],
          [
           4
          ],
          [
           4
          ],
          [
           3
          ],
          [
           4
          ],
          [
           4
          ],
          [
           4
          ],
          [
           2
          ],
          [
           4
          ],
          [
           4
          ],
          [
           3
          ],
          [
           3
          ],
          [
           4
          ],
          [
           4
          ],
          [
           3
          ],
          [
           3
          ],
          [
           3
          ],
          [
           2
          ]
         ],
         "hovertemplate": "<b>%{hovertext}</b><br><br>Camera=Wed 2024.11.20 23:51<br>x=%{x}<br>y=%{y}<br>Active beam captures=%{customdata[0]}<extra></extra>",
         "hovertext": [
          "Laser 1",
          "Laser 3",
          "Laser 4",
          "Laser 36",
          "Laser 6",
          "Laser 7",
          "Laser 8",
          "Laser 37",
          "Laser 10",
          "Laser 27",
          "Laser 40",
          "Laser 13",
          "Laser 35",
          "Laser 15",
          "Laser 16",
          "Laser 17",
          "Laser 18",
          "Laser 20",
          "Laser 21",
          "Laser 22",
          "Laser 23",
          "Laser 24",
          "Laser 25",
          "Laser 26",
          "Laser 29",
          "Laser 30",
          "Laser 31",
          "Laser 32",
          "Laser 33",
          "Laser 38",
          "Laser 39"
         ],
         "legendgroup": "Wed 2024.11.20 23:51",
         "marker": {
          "color": "#00cc96",
          "symbol": "circle"
         },
         "mode": "markers",
         "name": "Wed 2024.11.20 23:51",
         "orientation": "v",
         "showlegend": true,
         "type": "scatter",
         "x": [
          -59784.26171875,
          -38109.140625,
          -29307.591796875,
          -22592.314453125,
          -18030.689453125,
          -14147.40625,
          -11419.05078125,
          -9281.580078125,
          -7510.94921875,
          -5715.064453125,
          -4368.5009765625,
          -3193.1533203125,
          -2034.3680419921875,
          -1191.3099365234375,
          -313.0570983886719,
          442.47332763671875,
          1223.812255859375,
          2623.110595703125,
          3321.611083984375,
          4001.96142578125,
          4679.4443359375,
          5344.42529296875,
          6109.2109375,
          6829.89404296875,
          12022.0908203125,
          13291.4443359375,
          14426.5322265625,
          15262.431640625,
          16422.8984375,
          17827.359375,
          18919.8984375
         ],
         "xaxis": "x",
         "y": [
          -29716.908203125,
          -5809.07958984375,
          -1251.3448486328125,
          1445.2506103515625,
          2894.79541015625,
          3870.80712890625,
          4502.54296875,
          4922.55810546875,
          5203.58837890625,
          5468.35595703125,
          5608.3193359375,
          5739.9501953125,
          5850.45703125,
          5940.86376953125,
          5992.36474609375,
          6039.3125,
          6056.7265625,
          6050.34033203125,
          6040.1103515625,
          6028.0869140625,
          5987.28369140625,
          5945.087890625,
          5887.4296875,
          5848.42333984375,
          4769.19921875,
          4314.59326171875,
          3784.186767578125,
          3076.642822265625,
          1858.5267333984375,
          -239.2524871826172,
          -4357.18994140625
         ],
         "yaxis": "y"
        },
        {
         "customdata": [
          [
           2
          ],
          [
           2
          ],
          [
           4
          ],
          [
           4
          ],
          [
           3
          ],
          [
           3
          ],
          [
           2
          ],
          [
           3
          ],
          [
           3
          ],
          [
           4
          ],
          [
           4
          ],
          [
           4
          ],
          [
           3
          ],
          [
           4
          ],
          [
           4
          ],
          [
           4
          ],
          [
           3
          ],
          [
           4
          ],
          [
           4
          ],
          [
           4
          ],
          [
           4
          ],
          [
           4
          ],
          [
           4
          ],
          [
           4
          ],
          [
           4
          ],
          [
           4
          ],
          [
           3
          ],
          [
           4
          ],
          [
           4
          ],
          [
           3
          ]
         ],
         "hovertemplate": "<b>%{hovertext}</b><br><br>Camera=Thu 2024.11.21 00:00<br>x=%{x}<br>y=%{y}<br>Active beam captures=%{customdata[0]}<extra></extra>",
         "hovertext": [
          "Laser 3",
          "Laser 4",
          "Laser 36",
          "Laser 6",
          "Laser 7",
          "Laser 8",
          "Laser 37",
          "Laser 10",
          "Laser 27",
          "Laser 40",
          "Laser 13",
          "Laser 35",
          "Laser 15",
          "Laser 16",
          "Laser 17",
          "Laser 18",
          "Laser 20",
          "Laser 21",
          "Laser 22",
          "Laser 23",
          "Laser 24",
          "Laser 25",
          "Laser 26",
          "Laser 29",
          "Laser 30",
          "Laser 31",
          "Laser 32",
          "Laser 33",
          "Laser 38",
          "Laser 39"
         ],
         "legendgroup": "Thu 2024.11.21 00:00",
         "marker": {
          "color": "#ab63fa",
          "symbol": "circle"
         },
         "mode": "markers",
         "name": "Thu 2024.11.21 00:00",
         "orientation": "v",
         "showlegend": true,
         "type": "scatter",
         "x": [
          -4533.4814453125,
          -25037.205078125,
          -32163.490234375,
          -28768.0703125,
          -23430.900390625,
          -19272.93359375,
          -15852.7060546875,
          -12844.4365234375,
          -10099.8076171875,
          -8112.7392578125,
          -6457.09326171875,
          -4843.994140625,
          -3781.6669921875,
          -2669.983642578125,
          -1763.7564697265625,
          -830.4058227539062,
          755.048583984375,
          1534.838134765625,
          2251.77783203125,
          2956.70166015625,
          3623.62158203125,
          4354.55126953125,
          5043.29736328125,
          9561.828125,
          10576.4658203125,
          11529.130859375,
          12422.904296875,
          13597.4521484375,
          15063.39453125,
          16881.927734375
         ],
         "xaxis": "x",
         "y": [
          -19564.02734375,
          -19144.69921875,
          -11651.7783203125,
          -5247.294921875,
          -975.6013793945312,
          1435.7308349609375,
          2903.83984375,
          3851.654296875,
          4629.48486328125,
          5049.00146484375,
          5391.41455078125,
          5673.2939453125,
          5875.4677734375,
          6010.61767578125,
          6123.38818359375,
          6195.3271484375,
          6271.7646484375,
          6299.9794921875,
          6324.5556640625,
          6319.92529296875,
          6312.33642578125,
          6297.5078125,
          6299.80419921875,
          5815.7001953125,
          5634.82177734375,
          5440.1142578125,
          5180.76318359375,
          4783.18115234375,
          4216.58740234375,
          3349.293212890625
         ],
         "yaxis": "y"
        },
        {
         "customdata": [
          [
           8
          ],
          [
           9
          ],
          [
           9
          ],
          [
           8
          ]
         ],
         "hovertemplate": "<b>%{hovertext}</b><br><br>Camera=Thu 2024.11.21 00:36<br>x=%{x}<br>y=%{y}<br>Active beam captures=%{customdata[0]}<extra></extra>",
         "hovertext": [
          "Laser 1",
          "Laser 36",
          "Laser 10",
          "Laser 39"
         ],
         "legendgroup": "Thu 2024.11.21 00:36",
         "marker": {
          "color": "#FFA15A",
          "symbol": "circle"
         },
         "mode": "markers",
         "name": "Thu 2024.11.21 00:36",
         "orientation": "v",
         "showlegend": true,
         "type": "scatter",
         "x": [
          25991.984375,
          -19114.55859375,
          -42904.453125,
          46917.36328125
         ],
         "xaxis": "x",
         "y": [
          -55960,
          -63197.12109375,
          -20087.451171875,
          -19761.306640625
         ],
         "yaxis": "y"
        },
        {
         "customdata": [
          [
           9
          ],
          [
           9
          ],
          [
           9
          ]
         ],
         "hovertemplate": "<b>%{hovertext}</b><br><br>Camera=Thu 2024.11.21 00:55<br>x=%{x}<br>y=%{y}<br>Active beam captures=%{customdata[0]}<extra></extra>",
         "hovertext": [
          "Laser 1",
          "Laser 19",
          "Laser 39"
         ],
         "legendgroup": "Thu 2024.11.21 00:55",
         "marker": {
          "color": "#19d3f3",
          "symbol": "circle"
         },
         "mode": "markers",
         "name": "Thu 2024.11.21 00:55",
         "orientation": "v",
         "showlegend": true,
         "type": "scatter",
         "x": [
          25979.90625,
          -16125.9580078125,
          46891.875
         ],
         "xaxis": "x",
         "y": [
          -55938.14453125,
          26786.14453125,
          -19753.11328125
         ],
         "yaxis": "y"
        },
        {
         "customdata": [
          [
           9
          ],
          [
           9
          ],
          [
           1
          ],
          [
           9
          ],
          [
           9
          ],
          [
           8
          ],
          [
           9
          ]
         ],
         "hovertemplate": "<b>%{hovertext}</b><br><br>Camera=Thu 2024.11.21 03:25<br>x=%{x}<br>y=%{y}<br>Active beam captures=%{customdata[0]}<extra></extra>",
         "hovertext": [
          "Laser 6",
          "Laser 18",
          "Laser 19",
          "Laser 20",
          "Laser 24",
          "Laser 30",
          "Laser 38"
         ],
         "legendgroup": "Thu 2024.11.21 03:25",
         "marker": {
          "color": "#FF6692",
          "symbol": "circle"
         },
         "mode": "markers",
         "name": "Thu 2024.11.21 03:25",
         "orientation": "v",
         "showlegend": true,
         "type": "scatter",
         "x": [
          8649.015625,
          23206.798828125,
          0,
          11289.62890625,
          -16749.955078125,
          -3571.927001953125,
          249.44447326660156
         ],
         "xaxis": "x",
         "y": [
          8765.8662109375,
          -1392.840576171875,
          0,
          -9198.3701171875,
          -1114.680419921875,
          7894.7392578125,
          8500.951171875
         ],
         "yaxis": "y"
        }
       ],
       "layout": {
        "legend": {
         "title": {
          "text": "Camera"
         },
         "tracegroupgap": 0
        },
        "margin": {
         "t": 60
        },
        "template": {
         "data": {
          "bar": [
           {
            "error_x": {
             "color": "#2a3f5f"
            },
            "error_y": {
             "color": "#2a3f5f"
            },
            "marker": {
             "line": {
              "color": "#E5ECF6",
              "width": 0.5
             },
             "pattern": {
              "fillmode": "overlay",
              "size": 10,
              "solidity": 0.2
             }
            },
            "type": "bar"
           }
          ],
          "barpolar": [
           {
            "marker": {
             "line": {
              "color": "#E5ECF6",
              "width": 0.5
             },
             "pattern": {
              "fillmode": "overlay",
              "size": 10,
              "solidity": 0.2
             }
            },
            "type": "barpolar"
           }
          ],
          "carpet": [
           {
            "aaxis": {
             "endlinecolor": "#2a3f5f",
             "gridcolor": "white",
             "linecolor": "white",
             "minorgridcolor": "white",
             "startlinecolor": "#2a3f5f"
            },
            "baxis": {
             "endlinecolor": "#2a3f5f",
             "gridcolor": "white",
             "linecolor": "white",
             "minorgridcolor": "white",
             "startlinecolor": "#2a3f5f"
            },
            "type": "carpet"
           }
          ],
          "choropleth": [
           {
            "colorbar": {
             "outlinewidth": 0,
             "ticks": ""
            },
            "type": "choropleth"
           }
          ],
          "contour": [
           {
            "colorbar": {
             "outlinewidth": 0,
             "ticks": ""
            },
            "colorscale": [
             [
              0,
              "#0d0887"
             ],
             [
              0.1111111111111111,
              "#46039f"
             ],
             [
              0.2222222222222222,
              "#7201a8"
             ],
             [
              0.3333333333333333,
              "#9c179e"
             ],
             [
              0.4444444444444444,
              "#bd3786"
             ],
             [
              0.5555555555555556,
              "#d8576b"
             ],
             [
              0.6666666666666666,
              "#ed7953"
             ],
             [
              0.7777777777777778,
              "#fb9f3a"
             ],
             [
              0.8888888888888888,
              "#fdca26"
             ],
             [
              1,
              "#f0f921"
             ]
            ],
            "type": "contour"
           }
          ],
          "contourcarpet": [
           {
            "colorbar": {
             "outlinewidth": 0,
             "ticks": ""
            },
            "type": "contourcarpet"
           }
          ],
          "heatmap": [
           {
            "colorbar": {
             "outlinewidth": 0,
             "ticks": ""
            },
            "colorscale": [
             [
              0,
              "#0d0887"
             ],
             [
              0.1111111111111111,
              "#46039f"
             ],
             [
              0.2222222222222222,
              "#7201a8"
             ],
             [
              0.3333333333333333,
              "#9c179e"
             ],
             [
              0.4444444444444444,
              "#bd3786"
             ],
             [
              0.5555555555555556,
              "#d8576b"
             ],
             [
              0.6666666666666666,
              "#ed7953"
             ],
             [
              0.7777777777777778,
              "#fb9f3a"
             ],
             [
              0.8888888888888888,
              "#fdca26"
             ],
             [
              1,
              "#f0f921"
             ]
            ],
            "type": "heatmap"
           }
          ],
          "heatmapgl": [
           {
            "colorbar": {
             "outlinewidth": 0,
             "ticks": ""
            },
            "colorscale": [
             [
              0,
              "#0d0887"
             ],
             [
              0.1111111111111111,
              "#46039f"
             ],
             [
              0.2222222222222222,
              "#7201a8"
             ],
             [
              0.3333333333333333,
              "#9c179e"
             ],
             [
              0.4444444444444444,
              "#bd3786"
             ],
             [
              0.5555555555555556,
              "#d8576b"
             ],
             [
              0.6666666666666666,
              "#ed7953"
             ],
             [
              0.7777777777777778,
              "#fb9f3a"
             ],
             [
              0.8888888888888888,
              "#fdca26"
             ],
             [
              1,
              "#f0f921"
             ]
            ],
            "type": "heatmapgl"
           }
          ],
          "histogram": [
           {
            "marker": {
             "pattern": {
              "fillmode": "overlay",
              "size": 10,
              "solidity": 0.2
             }
            },
            "type": "histogram"
           }
          ],
          "histogram2d": [
           {
            "colorbar": {
             "outlinewidth": 0,
             "ticks": ""
            },
            "colorscale": [
             [
              0,
              "#0d0887"
             ],
             [
              0.1111111111111111,
              "#46039f"
             ],
             [
              0.2222222222222222,
              "#7201a8"
             ],
             [
              0.3333333333333333,
              "#9c179e"
             ],
             [
              0.4444444444444444,
              "#bd3786"
             ],
             [
              0.5555555555555556,
              "#d8576b"
             ],
             [
              0.6666666666666666,
              "#ed7953"
             ],
             [
              0.7777777777777778,
              "#fb9f3a"
             ],
             [
              0.8888888888888888,
              "#fdca26"
             ],
             [
              1,
              "#f0f921"
             ]
            ],
            "type": "histogram2d"
           }
          ],
          "histogram2dcontour": [
           {
            "colorbar": {
             "outlinewidth": 0,
             "ticks": ""
            },
            "colorscale": [
             [
              0,
              "#0d0887"
             ],
             [
              0.1111111111111111,
              "#46039f"
             ],
             [
              0.2222222222222222,
              "#7201a8"
             ],
             [
              0.3333333333333333,
              "#9c179e"
             ],
             [
              0.4444444444444444,
              "#bd3786"
             ],
             [
              0.5555555555555556,
              "#d8576b"
             ],
             [
              0.6666666666666666,
              "#ed7953"
             ],
             [
              0.7777777777777778,
              "#fb9f3a"
             ],
             [
              0.8888888888888888,
              "#fdca26"
             ],
             [
              1,
              "#f0f921"
             ]
            ],
            "type": "histogram2dcontour"
           }
          ],
          "mesh3d": [
           {
            "colorbar": {
             "outlinewidth": 0,
             "ticks": ""
            },
            "type": "mesh3d"
           }
          ],
          "parcoords": [
           {
            "line": {
             "colorbar": {
              "outlinewidth": 0,
              "ticks": ""
             }
            },
            "type": "parcoords"
           }
          ],
          "pie": [
           {
            "automargin": true,
            "type": "pie"
           }
          ],
          "scatter": [
           {
            "fillpattern": {
             "fillmode": "overlay",
             "size": 10,
             "solidity": 0.2
            },
            "type": "scatter"
           }
          ],
          "scatter3d": [
           {
            "line": {
             "colorbar": {
              "outlinewidth": 0,
              "ticks": ""
             }
            },
            "marker": {
             "colorbar": {
              "outlinewidth": 0,
              "ticks": ""
             }
            },
            "type": "scatter3d"
           }
          ],
          "scattercarpet": [
           {
            "marker": {
             "colorbar": {
              "outlinewidth": 0,
              "ticks": ""
             }
            },
            "type": "scattercarpet"
           }
          ],
          "scattergeo": [
           {
            "marker": {
             "colorbar": {
              "outlinewidth": 0,
              "ticks": ""
             }
            },
            "type": "scattergeo"
           }
          ],
          "scattergl": [
           {
            "marker": {
             "colorbar": {
              "outlinewidth": 0,
              "ticks": ""
             }
            },
            "type": "scattergl"
           }
          ],
          "scattermapbox": [
           {
            "marker": {
             "colorbar": {
              "outlinewidth": 0,
              "ticks": ""
             }
            },
            "type": "scattermapbox"
           }
          ],
          "scatterpolar": [
           {
            "marker": {
             "colorbar": {
              "outlinewidth": 0,
              "ticks": ""
             }
            },
            "type": "scatterpolar"
           }
          ],
          "scatterpolargl": [
           {
            "marker": {
             "colorbar": {
              "outlinewidth": 0,
              "ticks": ""
             }
            },
            "type": "scatterpolargl"
           }
          ],
          "scatterternary": [
           {
            "marker": {
             "colorbar": {
              "outlinewidth": 0,
              "ticks": ""
             }
            },
            "type": "scatterternary"
           }
          ],
          "surface": [
           {
            "colorbar": {
             "outlinewidth": 0,
             "ticks": ""
            },
            "colorscale": [
             [
              0,
              "#0d0887"
             ],
             [
              0.1111111111111111,
              "#46039f"
             ],
             [
              0.2222222222222222,
              "#7201a8"
             ],
             [
              0.3333333333333333,
              "#9c179e"
             ],
             [
              0.4444444444444444,
              "#bd3786"
             ],
             [
              0.5555555555555556,
              "#d8576b"
             ],
             [
              0.6666666666666666,
              "#ed7953"
             ],
             [
              0.7777777777777778,
              "#fb9f3a"
             ],
             [
              0.8888888888888888,
              "#fdca26"
             ],
             [
              1,
              "#f0f921"
             ]
            ],
            "type": "surface"
           }
          ],
          "table": [
           {
            "cells": {
             "fill": {
              "color": "#EBF0F8"
             },
             "line": {
              "color": "white"
             }
            },
            "header": {
             "fill": {
              "color": "#C8D4E3"
             },
             "line": {
              "color": "white"
             }
            },
            "type": "table"
           }
          ]
         },
         "layout": {
          "annotationdefaults": {
           "arrowcolor": "#2a3f5f",
           "arrowhead": 0,
           "arrowwidth": 1
          },
          "autotypenumbers": "strict",
          "coloraxis": {
           "colorbar": {
            "outlinewidth": 0,
            "ticks": ""
           }
          },
          "colorscale": {
           "diverging": [
            [
             0,
             "#8e0152"
            ],
            [
             0.1,
             "#c51b7d"
            ],
            [
             0.2,
             "#de77ae"
            ],
            [
             0.3,
             "#f1b6da"
            ],
            [
             0.4,
             "#fde0ef"
            ],
            [
             0.5,
             "#f7f7f7"
            ],
            [
             0.6,
             "#e6f5d0"
            ],
            [
             0.7,
             "#b8e186"
            ],
            [
             0.8,
             "#7fbc41"
            ],
            [
             0.9,
             "#4d9221"
            ],
            [
             1,
             "#276419"
            ]
           ],
           "sequential": [
            [
             0,
             "#0d0887"
            ],
            [
             0.1111111111111111,
             "#46039f"
            ],
            [
             0.2222222222222222,
             "#7201a8"
            ],
            [
             0.3333333333333333,
             "#9c179e"
            ],
            [
             0.4444444444444444,
             "#bd3786"
            ],
            [
             0.5555555555555556,
             "#d8576b"
            ],
            [
             0.6666666666666666,
             "#ed7953"
            ],
            [
             0.7777777777777778,
             "#fb9f3a"
            ],
            [
             0.8888888888888888,
             "#fdca26"
            ],
            [
             1,
             "#f0f921"
            ]
           ],
           "sequentialminus": [
            [
             0,
             "#0d0887"
            ],
            [
             0.1111111111111111,
             "#46039f"
            ],
            [
             0.2222222222222222,
             "#7201a8"
            ],
            [
             0.3333333333333333,
             "#9c179e"
            ],
            [
             0.4444444444444444,
             "#bd3786"
            ],
            [
             0.5555555555555556,
             "#d8576b"
            ],
            [
             0.6666666666666666,
             "#ed7953"
            ],
            [
             0.7777777777777778,
             "#fb9f3a"
            ],
            [
             0.8888888888888888,
             "#fdca26"
            ],
            [
             1,
             "#f0f921"
            ]
           ]
          },
          "colorway": [
           "#636efa",
           "#EF553B",
           "#00cc96",
           "#ab63fa",
           "#FFA15A",
           "#19d3f3",
           "#FF6692",
           "#B6E880",
           "#FF97FF",
           "#FECB52"
          ],
          "font": {
           "color": "#2a3f5f"
          },
          "geo": {
           "bgcolor": "white",
           "lakecolor": "white",
           "landcolor": "#E5ECF6",
           "showlakes": true,
           "showland": true,
           "subunitcolor": "white"
          },
          "hoverlabel": {
           "align": "left"
          },
          "hovermode": "closest",
          "mapbox": {
           "style": "light"
          },
          "paper_bgcolor": "white",
          "plot_bgcolor": "#E5ECF6",
          "polar": {
           "angularaxis": {
            "gridcolor": "white",
            "linecolor": "white",
            "ticks": ""
           },
           "bgcolor": "#E5ECF6",
           "radialaxis": {
            "gridcolor": "white",
            "linecolor": "white",
            "ticks": ""
           }
          },
          "scene": {
           "xaxis": {
            "backgroundcolor": "#E5ECF6",
            "gridcolor": "white",
            "gridwidth": 2,
            "linecolor": "white",
            "showbackground": true,
            "ticks": "",
            "zerolinecolor": "white"
           },
           "yaxis": {
            "backgroundcolor": "#E5ECF6",
            "gridcolor": "white",
            "gridwidth": 2,
            "linecolor": "white",
            "showbackground": true,
            "ticks": "",
            "zerolinecolor": "white"
           },
           "zaxis": {
            "backgroundcolor": "#E5ECF6",
            "gridcolor": "white",
            "gridwidth": 2,
            "linecolor": "white",
            "showbackground": true,
            "ticks": "",
            "zerolinecolor": "white"
           }
          },
          "shapedefaults": {
           "line": {
            "color": "#2a3f5f"
           }
          },
          "ternary": {
           "aaxis": {
            "gridcolor": "white",
            "linecolor": "white",
            "ticks": ""
           },
           "baxis": {
            "gridcolor": "white",
            "linecolor": "white",
            "ticks": ""
           },
           "bgcolor": "#E5ECF6",
           "caxis": {
            "gridcolor": "white",
            "linecolor": "white",
            "ticks": ""
           }
          },
          "title": {
           "x": 0.05
          },
          "xaxis": {
           "automargin": true,
           "gridcolor": "white",
           "linecolor": "white",
           "ticks": "",
           "title": {
            "standoff": 15
           },
           "zerolinecolor": "white",
           "zerolinewidth": 2
          },
          "yaxis": {
           "automargin": true,
           "gridcolor": "white",
           "linecolor": "white",
           "ticks": "",
           "title": {
            "standoff": 15
           },
           "zerolinecolor": "white",
           "zerolinewidth": 2
          }
         }
        },
        "xaxis": {
         "anchor": "y",
         "domain": [
          0,
          1
         ],
         "title": {
          "text": "x"
         }
        },
        "yaxis": {
         "anchor": "x",
         "autorange": "reversed",
         "domain": [
          0,
          1
         ],
         "title": {
          "text": "y"
         }
        }
       }
      }
     },
     "metadata": {},
     "output_type": "display_data"
    }
   ],
   "source": [
    "fig = px.scatter(data_points\n",
    "\t, x='x'\n",
    "\t, y='y'\n",
    "\t, hover_name='Laser'\n",
    "\t, hover_data=['Active beam captures']\n",
    "\t, color='Camera')\n",
    "fig.update_yaxes(autorange=\"reversed\")\n",
    "fig.show()"
   ]
  },
  {
   "cell_type": "code",
   "execution_count": 80,
   "metadata": {},
   "outputs": [
    {
     "name": "stdout",
     "output_type": "stream",
     "text": [
      "{'Camera': 'Thu 2024.11.21 03:25', 'x': 0.0, 'y': 0.0, 'Laser': 'Laser 19', 'residual': 0, 'Active beam captures': 1}\n"
     ]
    }
   ],
   "source": [
    "for data_point in data_points:\n",
    "\tif data_point['x'] == 0:\n",
    "\t\tprint(data_point)"
   ]
  },
  {
   "cell_type": "code",
   "execution_count": 81,
   "metadata": {},
   "outputs": [
    {
     "data": {
      "text/plain": [
       "'Wed 2024.11.20'"
      ]
     },
     "execution_count": 81,
     "metadata": {},
     "output_type": "execute_result"
    }
   ],
   "source": [
    "calibrate_node['Content']['cameraCaptures']['captures'][0]['date']"
   ]
  },
  {
   "cell_type": "markdown",
   "metadata": {},
   "source": [
    "# Figure 3\n",
    "\n",
    "Two figures below show where most of the errors are.\n",
    "\n",
    "Generally we use the `Prune/Beam captures by residual` function on the Calibrate node (e.g. with a value of 1000px).\n",
    "\n",
    "Note that all camera captures are shown, even if they are deselected.\n",
    "\n",
    "check\n",
    "https://paper.dropbox.com/doc/KC68KC72-Calibration-log-v2--Bh4BhpiBl8CL5XP2Buzoq82GAg-zJiuoF5tDxpK6u18Sw23M#:uid=745312935561881238403951&h2=Athens-night-calibration-log\n"
   ]
  },
  {
   "cell_type": "markdown",
   "metadata": {},
   "source": []
  },
  {
   "cell_type": "code",
   "execution_count": 82,
   "metadata": {},
   "outputs": [
    {
     "data": {
      "application/vnd.plotly.v1+json": {
       "config": {
        "plotlyServerURL": "https://plot.ly"
       },
       "data": [
        {
         "alignmentgroup": "True",
         "customdata": [
          [
           0,
           -0.5,
           -0.5
          ],
          [
           1,
           0,
           -0.5
          ],
          [
           2,
           0.5,
           -0.5
          ],
          [
           3,
           -0.5,
           0
          ],
          [
           4,
           0,
           0
          ],
          [
           5,
           0.5,
           0
          ],
          [
           6,
           -0.5,
           0.5
          ],
          [
           7,
           0,
           0.5
          ],
          [
           8,
           0.5,
           0.5
          ],
          [
           0,
           -0.5,
           -0.5
          ],
          [
           1,
           0,
           -0.5
          ],
          [
           2,
           0.5,
           -0.5
          ],
          [
           3,
           -0.5,
           0
          ],
          [
           4,
           0,
           0
          ],
          [
           5,
           0.5,
           0
          ],
          [
           6,
           -0.5,
           0.5
          ],
          [
           7,
           0,
           0.5
          ],
          [
           8,
           0.5,
           0.5
          ],
          [
           0,
           -0.5,
           -0.5
          ],
          [
           1,
           0,
           -0.5
          ],
          [
           2,
           0.5,
           -0.5
          ],
          [
           3,
           -0.5,
           0
          ],
          [
           4,
           0,
           0
          ],
          [
           5,
           0.5,
           0
          ],
          [
           6,
           -0.5,
           0.5
          ],
          [
           7,
           0,
           0.5
          ],
          [
           8,
           0.5,
           0.5
          ],
          [
           0,
           0,
           -0.5
          ],
          [
           1,
           0.5,
           -0.5
          ],
          [
           2,
           -0.5,
           0
          ],
          [
           3,
           0.5,
           0
          ],
          [
           4,
           -0.5,
           0.5
          ],
          [
           5,
           0,
           0.5
          ],
          [
           6,
           0.5,
           0.5
          ],
          [
           0,
           -0.5,
           -0.5
          ],
          [
           1,
           0,
           -0.5
          ],
          [
           2,
           0.5,
           -0.5
          ],
          [
           3,
           -0.5,
           0
          ],
          [
           4,
           0,
           0
          ],
          [
           5,
           0.5,
           0
          ],
          [
           6,
           -0.5,
           0.5
          ],
          [
           7,
           0,
           0.5
          ],
          [
           8,
           0.5,
           0.5
          ],
          [
           0,
           -0.5,
           -0.5
          ],
          [
           1,
           0,
           -0.5
          ],
          [
           2,
           0.5,
           -0.5
          ],
          [
           3,
           -0.5,
           0
          ],
          [
           4,
           0,
           0
          ],
          [
           5,
           0.5,
           0
          ],
          [
           6,
           -0.5,
           0.5
          ],
          [
           7,
           0,
           0.5
          ],
          [
           8,
           0.5,
           0.5
          ],
          [
           0,
           -0.5,
           -0.5
          ],
          [
           1,
           0,
           -0.5
          ],
          [
           2,
           0.5,
           -0.5
          ],
          [
           3,
           -0.5,
           0
          ],
          [
           4,
           0,
           0
          ],
          [
           5,
           0.5,
           0
          ],
          [
           6,
           -0.5,
           0.5
          ],
          [
           7,
           0,
           0.5
          ],
          [
           8,
           0.5,
           0.5
          ],
          [
           0,
           -0.5,
           -0.5
          ],
          [
           1,
           0,
           -0.5
          ],
          [
           2,
           0.5,
           -0.5
          ],
          [
           3,
           -0.5,
           0
          ],
          [
           4,
           0,
           0
          ],
          [
           5,
           0.5,
           0
          ],
          [
           6,
           -0.5,
           0.5
          ],
          [
           7,
           0,
           0.5
          ],
          [
           8,
           0.5,
           0.5
          ],
          [
           0,
           -0.5,
           -0.5
          ],
          [
           1,
           0,
           -0.5
          ],
          [
           2,
           0.5,
           -0.5
          ],
          [
           3,
           -0.5,
           0
          ],
          [
           4,
           0,
           0
          ],
          [
           5,
           0.5,
           0
          ],
          [
           6,
           -0.5,
           0.5
          ],
          [
           7,
           0,
           0.5
          ],
          [
           8,
           0.5,
           0.5
          ],
          [
           0,
           -0.5,
           -0.5
          ],
          [
           1,
           0,
           -0.5
          ],
          [
           2,
           0.5,
           -0.5
          ],
          [
           3,
           -0.5,
           0
          ],
          [
           4,
           0,
           0
          ],
          [
           5,
           0.5,
           0
          ],
          [
           6,
           -0.5,
           0.5
          ],
          [
           7,
           0,
           0.5
          ],
          [
           8,
           0.5,
           0.5
          ],
          [
           0,
           -0.5,
           -0.5
          ],
          [
           1,
           0,
           -0.5
          ],
          [
           2,
           0.5,
           -0.5
          ],
          [
           3,
           -0.5,
           0
          ],
          [
           4,
           0,
           0
          ],
          [
           5,
           0.5,
           0
          ],
          [
           6,
           -0.5,
           0.5
          ],
          [
           7,
           0,
           0.5
          ],
          [
           8,
           0.5,
           0.5
          ],
          [
           0,
           0,
           -0.5
          ],
          [
           1,
           0.5,
           -0.5
          ],
          [
           2,
           -0.5,
           0
          ],
          [
           3,
           0,
           0
          ],
          [
           4,
           0.5,
           0
          ],
          [
           5,
           -0.5,
           0.5
          ],
          [
           6,
           0,
           0.5
          ],
          [
           7,
           0.5,
           0.5
          ],
          [
           0,
           -0.5,
           -0.5
          ],
          [
           1,
           0,
           -0.5
          ],
          [
           2,
           0.5,
           -0.5
          ],
          [
           3,
           -0.5,
           0
          ],
          [
           4,
           0.5,
           0
          ],
          [
           5,
           -0.5,
           0.5
          ],
          [
           6,
           0,
           0.5
          ],
          [
           7,
           0.5,
           0.5
          ],
          [
           0,
           -0.5,
           -0.5
          ],
          [
           1,
           0,
           -0.5
          ],
          [
           2,
           0.5,
           -0.5
          ],
          [
           3,
           -0.5,
           0
          ],
          [
           4,
           0,
           0
          ],
          [
           5,
           0.5,
           0
          ],
          [
           6,
           -0.5,
           0.5
          ],
          [
           7,
           0,
           0.5
          ],
          [
           8,
           0.5,
           0.5
          ],
          [
           0,
           -0.5,
           -0.5
          ],
          [
           1,
           -0.5,
           0
          ],
          [
           2,
           0,
           0
          ],
          [
           3,
           0.5,
           0
          ],
          [
           4,
           -0.5,
           0.5
          ],
          [
           5,
           0,
           0.5
          ],
          [
           6,
           0.5,
           0.5
          ],
          [
           0,
           -0.5,
           -0.5
          ],
          [
           1,
           0,
           -0.5
          ],
          [
           2,
           0.5,
           -0.5
          ],
          [
           3,
           -0.5,
           0
          ],
          [
           4,
           0,
           0
          ],
          [
           5,
           0.5,
           0
          ],
          [
           6,
           -0.5,
           0.5
          ],
          [
           7,
           0,
           0.5
          ],
          [
           8,
           0.5,
           0.5
          ],
          [
           0,
           -0.5,
           -0.5
          ],
          [
           1,
           0,
           -0.5
          ],
          [
           2,
           0.5,
           -0.5
          ],
          [
           3,
           -0.5,
           0
          ],
          [
           4,
           0,
           0
          ],
          [
           5,
           0.5,
           0
          ],
          [
           6,
           -0.5,
           0.5
          ],
          [
           7,
           0,
           0.5
          ],
          [
           8,
           0.5,
           0.5
          ],
          [
           0,
           -0.5,
           -0.5
          ],
          [
           1,
           0.5,
           -0.5
          ],
          [
           2,
           -0.5,
           0
          ],
          [
           3,
           0,
           0
          ],
          [
           4,
           0.5,
           0
          ],
          [
           5,
           -0.5,
           0.5
          ],
          [
           6,
           0,
           0.5
          ],
          [
           7,
           0.5,
           0.5
          ],
          [
           0,
           -0.5,
           -0.5
          ],
          [
           1,
           0,
           -0.5
          ],
          [
           2,
           0.5,
           -0.5
          ],
          [
           3,
           -0.5,
           0
          ],
          [
           4,
           0,
           0
          ],
          [
           5,
           0.5,
           0
          ],
          [
           6,
           -0.5,
           0.5
          ],
          [
           7,
           0,
           0.5
          ],
          [
           8,
           0.5,
           0.5
          ],
          [
           0,
           -0.5,
           -0.5
          ],
          [
           1,
           0,
           -0.5
          ],
          [
           2,
           0.5,
           -0.5
          ],
          [
           3,
           -0.5,
           0
          ],
          [
           4,
           0,
           0
          ],
          [
           5,
           0.5,
           0
          ],
          [
           6,
           -0.5,
           0.5
          ],
          [
           7,
           0,
           0.5
          ],
          [
           8,
           0.5,
           0.5
          ],
          [
           0,
           0,
           0
          ],
          [
           1,
           0.5,
           0
          ],
          [
           2,
           -0.5,
           0.5
          ],
          [
           3,
           0,
           0.5
          ],
          [
           4,
           0.5,
           0.5
          ],
          [
           0,
           -0.5,
           -0.5
          ],
          [
           1,
           0,
           -0.5
          ],
          [
           2,
           0.5,
           -0.5
          ],
          [
           3,
           -0.5,
           0
          ],
          [
           4,
           0,
           0
          ],
          [
           5,
           0.5,
           0
          ],
          [
           6,
           -0.5,
           0.5
          ],
          [
           7,
           0,
           0.5
          ],
          [
           8,
           0.5,
           0.5
          ],
          [
           0,
           -0.5,
           -0.5
          ],
          [
           1,
           0.5,
           -0.5
          ],
          [
           2,
           -0.5,
           0
          ],
          [
           3,
           0,
           0
          ],
          [
           4,
           0.5,
           0
          ],
          [
           5,
           -0.5,
           0.5
          ],
          [
           6,
           0,
           0.5
          ],
          [
           7,
           0.5,
           0.5
          ],
          [
           0,
           -0.5,
           -0.5
          ],
          [
           1,
           0,
           -0.5
          ],
          [
           2,
           0.5,
           -0.5
          ],
          [
           3,
           -0.5,
           0
          ],
          [
           4,
           0,
           0
          ],
          [
           5,
           0.5,
           0
          ],
          [
           6,
           -0.5,
           0.5
          ],
          [
           7,
           0,
           0.5
          ],
          [
           8,
           0.5,
           0.5
          ],
          [
           0,
           -0.5,
           -0.5
          ],
          [
           1,
           0,
           -0.5
          ],
          [
           2,
           0.5,
           -0.5
          ],
          [
           3,
           -0.5,
           0
          ],
          [
           4,
           0,
           0
          ],
          [
           5,
           0.5,
           0
          ],
          [
           6,
           -0.5,
           0.5
          ],
          [
           7,
           0,
           0.5
          ],
          [
           8,
           0.5,
           0.5
          ],
          [
           0,
           -0.5,
           -0.5
          ],
          [
           1,
           0,
           -0.5
          ],
          [
           2,
           0.5,
           -0.5
          ],
          [
           3,
           -0.5,
           0
          ],
          [
           4,
           0,
           0
          ],
          [
           5,
           0.5,
           0
          ],
          [
           6,
           -0.5,
           0.5
          ],
          [
           7,
           0,
           0.5
          ],
          [
           8,
           0.5,
           0.5
          ],
          [
           0,
           -0.5,
           -0.5
          ],
          [
           1,
           0,
           -0.5
          ],
          [
           2,
           0.5,
           -0.5
          ],
          [
           3,
           -0.5,
           0
          ],
          [
           4,
           0,
           0
          ],
          [
           5,
           0.5,
           0
          ],
          [
           6,
           -0.5,
           0.5
          ],
          [
           7,
           0,
           0.5
          ],
          [
           0,
           -0.5,
           -0.5
          ],
          [
           1,
           0.5,
           -0.5
          ],
          [
           2,
           -0.5,
           0.5
          ],
          [
           3,
           0.5,
           0.5
          ],
          [
           0,
           -0.5,
           -0.5
          ],
          [
           1,
           0.5,
           -0.5
          ],
          [
           2,
           -0.5,
           0.5
          ],
          [
           3,
           0.5,
           0.5
          ],
          [
           0,
           -0.5,
           -0.5
          ],
          [
           1,
           0.5,
           -0.5
          ],
          [
           2,
           -0.5,
           0.5
          ],
          [
           3,
           0.5,
           0.5
          ],
          [
           0,
           -0.5,
           -0.5
          ],
          [
           1,
           0.5,
           -0.5
          ],
          [
           2,
           -0.5,
           0.5
          ],
          [
           3,
           0.5,
           0.5
          ],
          [
           0,
           -0.5,
           -0.5
          ],
          [
           1,
           0.5,
           -0.5
          ],
          [
           2,
           -0.5,
           0.5
          ],
          [
           3,
           0.5,
           0.5
          ],
          [
           0,
           -0.5,
           -0.5
          ],
          [
           1,
           0.5,
           -0.5
          ],
          [
           2,
           -0.5,
           0.5
          ],
          [
           3,
           0.5,
           0.5
          ],
          [
           0,
           -0.5,
           -0.5
          ],
          [
           1,
           0.5,
           -0.5
          ],
          [
           2,
           -0.5,
           0.5
          ],
          [
           3,
           0.5,
           0.5
          ],
          [
           0,
           -0.5,
           -0.5
          ],
          [
           1,
           0.5,
           -0.5
          ],
          [
           2,
           -0.5,
           0.5
          ],
          [
           3,
           0.5,
           0.5
          ],
          [
           0,
           -0.5,
           -0.5
          ],
          [
           1,
           0.5,
           -0.5
          ],
          [
           2,
           -0.5,
           0.5
          ],
          [
           3,
           0.5,
           0.5
          ],
          [
           0,
           -0.5,
           -0.5
          ],
          [
           1,
           0.5,
           -0.5
          ],
          [
           2,
           -0.5,
           0.5
          ],
          [
           3,
           0.5,
           0.5
          ],
          [
           0,
           0.5,
           -0.5
          ],
          [
           1,
           -0.5,
           0.5
          ],
          [
           2,
           0.5,
           0.5
          ],
          [
           0,
           -0.5,
           -0.5
          ],
          [
           1,
           0.5,
           -0.5
          ],
          [
           2,
           -0.5,
           0.5
          ],
          [
           3,
           0.5,
           0.5
          ],
          [
           0,
           -0.5,
           -0.5
          ],
          [
           1,
           0.5,
           -0.5
          ],
          [
           2,
           -0.5,
           0.5
          ],
          [
           3,
           0.5,
           0.5
          ],
          [
           0,
           -0.5,
           -0.5
          ],
          [
           1,
           0.5,
           -0.5
          ],
          [
           2,
           -0.5,
           0.5
          ],
          [
           3,
           0.5,
           0.5
          ],
          [
           0,
           -0.5,
           -0.5
          ],
          [
           1,
           0.5,
           -0.5
          ],
          [
           2,
           -0.5,
           0.5
          ],
          [
           0,
           -0.5,
           -0.5
          ],
          [
           1,
           0.5,
           -0.5
          ],
          [
           2,
           -0.5,
           0.5
          ],
          [
           3,
           0.5,
           0.5
          ],
          [
           0,
           -0.5,
           -0.5
          ],
          [
           1,
           0.5,
           -0.5
          ],
          [
           2,
           -0.5,
           0.5
          ],
          [
           3,
           0.5,
           0.5
          ],
          [
           0,
           0.5,
           -0.5
          ],
          [
           1,
           -0.5,
           0.5
          ],
          [
           2,
           0.5,
           0.5
          ],
          [
           0,
           -0.5,
           -0.5
          ],
          [
           1,
           0.5,
           -0.5
          ],
          [
           2,
           -0.5,
           0.5
          ],
          [
           3,
           0.5,
           0.5
          ],
          [
           0,
           -0.5,
           -0.5
          ],
          [
           1,
           0.5,
           -0.5
          ],
          [
           2,
           -0.5,
           0.5
          ],
          [
           3,
           0.5,
           0.5
          ],
          [
           0,
           -0.5,
           -0.5
          ],
          [
           1,
           0.5,
           -0.5
          ],
          [
           2,
           -0.5,
           0.5
          ],
          [
           3,
           0.5,
           0.5
          ],
          [
           0,
           -0.5,
           -0.5
          ],
          [
           1,
           0.5,
           -0.5
          ],
          [
           2,
           -0.5,
           0.5
          ],
          [
           3,
           0.5,
           0.5
          ],
          [
           0,
           -0.5,
           -0.5
          ],
          [
           1,
           -0.5,
           0.5
          ],
          [
           2,
           0.5,
           0.5
          ],
          [
           0,
           -0.5,
           -0.5
          ],
          [
           1,
           0.5,
           -0.5
          ],
          [
           2,
           -0.5,
           0.5
          ],
          [
           3,
           0.5,
           0.5
          ],
          [
           0,
           -0.5,
           -0.5
          ],
          [
           1,
           0.5,
           -0.5
          ],
          [
           2,
           -0.5,
           0.5
          ],
          [
           3,
           0.5,
           0.5
          ],
          [
           0,
           -0.5,
           -0.5
          ],
          [
           1,
           0.5,
           -0.5
          ],
          [
           2,
           -0.5,
           0.5
          ],
          [
           3,
           0.5,
           0.5
          ],
          [
           0,
           -0.5,
           -0.5
          ],
          [
           1,
           0.5,
           -0.5
          ],
          [
           2,
           -0.5,
           0.5
          ],
          [
           3,
           0.5,
           0.5
          ],
          [
           0,
           -0.5,
           -0.5
          ],
          [
           1,
           0.5,
           -0.5
          ],
          [
           0,
           -0.5,
           -0.5
          ],
          [
           1,
           0.5,
           -0.5
          ],
          [
           0,
           -0.5,
           -0.5
          ],
          [
           1,
           0.5,
           -0.5
          ],
          [
           0,
           -0.5,
           -0.5
          ],
          [
           1,
           0.5,
           -0.5
          ],
          [
           2,
           -0.5,
           0.5
          ],
          [
           0,
           -0.5,
           -0.5
          ],
          [
           1,
           0.5,
           -0.5
          ],
          [
           0,
           -0.5,
           -0.5
          ],
          [
           1,
           0.5,
           -0.5
          ],
          [
           2,
           -0.5,
           0.5
          ],
          [
           0,
           -0.5,
           -0.5
          ],
          [
           1,
           0.5,
           -0.5
          ],
          [
           2,
           -0.5,
           0.5
          ],
          [
           0,
           -0.5,
           -0.5
          ],
          [
           1,
           0.5,
           -0.5
          ],
          [
           2,
           -0.5,
           0.5
          ],
          [
           0,
           -0.5,
           -0.5
          ],
          [
           1,
           0.5,
           -0.5
          ],
          [
           2,
           -0.5,
           0.5
          ],
          [
           0,
           -0.5,
           -0.5
          ],
          [
           1,
           0.5,
           -0.5
          ],
          [
           2,
           -0.5,
           0.5
          ],
          [
           0,
           -0.5,
           -0.5
          ],
          [
           1,
           0.5,
           -0.5
          ],
          [
           2,
           -0.5,
           0.5
          ],
          [
           0,
           -0.5,
           -0.5
          ],
          [
           1,
           0.5,
           -0.5
          ],
          [
           2,
           -0.5,
           0.5
          ],
          [
           0,
           -0.5,
           -0.5
          ],
          [
           1,
           0.5,
           -0.5
          ],
          [
           2,
           -0.5,
           0.5
          ],
          [
           0,
           -0.5,
           -0.5
          ],
          [
           1,
           0.5,
           -0.5
          ],
          [
           2,
           -0.5,
           0.5
          ],
          [
           3,
           0.5,
           0.5
          ],
          [
           0,
           -0.5,
           -0.5
          ],
          [
           1,
           0.5,
           -0.5
          ],
          [
           2,
           -0.5,
           0.5
          ],
          [
           3,
           0.5,
           0.5
          ],
          [
           0,
           -0.5,
           -0.5
          ],
          [
           1,
           0.5,
           -0.5
          ],
          [
           2,
           -0.5,
           0.5
          ],
          [
           3,
           0.5,
           0.5
          ],
          [
           0,
           -0.5,
           -0.5
          ],
          [
           1,
           -0.5,
           0.5
          ],
          [
           2,
           0.5,
           0.5
          ],
          [
           0,
           -0.5,
           -0.5
          ],
          [
           1,
           0.5,
           -0.5
          ],
          [
           2,
           -0.5,
           0.5
          ],
          [
           3,
           0.5,
           0.5
          ],
          [
           0,
           -0.5,
           -0.5
          ],
          [
           1,
           0.5,
           -0.5
          ],
          [
           2,
           -0.5,
           0.5
          ],
          [
           3,
           0.5,
           0.5
          ],
          [
           0,
           -0.5,
           -0.5
          ],
          [
           1,
           0.5,
           -0.5
          ],
          [
           2,
           -0.5,
           0.5
          ],
          [
           3,
           0.5,
           0.5
          ],
          [
           0,
           0.5,
           -0.5
          ],
          [
           1,
           0.5,
           0.5
          ],
          [
           0,
           -0.5,
           -0.5
          ],
          [
           1,
           0.5,
           -0.5
          ],
          [
           2,
           -0.5,
           0.5
          ],
          [
           3,
           0.5,
           0.5
          ],
          [
           0,
           -0.5,
           -0.5
          ],
          [
           1,
           0.5,
           -0.5
          ],
          [
           2,
           -0.5,
           0.5
          ],
          [
           3,
           0.5,
           0.5
          ],
          [
           0,
           0.5,
           -0.5
          ],
          [
           1,
           -0.5,
           0.5
          ],
          [
           2,
           0.5,
           0.5
          ],
          [
           0,
           0.5,
           -0.5
          ],
          [
           1,
           -0.5,
           0.5
          ],
          [
           2,
           0.5,
           0.5
          ],
          [
           0,
           -0.5,
           -0.5
          ],
          [
           1,
           0.5,
           -0.5
          ],
          [
           2,
           -0.5,
           0.5
          ],
          [
           3,
           0.5,
           0.5
          ],
          [
           0,
           -0.5,
           -0.5
          ],
          [
           1,
           0.5,
           -0.5
          ],
          [
           2,
           -0.5,
           0.5
          ],
          [
           3,
           0.5,
           0.5
          ],
          [
           0,
           0.5,
           -0.5
          ],
          [
           1,
           -0.5,
           0.5
          ],
          [
           2,
           0.5,
           0.5
          ],
          [
           0,
           -0.5,
           -0.5
          ],
          [
           1,
           0.5,
           -0.5
          ],
          [
           2,
           0.5,
           0.5
          ],
          [
           0,
           -0.5,
           -0.5
          ],
          [
           1,
           0.5,
           -0.5
          ],
          [
           2,
           0.5,
           0.5
          ],
          [
           0,
           -0.5,
           -0.5
          ],
          [
           1,
           0.5,
           -0.5
          ],
          [
           0,
           -0.5,
           -0.5
          ],
          [
           1,
           0.5,
           -0.5
          ],
          [
           0,
           -0.5,
           -0.5
          ],
          [
           1,
           0.5,
           -0.5
          ],
          [
           0,
           -0.5,
           -0.5
          ],
          [
           1,
           0.5,
           -0.5
          ],
          [
           2,
           -0.5,
           0.5
          ],
          [
           3,
           0.5,
           0.5
          ],
          [
           0,
           -0.5,
           -0.5
          ],
          [
           1,
           0.5,
           -0.5
          ],
          [
           2,
           -0.5,
           0.5
          ],
          [
           3,
           0.5,
           0.5
          ],
          [
           0,
           -0.5,
           -0.5
          ],
          [
           1,
           0.5,
           -0.5
          ],
          [
           2,
           -0.5,
           0.5
          ],
          [
           0,
           -0.5,
           -0.5
          ],
          [
           1,
           0.5,
           -0.5
          ],
          [
           2,
           -0.5,
           0.5
          ],
          [
           0,
           -0.5,
           -0.5
          ],
          [
           1,
           -0.5,
           0.5
          ],
          [
           0,
           -0.5,
           -0.5
          ],
          [
           1,
           0.5,
           -0.5
          ],
          [
           2,
           -0.5,
           0.5
          ],
          [
           0,
           -0.5,
           -0.5
          ],
          [
           1,
           0.5,
           -0.5
          ],
          [
           2,
           -0.5,
           0.5
          ],
          [
           0,
           -0.5,
           -0.5
          ],
          [
           1,
           0.5,
           -0.5
          ],
          [
           2,
           -0.5,
           0.5
          ],
          [
           3,
           0.5,
           0.5
          ],
          [
           0,
           -0.5,
           -0.5
          ],
          [
           1,
           0.5,
           -0.5
          ],
          [
           2,
           -0.5,
           0.5
          ],
          [
           3,
           0.5,
           0.5
          ],
          [
           0,
           -0.5,
           -0.5
          ],
          [
           1,
           0.5,
           -0.5
          ],
          [
           2,
           -0.5,
           0.5
          ],
          [
           3,
           0.5,
           0.5
          ],
          [
           0,
           -0.5,
           -0.5
          ],
          [
           1,
           -0.5,
           0.5
          ],
          [
           2,
           0.5,
           0.5
          ],
          [
           0,
           -0.5,
           -0.5
          ],
          [
           1,
           0.5,
           -0.5
          ],
          [
           2,
           -0.5,
           0.5
          ],
          [
           3,
           0.5,
           0.5
          ],
          [
           0,
           -0.5,
           -0.5
          ],
          [
           1,
           0.5,
           -0.5
          ],
          [
           2,
           -0.5,
           0.5
          ],
          [
           3,
           0.5,
           0.5
          ],
          [
           0,
           -0.5,
           -0.5
          ],
          [
           1,
           0.5,
           -0.5
          ],
          [
           2,
           -0.5,
           0.5
          ],
          [
           3,
           0.5,
           0.5
          ],
          [
           0,
           -0.5,
           -0.5
          ],
          [
           1,
           -0.5,
           0.5
          ],
          [
           2,
           0.5,
           0.5
          ],
          [
           0,
           -0.5,
           -0.5
          ],
          [
           1,
           0.5,
           -0.5
          ],
          [
           2,
           -0.5,
           0.5
          ],
          [
           3,
           0.5,
           0.5
          ],
          [
           0,
           -0.5,
           -0.5
          ],
          [
           1,
           0.5,
           -0.5
          ],
          [
           2,
           -0.5,
           0.5
          ],
          [
           3,
           0.5,
           0.5
          ],
          [
           0,
           -0.5,
           -0.5
          ],
          [
           1,
           0.5,
           -0.5
          ],
          [
           2,
           -0.5,
           0.5
          ],
          [
           3,
           0.5,
           0.5
          ],
          [
           0,
           -0.5,
           -0.5
          ],
          [
           1,
           0.5,
           -0.5
          ],
          [
           2,
           -0.5,
           0.5
          ],
          [
           3,
           0.5,
           0.5
          ],
          [
           0,
           -0.5,
           -0.5
          ],
          [
           1,
           0.5,
           -0.5
          ],
          [
           2,
           -0.5,
           0.5
          ],
          [
           3,
           0.5,
           0.5
          ],
          [
           0,
           -0.5,
           -0.5
          ],
          [
           1,
           0.5,
           -0.5
          ],
          [
           2,
           -0.5,
           0.5
          ],
          [
           3,
           0.5,
           0.5
          ],
          [
           0,
           -0.5,
           -0.5
          ],
          [
           1,
           0.5,
           -0.5
          ],
          [
           2,
           -0.5,
           0.5
          ],
          [
           3,
           0.5,
           0.5
          ],
          [
           0,
           -0.5,
           -0.5
          ],
          [
           1,
           0.5,
           -0.5
          ],
          [
           2,
           -0.5,
           0.5
          ],
          [
           3,
           0.5,
           0.5
          ],
          [
           0,
           -0.5,
           -0.5
          ],
          [
           1,
           0.5,
           -0.5
          ],
          [
           2,
           -0.5,
           0.5
          ],
          [
           3,
           0.5,
           0.5
          ],
          [
           0,
           -0.5,
           -0.5
          ],
          [
           1,
           0.5,
           -0.5
          ],
          [
           2,
           -0.5,
           0.5
          ],
          [
           0,
           -0.5,
           -0.5
          ],
          [
           1,
           0.5,
           -0.5
          ],
          [
           2,
           -0.5,
           0.5
          ],
          [
           3,
           0.5,
           0.5
          ],
          [
           0,
           -0.5,
           -0.5
          ],
          [
           1,
           0.5,
           -0.5
          ],
          [
           2,
           -0.5,
           0.5
          ],
          [
           3,
           0.5,
           0.5
          ],
          [
           0,
           -0.5,
           -0.5
          ],
          [
           1,
           0.5,
           -0.5
          ],
          [
           2,
           0.5,
           0.5
          ],
          [
           0,
           0,
           -0.5
          ],
          [
           1,
           0.5,
           -0.5
          ],
          [
           2,
           -0.5,
           0
          ],
          [
           3,
           0,
           0
          ],
          [
           4,
           0.5,
           0
          ],
          [
           5,
           -0.5,
           0.5
          ],
          [
           6,
           0,
           0.5
          ],
          [
           7,
           0.5,
           0.5
          ],
          [
           0,
           -0.5,
           -0.5
          ],
          [
           1,
           0,
           -0.5
          ],
          [
           2,
           0.5,
           -0.5
          ],
          [
           3,
           -0.5,
           0
          ],
          [
           4,
           0,
           0
          ],
          [
           5,
           0.5,
           0
          ],
          [
           6,
           -0.5,
           0.5
          ],
          [
           7,
           0,
           0.5
          ],
          [
           8,
           0.5,
           0.5
          ],
          [
           0,
           -0.5,
           -0.5
          ],
          [
           1,
           0,
           -0.5
          ],
          [
           2,
           0.5,
           -0.5
          ],
          [
           3,
           -0.5,
           0
          ],
          [
           4,
           0,
           0
          ],
          [
           5,
           0.5,
           0
          ],
          [
           6,
           -0.5,
           0.5
          ],
          [
           7,
           0,
           0.5
          ],
          [
           8,
           0.5,
           0.5
          ],
          [
           0,
           -0.5,
           -0.5
          ],
          [
           1,
           0,
           -0.5
          ],
          [
           2,
           -0.5,
           0
          ],
          [
           3,
           0,
           0
          ],
          [
           4,
           0.5,
           0
          ],
          [
           5,
           -0.5,
           0.5
          ],
          [
           6,
           0,
           0.5
          ],
          [
           7,
           0.5,
           0.5
          ],
          [
           0,
           -0.5,
           -0.5
          ],
          [
           1,
           0,
           -0.5
          ],
          [
           2,
           0.5,
           -0.5
          ],
          [
           3,
           -0.5,
           0
          ],
          [
           4,
           0,
           0
          ],
          [
           5,
           0.5,
           0
          ],
          [
           6,
           -0.5,
           0.5
          ],
          [
           7,
           0,
           0.5
          ],
          [
           8,
           0.5,
           0.5
          ],
          [
           0,
           -0.5,
           -0.5
          ],
          [
           1,
           0,
           -0.5
          ],
          [
           2,
           0.5,
           -0.5
          ],
          [
           3,
           -0.5,
           0
          ],
          [
           4,
           0,
           0
          ],
          [
           5,
           0.5,
           0
          ],
          [
           6,
           -0.5,
           0.5
          ],
          [
           7,
           0,
           0.5
          ],
          [
           8,
           0.5,
           0.5
          ],
          [
           0,
           -0.5,
           -0.5
          ],
          [
           1,
           0,
           -0.5
          ],
          [
           2,
           0.5,
           -0.5
          ],
          [
           3,
           -0.5,
           0
          ],
          [
           4,
           0,
           0
          ],
          [
           5,
           0.5,
           0
          ],
          [
           6,
           -0.5,
           0.5
          ],
          [
           7,
           0,
           0.5
          ],
          [
           8,
           0.5,
           0.5
          ],
          [
           0,
           -0.5,
           -0.5
          ],
          [
           1,
           0,
           -0.5
          ],
          [
           2,
           0.5,
           -0.5
          ],
          [
           3,
           -0.5,
           0
          ],
          [
           4,
           0,
           0
          ],
          [
           5,
           0.5,
           0
          ],
          [
           6,
           -0.5,
           0.5
          ],
          [
           7,
           0,
           0.5
          ],
          [
           8,
           0.5,
           0.5
          ],
          [
           0,
           -0.5,
           -0.5
          ],
          [
           1,
           0,
           -0.5
          ],
          [
           2,
           0.5,
           -0.5
          ],
          [
           3,
           -0.5,
           0
          ],
          [
           4,
           0,
           0
          ],
          [
           5,
           0.5,
           0
          ],
          [
           6,
           -0.5,
           0.5
          ],
          [
           7,
           0,
           0.5
          ],
          [
           8,
           0.5,
           0.5
          ],
          [
           0,
           0,
           0.5
          ],
          [
           0,
           -0.5,
           -0.5
          ],
          [
           1,
           0,
           -0.5
          ],
          [
           2,
           0.5,
           -0.5
          ],
          [
           3,
           -0.5,
           0
          ],
          [
           4,
           0,
           0
          ],
          [
           5,
           0.5,
           0
          ],
          [
           6,
           -0.5,
           0.5
          ],
          [
           7,
           0,
           0.5
          ],
          [
           8,
           0.5,
           0.5
          ],
          [
           0,
           -0.5,
           -0.5
          ],
          [
           1,
           0,
           -0.5
          ],
          [
           2,
           0.5,
           -0.5
          ],
          [
           3,
           -0.5,
           0
          ],
          [
           4,
           0,
           0
          ],
          [
           5,
           0.5,
           0
          ],
          [
           6,
           -0.5,
           0.5
          ],
          [
           7,
           0,
           0.5
          ],
          [
           8,
           0.5,
           0.5
          ],
          [
           0,
           -0.5,
           -0.5
          ],
          [
           1,
           0.5,
           -0.5
          ],
          [
           2,
           -0.5,
           0
          ],
          [
           3,
           0,
           0
          ],
          [
           4,
           0.5,
           0
          ],
          [
           5,
           -0.5,
           0.5
          ],
          [
           6,
           0,
           0.5
          ],
          [
           7,
           0.5,
           0.5
          ],
          [
           0,
           -0.5,
           -0.5
          ],
          [
           1,
           0,
           -0.5
          ],
          [
           2,
           0.5,
           -0.5
          ],
          [
           3,
           -0.5,
           0
          ],
          [
           4,
           0,
           0
          ],
          [
           5,
           0.5,
           0
          ],
          [
           6,
           -0.5,
           0.5
          ],
          [
           7,
           0,
           0.5
          ],
          [
           8,
           0.5,
           0.5
          ]
         ],
         "hovertemplate": "<b>%{hovertext}</b><br><br>Camera=%{x}<br>residual=%{y}<br>beam_capture_index=%{customdata[0]}<br>projectionPoint_x=%{customdata[1]}<br>projectionPoint_y=%{customdata[2]}<br>Laser=%{marker.color}<extra></extra>",
         "hovertext": [
          1,
          1,
          1,
          1,
          1,
          1,
          1,
          1,
          1,
          2,
          2,
          2,
          2,
          2,
          2,
          2,
          2,
          2,
          3,
          3,
          3,
          3,
          3,
          3,
          3,
          3,
          3,
          4,
          4,
          4,
          4,
          4,
          4,
          4,
          36,
          36,
          36,
          36,
          36,
          36,
          36,
          36,
          36,
          6,
          6,
          6,
          6,
          6,
          6,
          6,
          6,
          6,
          7,
          7,
          7,
          7,
          7,
          7,
          7,
          7,
          7,
          8,
          8,
          8,
          8,
          8,
          8,
          8,
          8,
          8,
          10,
          10,
          10,
          10,
          10,
          10,
          10,
          10,
          10,
          27,
          27,
          27,
          27,
          27,
          27,
          27,
          27,
          27,
          40,
          40,
          40,
          40,
          40,
          40,
          40,
          40,
          40,
          13,
          13,
          13,
          13,
          13,
          13,
          13,
          13,
          15,
          15,
          15,
          15,
          15,
          15,
          15,
          15,
          16,
          16,
          16,
          16,
          16,
          16,
          16,
          16,
          16,
          17,
          17,
          17,
          17,
          17,
          17,
          17,
          18,
          18,
          18,
          18,
          18,
          18,
          18,
          18,
          18,
          19,
          19,
          19,
          19,
          19,
          19,
          19,
          19,
          19,
          20,
          20,
          20,
          20,
          20,
          20,
          20,
          20,
          21,
          21,
          21,
          21,
          21,
          21,
          21,
          21,
          21,
          22,
          22,
          22,
          22,
          22,
          22,
          22,
          22,
          22,
          29,
          29,
          29,
          29,
          29,
          30,
          30,
          30,
          30,
          30,
          30,
          30,
          30,
          30,
          31,
          31,
          31,
          31,
          31,
          31,
          31,
          31,
          32,
          32,
          32,
          32,
          32,
          32,
          32,
          32,
          32,
          33,
          33,
          33,
          33,
          33,
          33,
          33,
          33,
          33,
          38,
          38,
          38,
          38,
          38,
          38,
          38,
          38,
          38,
          39,
          39,
          39,
          39,
          39,
          39,
          39,
          39,
          1,
          1,
          1,
          1,
          2,
          2,
          2,
          2,
          3,
          3,
          3,
          3,
          4,
          4,
          4,
          4,
          36,
          36,
          36,
          36,
          6,
          6,
          6,
          6,
          7,
          7,
          7,
          7,
          8,
          8,
          8,
          8,
          10,
          10,
          10,
          10,
          27,
          27,
          27,
          27,
          40,
          40,
          40,
          15,
          15,
          15,
          15,
          16,
          16,
          16,
          16,
          17,
          17,
          17,
          17,
          18,
          18,
          18,
          21,
          21,
          21,
          21,
          22,
          22,
          22,
          22,
          2,
          2,
          2,
          8,
          8,
          8,
          8,
          23,
          23,
          23,
          23,
          25,
          25,
          25,
          25,
          30,
          30,
          30,
          30,
          31,
          31,
          31,
          32,
          32,
          32,
          32,
          33,
          33,
          33,
          33,
          38,
          38,
          38,
          38,
          39,
          39,
          39,
          39,
          1,
          1,
          3,
          3,
          4,
          4,
          36,
          36,
          36,
          6,
          6,
          7,
          7,
          7,
          8,
          8,
          8,
          37,
          37,
          37,
          10,
          10,
          10,
          27,
          27,
          27,
          40,
          40,
          40,
          13,
          13,
          13,
          35,
          35,
          35,
          15,
          15,
          15,
          15,
          16,
          16,
          16,
          16,
          17,
          17,
          17,
          17,
          18,
          18,
          18,
          20,
          20,
          20,
          20,
          21,
          21,
          21,
          21,
          22,
          22,
          22,
          22,
          23,
          23,
          24,
          24,
          24,
          24,
          25,
          25,
          25,
          25,
          26,
          26,
          26,
          29,
          29,
          29,
          30,
          30,
          30,
          30,
          31,
          31,
          31,
          31,
          32,
          32,
          32,
          33,
          33,
          33,
          38,
          38,
          38,
          39,
          39,
          3,
          3,
          4,
          4,
          36,
          36,
          36,
          36,
          6,
          6,
          6,
          6,
          7,
          7,
          7,
          8,
          8,
          8,
          37,
          37,
          10,
          10,
          10,
          27,
          27,
          27,
          40,
          40,
          40,
          40,
          13,
          13,
          13,
          13,
          35,
          35,
          35,
          35,
          15,
          15,
          15,
          16,
          16,
          16,
          16,
          17,
          17,
          17,
          17,
          18,
          18,
          18,
          18,
          20,
          20,
          20,
          21,
          21,
          21,
          21,
          22,
          22,
          22,
          22,
          23,
          23,
          23,
          23,
          24,
          24,
          24,
          24,
          25,
          25,
          25,
          25,
          26,
          26,
          26,
          26,
          29,
          29,
          29,
          29,
          30,
          30,
          30,
          30,
          31,
          31,
          31,
          31,
          32,
          32,
          32,
          33,
          33,
          33,
          33,
          38,
          38,
          38,
          38,
          39,
          39,
          39,
          1,
          1,
          1,
          1,
          1,
          1,
          1,
          1,
          36,
          36,
          36,
          36,
          36,
          36,
          36,
          36,
          36,
          10,
          10,
          10,
          10,
          10,
          10,
          10,
          10,
          10,
          39,
          39,
          39,
          39,
          39,
          39,
          39,
          39,
          1,
          1,
          1,
          1,
          1,
          1,
          1,
          1,
          1,
          19,
          19,
          19,
          19,
          19,
          19,
          19,
          19,
          19,
          39,
          39,
          39,
          39,
          39,
          39,
          39,
          39,
          39,
          6,
          6,
          6,
          6,
          6,
          6,
          6,
          6,
          6,
          18,
          18,
          18,
          18,
          18,
          18,
          18,
          18,
          18,
          19,
          20,
          20,
          20,
          20,
          20,
          20,
          20,
          20,
          20,
          24,
          24,
          24,
          24,
          24,
          24,
          24,
          24,
          24,
          30,
          30,
          30,
          30,
          30,
          30,
          30,
          30,
          38,
          38,
          38,
          38,
          38,
          38,
          38,
          38,
          38
         ],
         "legendgroup": "",
         "marker": {
          "color": [
           1,
           1,
           1,
           1,
           1,
           1,
           1,
           1,
           1,
           2,
           2,
           2,
           2,
           2,
           2,
           2,
           2,
           2,
           3,
           3,
           3,
           3,
           3,
           3,
           3,
           3,
           3,
           4,
           4,
           4,
           4,
           4,
           4,
           4,
           36,
           36,
           36,
           36,
           36,
           36,
           36,
           36,
           36,
           6,
           6,
           6,
           6,
           6,
           6,
           6,
           6,
           6,
           7,
           7,
           7,
           7,
           7,
           7,
           7,
           7,
           7,
           8,
           8,
           8,
           8,
           8,
           8,
           8,
           8,
           8,
           10,
           10,
           10,
           10,
           10,
           10,
           10,
           10,
           10,
           27,
           27,
           27,
           27,
           27,
           27,
           27,
           27,
           27,
           40,
           40,
           40,
           40,
           40,
           40,
           40,
           40,
           40,
           13,
           13,
           13,
           13,
           13,
           13,
           13,
           13,
           15,
           15,
           15,
           15,
           15,
           15,
           15,
           15,
           16,
           16,
           16,
           16,
           16,
           16,
           16,
           16,
           16,
           17,
           17,
           17,
           17,
           17,
           17,
           17,
           18,
           18,
           18,
           18,
           18,
           18,
           18,
           18,
           18,
           19,
           19,
           19,
           19,
           19,
           19,
           19,
           19,
           19,
           20,
           20,
           20,
           20,
           20,
           20,
           20,
           20,
           21,
           21,
           21,
           21,
           21,
           21,
           21,
           21,
           21,
           22,
           22,
           22,
           22,
           22,
           22,
           22,
           22,
           22,
           29,
           29,
           29,
           29,
           29,
           30,
           30,
           30,
           30,
           30,
           30,
           30,
           30,
           30,
           31,
           31,
           31,
           31,
           31,
           31,
           31,
           31,
           32,
           32,
           32,
           32,
           32,
           32,
           32,
           32,
           32,
           33,
           33,
           33,
           33,
           33,
           33,
           33,
           33,
           33,
           38,
           38,
           38,
           38,
           38,
           38,
           38,
           38,
           38,
           39,
           39,
           39,
           39,
           39,
           39,
           39,
           39,
           1,
           1,
           1,
           1,
           2,
           2,
           2,
           2,
           3,
           3,
           3,
           3,
           4,
           4,
           4,
           4,
           36,
           36,
           36,
           36,
           6,
           6,
           6,
           6,
           7,
           7,
           7,
           7,
           8,
           8,
           8,
           8,
           10,
           10,
           10,
           10,
           27,
           27,
           27,
           27,
           40,
           40,
           40,
           15,
           15,
           15,
           15,
           16,
           16,
           16,
           16,
           17,
           17,
           17,
           17,
           18,
           18,
           18,
           21,
           21,
           21,
           21,
           22,
           22,
           22,
           22,
           2,
           2,
           2,
           8,
           8,
           8,
           8,
           23,
           23,
           23,
           23,
           25,
           25,
           25,
           25,
           30,
           30,
           30,
           30,
           31,
           31,
           31,
           32,
           32,
           32,
           32,
           33,
           33,
           33,
           33,
           38,
           38,
           38,
           38,
           39,
           39,
           39,
           39,
           1,
           1,
           3,
           3,
           4,
           4,
           36,
           36,
           36,
           6,
           6,
           7,
           7,
           7,
           8,
           8,
           8,
           37,
           37,
           37,
           10,
           10,
           10,
           27,
           27,
           27,
           40,
           40,
           40,
           13,
           13,
           13,
           35,
           35,
           35,
           15,
           15,
           15,
           15,
           16,
           16,
           16,
           16,
           17,
           17,
           17,
           17,
           18,
           18,
           18,
           20,
           20,
           20,
           20,
           21,
           21,
           21,
           21,
           22,
           22,
           22,
           22,
           23,
           23,
           24,
           24,
           24,
           24,
           25,
           25,
           25,
           25,
           26,
           26,
           26,
           29,
           29,
           29,
           30,
           30,
           30,
           30,
           31,
           31,
           31,
           31,
           32,
           32,
           32,
           33,
           33,
           33,
           38,
           38,
           38,
           39,
           39,
           3,
           3,
           4,
           4,
           36,
           36,
           36,
           36,
           6,
           6,
           6,
           6,
           7,
           7,
           7,
           8,
           8,
           8,
           37,
           37,
           10,
           10,
           10,
           27,
           27,
           27,
           40,
           40,
           40,
           40,
           13,
           13,
           13,
           13,
           35,
           35,
           35,
           35,
           15,
           15,
           15,
           16,
           16,
           16,
           16,
           17,
           17,
           17,
           17,
           18,
           18,
           18,
           18,
           20,
           20,
           20,
           21,
           21,
           21,
           21,
           22,
           22,
           22,
           22,
           23,
           23,
           23,
           23,
           24,
           24,
           24,
           24,
           25,
           25,
           25,
           25,
           26,
           26,
           26,
           26,
           29,
           29,
           29,
           29,
           30,
           30,
           30,
           30,
           31,
           31,
           31,
           31,
           32,
           32,
           32,
           33,
           33,
           33,
           33,
           38,
           38,
           38,
           38,
           39,
           39,
           39,
           1,
           1,
           1,
           1,
           1,
           1,
           1,
           1,
           36,
           36,
           36,
           36,
           36,
           36,
           36,
           36,
           36,
           10,
           10,
           10,
           10,
           10,
           10,
           10,
           10,
           10,
           39,
           39,
           39,
           39,
           39,
           39,
           39,
           39,
           1,
           1,
           1,
           1,
           1,
           1,
           1,
           1,
           1,
           19,
           19,
           19,
           19,
           19,
           19,
           19,
           19,
           19,
           39,
           39,
           39,
           39,
           39,
           39,
           39,
           39,
           39,
           6,
           6,
           6,
           6,
           6,
           6,
           6,
           6,
           6,
           18,
           18,
           18,
           18,
           18,
           18,
           18,
           18,
           18,
           19,
           20,
           20,
           20,
           20,
           20,
           20,
           20,
           20,
           20,
           24,
           24,
           24,
           24,
           24,
           24,
           24,
           24,
           24,
           30,
           30,
           30,
           30,
           30,
           30,
           30,
           30,
           38,
           38,
           38,
           38,
           38,
           38,
           38,
           38,
           38
          ],
          "coloraxis": "coloraxis",
          "pattern": {
           "shape": ""
          }
         },
         "name": "",
         "offsetgroup": "",
         "orientation": "v",
         "showlegend": false,
         "textposition": "auto",
         "type": "bar",
         "x": [
          "Wed 2024.11.20 02:52",
          "Wed 2024.11.20 02:52",
          "Wed 2024.11.20 02:52",
          "Wed 2024.11.20 02:52",
          "Wed 2024.11.20 02:52",
          "Wed 2024.11.20 02:52",
          "Wed 2024.11.20 02:52",
          "Wed 2024.11.20 02:52",
          "Wed 2024.11.20 02:52",
          "Wed 2024.11.20 02:52",
          "Wed 2024.11.20 02:52",
          "Wed 2024.11.20 02:52",
          "Wed 2024.11.20 02:52",
          "Wed 2024.11.20 02:52",
          "Wed 2024.11.20 02:52",
          "Wed 2024.11.20 02:52",
          "Wed 2024.11.20 02:52",
          "Wed 2024.11.20 02:52",
          "Wed 2024.11.20 02:52",
          "Wed 2024.11.20 02:52",
          "Wed 2024.11.20 02:52",
          "Wed 2024.11.20 02:52",
          "Wed 2024.11.20 02:52",
          "Wed 2024.11.20 02:52",
          "Wed 2024.11.20 02:52",
          "Wed 2024.11.20 02:52",
          "Wed 2024.11.20 02:52",
          "Wed 2024.11.20 02:52",
          "Wed 2024.11.20 02:52",
          "Wed 2024.11.20 02:52",
          "Wed 2024.11.20 02:52",
          "Wed 2024.11.20 02:52",
          "Wed 2024.11.20 02:52",
          "Wed 2024.11.20 02:52",
          "Wed 2024.11.20 02:52",
          "Wed 2024.11.20 02:52",
          "Wed 2024.11.20 02:52",
          "Wed 2024.11.20 02:52",
          "Wed 2024.11.20 02:52",
          "Wed 2024.11.20 02:52",
          "Wed 2024.11.20 02:52",
          "Wed 2024.11.20 02:52",
          "Wed 2024.11.20 02:52",
          "Wed 2024.11.20 02:52",
          "Wed 2024.11.20 02:52",
          "Wed 2024.11.20 02:52",
          "Wed 2024.11.20 02:52",
          "Wed 2024.11.20 02:52",
          "Wed 2024.11.20 02:52",
          "Wed 2024.11.20 02:52",
          "Wed 2024.11.20 02:52",
          "Wed 2024.11.20 02:52",
          "Wed 2024.11.20 02:52",
          "Wed 2024.11.20 02:52",
          "Wed 2024.11.20 02:52",
          "Wed 2024.11.20 02:52",
          "Wed 2024.11.20 02:52",
          "Wed 2024.11.20 02:52",
          "Wed 2024.11.20 02:52",
          "Wed 2024.11.20 02:52",
          "Wed 2024.11.20 02:52",
          "Wed 2024.11.20 02:52",
          "Wed 2024.11.20 02:52",
          "Wed 2024.11.20 02:52",
          "Wed 2024.11.20 02:52",
          "Wed 2024.11.20 02:52",
          "Wed 2024.11.20 02:52",
          "Wed 2024.11.20 02:52",
          "Wed 2024.11.20 02:52",
          "Wed 2024.11.20 02:52",
          "Wed 2024.11.20 02:52",
          "Wed 2024.11.20 02:52",
          "Wed 2024.11.20 02:52",
          "Wed 2024.11.20 02:52",
          "Wed 2024.11.20 02:52",
          "Wed 2024.11.20 02:52",
          "Wed 2024.11.20 02:52",
          "Wed 2024.11.20 02:52",
          "Wed 2024.11.20 02:52",
          "Wed 2024.11.20 02:52",
          "Wed 2024.11.20 02:52",
          "Wed 2024.11.20 02:52",
          "Wed 2024.11.20 02:52",
          "Wed 2024.11.20 02:52",
          "Wed 2024.11.20 02:52",
          "Wed 2024.11.20 02:52",
          "Wed 2024.11.20 02:52",
          "Wed 2024.11.20 02:52",
          "Wed 2024.11.20 02:52",
          "Wed 2024.11.20 02:52",
          "Wed 2024.11.20 02:52",
          "Wed 2024.11.20 02:52",
          "Wed 2024.11.20 02:52",
          "Wed 2024.11.20 02:52",
          "Wed 2024.11.20 02:52",
          "Wed 2024.11.20 02:52",
          "Wed 2024.11.20 02:52",
          "Wed 2024.11.20 02:52",
          "Wed 2024.11.20 02:52",
          "Wed 2024.11.20 02:52",
          "Wed 2024.11.20 02:52",
          "Wed 2024.11.20 02:52",
          "Wed 2024.11.20 02:52",
          "Wed 2024.11.20 02:52",
          "Wed 2024.11.20 02:52",
          "Wed 2024.11.20 02:52",
          "Wed 2024.11.20 02:52",
          "Wed 2024.11.20 02:52",
          "Wed 2024.11.20 02:52",
          "Wed 2024.11.20 02:52",
          "Wed 2024.11.20 02:52",
          "Wed 2024.11.20 02:52",
          "Wed 2024.11.20 02:52",
          "Wed 2024.11.20 02:52",
          "Wed 2024.11.20 02:52",
          "Wed 2024.11.20 02:52",
          "Wed 2024.11.20 02:52",
          "Wed 2024.11.20 02:52",
          "Wed 2024.11.20 02:52",
          "Wed 2024.11.20 02:52",
          "Wed 2024.11.20 02:52",
          "Wed 2024.11.20 02:52",
          "Wed 2024.11.20 02:52",
          "Wed 2024.11.20 02:52",
          "Wed 2024.11.20 02:52",
          "Wed 2024.11.20 02:52",
          "Wed 2024.11.20 02:52",
          "Wed 2024.11.20 02:52",
          "Wed 2024.11.20 02:52",
          "Wed 2024.11.20 02:52",
          "Wed 2024.11.20 02:52",
          "Wed 2024.11.20 02:52",
          "Wed 2024.11.20 02:52",
          "Wed 2024.11.20 02:52",
          "Wed 2024.11.20 02:52",
          "Wed 2024.11.20 02:52",
          "Wed 2024.11.20 02:52",
          "Wed 2024.11.20 02:52",
          "Wed 2024.11.20 02:52",
          "Wed 2024.11.20 02:52",
          "Wed 2024.11.20 02:52",
          "Wed 2024.11.20 02:52",
          "Wed 2024.11.20 02:52",
          "Wed 2024.11.20 02:52",
          "Wed 2024.11.20 02:52",
          "Wed 2024.11.20 02:52",
          "Wed 2024.11.20 02:52",
          "Wed 2024.11.20 02:52",
          "Wed 2024.11.20 02:52",
          "Wed 2024.11.20 02:52",
          "Wed 2024.11.20 02:52",
          "Wed 2024.11.20 02:52",
          "Wed 2024.11.20 02:52",
          "Wed 2024.11.20 02:52",
          "Wed 2024.11.20 02:52",
          "Wed 2024.11.20 02:52",
          "Wed 2024.11.20 02:52",
          "Wed 2024.11.20 02:52",
          "Wed 2024.11.20 02:52",
          "Wed 2024.11.20 02:52",
          "Wed 2024.11.20 02:52",
          "Wed 2024.11.20 02:52",
          "Wed 2024.11.20 02:52",
          "Wed 2024.11.20 02:52",
          "Wed 2024.11.20 02:52",
          "Wed 2024.11.20 02:52",
          "Wed 2024.11.20 02:52",
          "Wed 2024.11.20 02:52",
          "Wed 2024.11.20 02:52",
          "Wed 2024.11.20 02:52",
          "Wed 2024.11.20 02:52",
          "Wed 2024.11.20 02:52",
          "Wed 2024.11.20 02:52",
          "Wed 2024.11.20 02:52",
          "Wed 2024.11.20 02:52",
          "Wed 2024.11.20 02:52",
          "Wed 2024.11.20 02:52",
          "Wed 2024.11.20 02:52",
          "Wed 2024.11.20 02:52",
          "Wed 2024.11.20 02:52",
          "Wed 2024.11.20 02:52",
          "Wed 2024.11.20 02:52",
          "Wed 2024.11.20 02:52",
          "Wed 2024.11.20 02:52",
          "Wed 2024.11.20 02:52",
          "Wed 2024.11.20 02:52",
          "Wed 2024.11.20 02:52",
          "Wed 2024.11.20 02:52",
          "Wed 2024.11.20 02:52",
          "Wed 2024.11.20 02:52",
          "Wed 2024.11.20 02:52",
          "Wed 2024.11.20 02:52",
          "Wed 2024.11.20 02:52",
          "Wed 2024.11.20 02:52",
          "Wed 2024.11.20 02:52",
          "Wed 2024.11.20 02:52",
          "Wed 2024.11.20 02:52",
          "Wed 2024.11.20 02:52",
          "Wed 2024.11.20 02:52",
          "Wed 2024.11.20 02:52",
          "Wed 2024.11.20 02:52",
          "Wed 2024.11.20 02:52",
          "Wed 2024.11.20 02:52",
          "Wed 2024.11.20 02:52",
          "Wed 2024.11.20 02:52",
          "Wed 2024.11.20 02:52",
          "Wed 2024.11.20 02:52",
          "Wed 2024.11.20 02:52",
          "Wed 2024.11.20 02:52",
          "Wed 2024.11.20 02:52",
          "Wed 2024.11.20 02:52",
          "Wed 2024.11.20 02:52",
          "Wed 2024.11.20 02:52",
          "Wed 2024.11.20 02:52",
          "Wed 2024.11.20 02:52",
          "Wed 2024.11.20 02:52",
          "Wed 2024.11.20 02:52",
          "Wed 2024.11.20 02:52",
          "Wed 2024.11.20 02:52",
          "Wed 2024.11.20 02:52",
          "Wed 2024.11.20 02:52",
          "Wed 2024.11.20 02:52",
          "Wed 2024.11.20 02:52",
          "Wed 2024.11.20 02:52",
          "Wed 2024.11.20 02:52",
          "Wed 2024.11.20 02:52",
          "Wed 2024.11.20 02:52",
          "Wed 2024.11.20 02:52",
          "Wed 2024.11.20 02:52",
          "Wed 2024.11.20 02:52",
          "Wed 2024.11.20 03:43",
          "Wed 2024.11.20 03:43",
          "Wed 2024.11.20 03:43",
          "Wed 2024.11.20 03:43",
          "Wed 2024.11.20 03:43",
          "Wed 2024.11.20 03:43",
          "Wed 2024.11.20 03:43",
          "Wed 2024.11.20 03:43",
          "Wed 2024.11.20 03:43",
          "Wed 2024.11.20 03:43",
          "Wed 2024.11.20 03:43",
          "Wed 2024.11.20 03:43",
          "Wed 2024.11.20 03:43",
          "Wed 2024.11.20 03:43",
          "Wed 2024.11.20 03:43",
          "Wed 2024.11.20 03:43",
          "Wed 2024.11.20 03:43",
          "Wed 2024.11.20 03:43",
          "Wed 2024.11.20 03:43",
          "Wed 2024.11.20 03:43",
          "Wed 2024.11.20 03:43",
          "Wed 2024.11.20 03:43",
          "Wed 2024.11.20 03:43",
          "Wed 2024.11.20 03:43",
          "Wed 2024.11.20 03:43",
          "Wed 2024.11.20 03:43",
          "Wed 2024.11.20 03:43",
          "Wed 2024.11.20 03:43",
          "Wed 2024.11.20 03:43",
          "Wed 2024.11.20 03:43",
          "Wed 2024.11.20 03:43",
          "Wed 2024.11.20 03:43",
          "Wed 2024.11.20 03:43",
          "Wed 2024.11.20 03:43",
          "Wed 2024.11.20 03:43",
          "Wed 2024.11.20 03:43",
          "Wed 2024.11.20 03:43",
          "Wed 2024.11.20 03:43",
          "Wed 2024.11.20 03:43",
          "Wed 2024.11.20 03:43",
          "Wed 2024.11.20 03:43",
          "Wed 2024.11.20 03:43",
          "Wed 2024.11.20 03:43",
          "Wed 2024.11.20 03:43",
          "Wed 2024.11.20 03:43",
          "Wed 2024.11.20 03:43",
          "Wed 2024.11.20 03:43",
          "Wed 2024.11.20 03:43",
          "Wed 2024.11.20 03:43",
          "Wed 2024.11.20 03:43",
          "Wed 2024.11.20 03:43",
          "Wed 2024.11.20 03:43",
          "Wed 2024.11.20 03:43",
          "Wed 2024.11.20 03:43",
          "Wed 2024.11.20 03:43",
          "Wed 2024.11.20 03:43",
          "Wed 2024.11.20 03:43",
          "Wed 2024.11.20 03:43",
          "Wed 2024.11.20 03:43",
          "Wed 2024.11.20 03:43",
          "Wed 2024.11.20 03:43",
          "Wed 2024.11.20 03:43",
          "Wed 2024.11.20 03:43",
          "Wed 2024.11.20 03:43",
          "Wed 2024.11.20 03:43",
          "Wed 2024.11.20 03:43",
          "Wed 2024.11.20 03:43",
          "Wed 2024.11.20 03:43",
          "Wed 2024.11.20 03:43",
          "Wed 2024.11.20 03:43",
          "Wed 2024.11.20 03:43",
          "Wed 2024.11.20 03:43",
          "Wed 2024.11.20 03:43",
          "Wed 2024.11.20 03:43",
          "Wed 2024.11.20 03:43",
          "Wed 2024.11.20 03:43",
          "Wed 2024.11.20 03:43",
          "Wed 2024.11.20 03:43",
          "Wed 2024.11.20 03:43",
          "Wed 2024.11.20 03:43",
          "Wed 2024.11.20 03:43",
          "Wed 2024.11.20 03:43",
          "Wed 2024.11.20 03:43",
          "Wed 2024.11.20 03:43",
          "Wed 2024.11.20 03:43",
          "Wed 2024.11.20 03:43",
          "Wed 2024.11.20 03:43",
          "Wed 2024.11.20 03:43",
          "Wed 2024.11.20 03:43",
          "Wed 2024.11.20 03:43",
          "Wed 2024.11.20 03:43",
          "Wed 2024.11.20 03:43",
          "Wed 2024.11.20 03:43",
          "Wed 2024.11.20 03:43",
          "Wed 2024.11.20 03:43",
          "Wed 2024.11.20 03:43",
          "Wed 2024.11.20 03:43",
          "Wed 2024.11.20 03:43",
          "Wed 2024.11.20 03:43",
          "Wed 2024.11.20 03:43",
          "Wed 2024.11.20 03:43",
          "Wed 2024.11.20 03:43",
          "Wed 2024.11.20 03:43",
          "Wed 2024.11.20 03:43",
          "Wed 2024.11.20 23:51",
          "Wed 2024.11.20 23:51",
          "Wed 2024.11.20 23:51",
          "Wed 2024.11.20 23:51",
          "Wed 2024.11.20 23:51",
          "Wed 2024.11.20 23:51",
          "Wed 2024.11.20 23:51",
          "Wed 2024.11.20 23:51",
          "Wed 2024.11.20 23:51",
          "Wed 2024.11.20 23:51",
          "Wed 2024.11.20 23:51",
          "Wed 2024.11.20 23:51",
          "Wed 2024.11.20 23:51",
          "Wed 2024.11.20 23:51",
          "Wed 2024.11.20 23:51",
          "Wed 2024.11.20 23:51",
          "Wed 2024.11.20 23:51",
          "Wed 2024.11.20 23:51",
          "Wed 2024.11.20 23:51",
          "Wed 2024.11.20 23:51",
          "Wed 2024.11.20 23:51",
          "Wed 2024.11.20 23:51",
          "Wed 2024.11.20 23:51",
          "Wed 2024.11.20 23:51",
          "Wed 2024.11.20 23:51",
          "Wed 2024.11.20 23:51",
          "Wed 2024.11.20 23:51",
          "Wed 2024.11.20 23:51",
          "Wed 2024.11.20 23:51",
          "Wed 2024.11.20 23:51",
          "Wed 2024.11.20 23:51",
          "Wed 2024.11.20 23:51",
          "Wed 2024.11.20 23:51",
          "Wed 2024.11.20 23:51",
          "Wed 2024.11.20 23:51",
          "Wed 2024.11.20 23:51",
          "Wed 2024.11.20 23:51",
          "Wed 2024.11.20 23:51",
          "Wed 2024.11.20 23:51",
          "Wed 2024.11.20 23:51",
          "Wed 2024.11.20 23:51",
          "Wed 2024.11.20 23:51",
          "Wed 2024.11.20 23:51",
          "Wed 2024.11.20 23:51",
          "Wed 2024.11.20 23:51",
          "Wed 2024.11.20 23:51",
          "Wed 2024.11.20 23:51",
          "Wed 2024.11.20 23:51",
          "Wed 2024.11.20 23:51",
          "Wed 2024.11.20 23:51",
          "Wed 2024.11.20 23:51",
          "Wed 2024.11.20 23:51",
          "Wed 2024.11.20 23:51",
          "Wed 2024.11.20 23:51",
          "Wed 2024.11.20 23:51",
          "Wed 2024.11.20 23:51",
          "Wed 2024.11.20 23:51",
          "Wed 2024.11.20 23:51",
          "Wed 2024.11.20 23:51",
          "Wed 2024.11.20 23:51",
          "Wed 2024.11.20 23:51",
          "Wed 2024.11.20 23:51",
          "Wed 2024.11.20 23:51",
          "Wed 2024.11.20 23:51",
          "Wed 2024.11.20 23:51",
          "Wed 2024.11.20 23:51",
          "Wed 2024.11.20 23:51",
          "Wed 2024.11.20 23:51",
          "Wed 2024.11.20 23:51",
          "Wed 2024.11.20 23:51",
          "Wed 2024.11.20 23:51",
          "Wed 2024.11.20 23:51",
          "Wed 2024.11.20 23:51",
          "Wed 2024.11.20 23:51",
          "Wed 2024.11.20 23:51",
          "Wed 2024.11.20 23:51",
          "Wed 2024.11.20 23:51",
          "Wed 2024.11.20 23:51",
          "Wed 2024.11.20 23:51",
          "Wed 2024.11.20 23:51",
          "Wed 2024.11.20 23:51",
          "Wed 2024.11.20 23:51",
          "Wed 2024.11.20 23:51",
          "Wed 2024.11.20 23:51",
          "Wed 2024.11.20 23:51",
          "Wed 2024.11.20 23:51",
          "Wed 2024.11.20 23:51",
          "Wed 2024.11.20 23:51",
          "Wed 2024.11.20 23:51",
          "Wed 2024.11.20 23:51",
          "Wed 2024.11.20 23:51",
          "Wed 2024.11.20 23:51",
          "Wed 2024.11.20 23:51",
          "Wed 2024.11.20 23:51",
          "Wed 2024.11.20 23:51",
          "Wed 2024.11.20 23:51",
          "Wed 2024.11.20 23:51",
          "Thu 2024.11.21 00:00",
          "Thu 2024.11.21 00:00",
          "Thu 2024.11.21 00:00",
          "Thu 2024.11.21 00:00",
          "Thu 2024.11.21 00:00",
          "Thu 2024.11.21 00:00",
          "Thu 2024.11.21 00:00",
          "Thu 2024.11.21 00:00",
          "Thu 2024.11.21 00:00",
          "Thu 2024.11.21 00:00",
          "Thu 2024.11.21 00:00",
          "Thu 2024.11.21 00:00",
          "Thu 2024.11.21 00:00",
          "Thu 2024.11.21 00:00",
          "Thu 2024.11.21 00:00",
          "Thu 2024.11.21 00:00",
          "Thu 2024.11.21 00:00",
          "Thu 2024.11.21 00:00",
          "Thu 2024.11.21 00:00",
          "Thu 2024.11.21 00:00",
          "Thu 2024.11.21 00:00",
          "Thu 2024.11.21 00:00",
          "Thu 2024.11.21 00:00",
          "Thu 2024.11.21 00:00",
          "Thu 2024.11.21 00:00",
          "Thu 2024.11.21 00:00",
          "Thu 2024.11.21 00:00",
          "Thu 2024.11.21 00:00",
          "Thu 2024.11.21 00:00",
          "Thu 2024.11.21 00:00",
          "Thu 2024.11.21 00:00",
          "Thu 2024.11.21 00:00",
          "Thu 2024.11.21 00:00",
          "Thu 2024.11.21 00:00",
          "Thu 2024.11.21 00:00",
          "Thu 2024.11.21 00:00",
          "Thu 2024.11.21 00:00",
          "Thu 2024.11.21 00:00",
          "Thu 2024.11.21 00:00",
          "Thu 2024.11.21 00:00",
          "Thu 2024.11.21 00:00",
          "Thu 2024.11.21 00:00",
          "Thu 2024.11.21 00:00",
          "Thu 2024.11.21 00:00",
          "Thu 2024.11.21 00:00",
          "Thu 2024.11.21 00:00",
          "Thu 2024.11.21 00:00",
          "Thu 2024.11.21 00:00",
          "Thu 2024.11.21 00:00",
          "Thu 2024.11.21 00:00",
          "Thu 2024.11.21 00:00",
          "Thu 2024.11.21 00:00",
          "Thu 2024.11.21 00:00",
          "Thu 2024.11.21 00:00",
          "Thu 2024.11.21 00:00",
          "Thu 2024.11.21 00:00",
          "Thu 2024.11.21 00:00",
          "Thu 2024.11.21 00:00",
          "Thu 2024.11.21 00:00",
          "Thu 2024.11.21 00:00",
          "Thu 2024.11.21 00:00",
          "Thu 2024.11.21 00:00",
          "Thu 2024.11.21 00:00",
          "Thu 2024.11.21 00:00",
          "Thu 2024.11.21 00:00",
          "Thu 2024.11.21 00:00",
          "Thu 2024.11.21 00:00",
          "Thu 2024.11.21 00:00",
          "Thu 2024.11.21 00:00",
          "Thu 2024.11.21 00:00",
          "Thu 2024.11.21 00:00",
          "Thu 2024.11.21 00:00",
          "Thu 2024.11.21 00:00",
          "Thu 2024.11.21 00:00",
          "Thu 2024.11.21 00:00",
          "Thu 2024.11.21 00:00",
          "Thu 2024.11.21 00:00",
          "Thu 2024.11.21 00:00",
          "Thu 2024.11.21 00:00",
          "Thu 2024.11.21 00:00",
          "Thu 2024.11.21 00:00",
          "Thu 2024.11.21 00:00",
          "Thu 2024.11.21 00:00",
          "Thu 2024.11.21 00:00",
          "Thu 2024.11.21 00:00",
          "Thu 2024.11.21 00:00",
          "Thu 2024.11.21 00:00",
          "Thu 2024.11.21 00:00",
          "Thu 2024.11.21 00:00",
          "Thu 2024.11.21 00:00",
          "Thu 2024.11.21 00:00",
          "Thu 2024.11.21 00:00",
          "Thu 2024.11.21 00:00",
          "Thu 2024.11.21 00:00",
          "Thu 2024.11.21 00:00",
          "Thu 2024.11.21 00:00",
          "Thu 2024.11.21 00:00",
          "Thu 2024.11.21 00:00",
          "Thu 2024.11.21 00:00",
          "Thu 2024.11.21 00:00",
          "Thu 2024.11.21 00:00",
          "Thu 2024.11.21 00:00",
          "Thu 2024.11.21 00:00",
          "Thu 2024.11.21 00:00",
          "Thu 2024.11.21 00:00",
          "Thu 2024.11.21 00:00",
          "Thu 2024.11.21 00:36",
          "Thu 2024.11.21 00:36",
          "Thu 2024.11.21 00:36",
          "Thu 2024.11.21 00:36",
          "Thu 2024.11.21 00:36",
          "Thu 2024.11.21 00:36",
          "Thu 2024.11.21 00:36",
          "Thu 2024.11.21 00:36",
          "Thu 2024.11.21 00:36",
          "Thu 2024.11.21 00:36",
          "Thu 2024.11.21 00:36",
          "Thu 2024.11.21 00:36",
          "Thu 2024.11.21 00:36",
          "Thu 2024.11.21 00:36",
          "Thu 2024.11.21 00:36",
          "Thu 2024.11.21 00:36",
          "Thu 2024.11.21 00:36",
          "Thu 2024.11.21 00:36",
          "Thu 2024.11.21 00:36",
          "Thu 2024.11.21 00:36",
          "Thu 2024.11.21 00:36",
          "Thu 2024.11.21 00:36",
          "Thu 2024.11.21 00:36",
          "Thu 2024.11.21 00:36",
          "Thu 2024.11.21 00:36",
          "Thu 2024.11.21 00:36",
          "Thu 2024.11.21 00:36",
          "Thu 2024.11.21 00:36",
          "Thu 2024.11.21 00:36",
          "Thu 2024.11.21 00:36",
          "Thu 2024.11.21 00:36",
          "Thu 2024.11.21 00:36",
          "Thu 2024.11.21 00:36",
          "Thu 2024.11.21 00:36",
          "Thu 2024.11.21 00:55",
          "Thu 2024.11.21 00:55",
          "Thu 2024.11.21 00:55",
          "Thu 2024.11.21 00:55",
          "Thu 2024.11.21 00:55",
          "Thu 2024.11.21 00:55",
          "Thu 2024.11.21 00:55",
          "Thu 2024.11.21 00:55",
          "Thu 2024.11.21 00:55",
          "Thu 2024.11.21 00:55",
          "Thu 2024.11.21 00:55",
          "Thu 2024.11.21 00:55",
          "Thu 2024.11.21 00:55",
          "Thu 2024.11.21 00:55",
          "Thu 2024.11.21 00:55",
          "Thu 2024.11.21 00:55",
          "Thu 2024.11.21 00:55",
          "Thu 2024.11.21 00:55",
          "Thu 2024.11.21 00:55",
          "Thu 2024.11.21 00:55",
          "Thu 2024.11.21 00:55",
          "Thu 2024.11.21 00:55",
          "Thu 2024.11.21 00:55",
          "Thu 2024.11.21 00:55",
          "Thu 2024.11.21 00:55",
          "Thu 2024.11.21 00:55",
          "Thu 2024.11.21 00:55",
          "Thu 2024.11.21 03:25",
          "Thu 2024.11.21 03:25",
          "Thu 2024.11.21 03:25",
          "Thu 2024.11.21 03:25",
          "Thu 2024.11.21 03:25",
          "Thu 2024.11.21 03:25",
          "Thu 2024.11.21 03:25",
          "Thu 2024.11.21 03:25",
          "Thu 2024.11.21 03:25",
          "Thu 2024.11.21 03:25",
          "Thu 2024.11.21 03:25",
          "Thu 2024.11.21 03:25",
          "Thu 2024.11.21 03:25",
          "Thu 2024.11.21 03:25",
          "Thu 2024.11.21 03:25",
          "Thu 2024.11.21 03:25",
          "Thu 2024.11.21 03:25",
          "Thu 2024.11.21 03:25",
          "Thu 2024.11.21 03:25",
          "Thu 2024.11.21 03:25",
          "Thu 2024.11.21 03:25",
          "Thu 2024.11.21 03:25",
          "Thu 2024.11.21 03:25",
          "Thu 2024.11.21 03:25",
          "Thu 2024.11.21 03:25",
          "Thu 2024.11.21 03:25",
          "Thu 2024.11.21 03:25",
          "Thu 2024.11.21 03:25",
          "Thu 2024.11.21 03:25",
          "Thu 2024.11.21 03:25",
          "Thu 2024.11.21 03:25",
          "Thu 2024.11.21 03:25",
          "Thu 2024.11.21 03:25",
          "Thu 2024.11.21 03:25",
          "Thu 2024.11.21 03:25",
          "Thu 2024.11.21 03:25",
          "Thu 2024.11.21 03:25",
          "Thu 2024.11.21 03:25",
          "Thu 2024.11.21 03:25",
          "Thu 2024.11.21 03:25",
          "Thu 2024.11.21 03:25",
          "Thu 2024.11.21 03:25",
          "Thu 2024.11.21 03:25",
          "Thu 2024.11.21 03:25",
          "Thu 2024.11.21 03:25",
          "Thu 2024.11.21 03:25",
          "Thu 2024.11.21 03:25",
          "Thu 2024.11.21 03:25",
          "Thu 2024.11.21 03:25",
          "Thu 2024.11.21 03:25",
          "Thu 2024.11.21 03:25",
          "Thu 2024.11.21 03:25",
          "Thu 2024.11.21 03:25",
          "Thu 2024.11.21 03:25"
         ],
         "xaxis": "x",
         "y": [
          8.514287948608398,
          7.716701030731201,
          8.064009666442871,
          7.141143321990967,
          5.804001808166504,
          3.951805830001831,
          5.989705562591553,
          4.82194185256958,
          3.331336259841919,
          5.469137668609619,
          0.5741366147994995,
          5.14367151260376,
          2.2520716190338135,
          0.8280343413352966,
          1.6609032154083252,
          2.939371109008789,
          0.8491306900978088,
          1.4304957389831543,
          5.051778793334961,
          1.4917237758636475,
          1.9179952144622803,
          1.6427096128463745,
          1.9359099864959717,
          1.8892251253128052,
          3.460474967956543,
          1.84516179561615,
          2.3759267330169678,
          1.8309706449508667,
          1.0468906164169312,
          0.9760383367538452,
          0.9948853254318237,
          3.751676321029663,
          1.2851545810699463,
          1.7125473022460938,
          4.066549301147461,
          1.1780599355697632,
          0.9241005182266235,
          1.15080988407135,
          0.7225992679595947,
          1.7564866542816162,
          0.9703226089477539,
          1.047523856163025,
          0.36793604493141174,
          1.3673604726791382,
          2.359304904937744,
          1.4739526510238647,
          1.8948445320129395,
          0.6419345736503601,
          0.5925120711326599,
          2.0184874534606934,
          0.8455333709716797,
          0.9932312965393066,
          1.9071184396743774,
          0.9542619585990906,
          4.103522777557373,
          2.639512777328491,
          0.4630661606788635,
          1.8488953113555908,
          0.8865469098091125,
          0.9268307089805603,
          0.9256788492202759,
          0.9890077114105225,
          1.6310933828353882,
          1.6080740690231323,
          1.7141199111938477,
          0.84010910987854,
          1.3296606540679932,
          2.897414445877075,
          1.450634241104126,
          2.7649831771850586,
          1.41020667552948,
          0.6486639976501465,
          1.6757138967514038,
          1.014073371887207,
          0.5148643255233765,
          0.9766910672187805,
          2.1786885261535645,
          0.9096260666847229,
          2.9422125816345215,
          1.5356348752975464,
          1.43048894405365,
          1.3912532329559326,
          2.718625783920288,
          1.2073782682418823,
          2.4817967414855957,
          4.453102111816406,
          1.2768977880477905,
          1.6977319717407227,
          1.087209701538086,
          0.8953770399093628,
          3.3130524158477783,
          0.5065709352493286,
          0.644739031791687,
          0.704521119594574,
          1.862430453300476,
          0.7134230136871338,
          0.6279200315475464,
          1.2795168161392212,
          2.007288932800293,
          1.0984907150268555,
          0.5229378342628479,
          0.9541563391685486,
          2.0700364112854004,
          0.7494866251945496,
          0.8776223659515381,
          0.7518739700317383,
          0.7088518738746643,
          3.6530416011810303,
          0.5858662724494934,
          0.6113296747207642,
          3.27052640914917,
          0.3684391975402832,
          1.3804782629013062,
          2.09207820892334,
          1.0618476867675781,
          2.321126937866211,
          1.4988906383514404,
          0.21755969524383545,
          1.390549659729004,
          1.0858404636383057,
          0.5622458457946777,
          1.4077863693237305,
          4.516557216644287,
          0.8278214335441589,
          0.36566421389579773,
          0.7876044511795044,
          1.216949462890625,
          1.3404462337493896,
          0.8924254179000854,
          4.387186050415039,
          2.0373899936676025,
          2.3190033435821533,
          3.348090171813965,
          3.014970064163208,
          1.4326179027557373,
          2.676840305328369,
          3.662403106689453,
          3.4452459812164307,
          1.941144347190857,
          3.129502058029175,
          3.218144655227661,
          5.03765344619751,
          1.4770808219909668,
          4.2232818603515625,
          9.893017768859863,
          3.0585179328918457,
          5.768970489501953,
          3.3399507999420166,
          3.8678998947143555,
          1.7899709939956665,
          0.9371227025985718,
          0.7005014419555664,
          2.467413902282715,
          1.7520971298217773,
          1.1644244194030762,
          4.187963008880615,
          1.8406033515930176,
          3.648575782775879,
          1.9190133810043335,
          0.4472959339618683,
          1.713083028793335,
          1.2967177629470825,
          0.9830952882766724,
          0.8158218264579773,
          3.6474084854125977,
          2.4926326274871826,
          3.9492013454437256,
          1.5656183958053589,
          0.5892221331596375,
          1.29386568069458,
          2.060659170150757,
          1.5856317281723022,
          1.1335519552230835,
          0.860500156879425,
          0.8283193111419678,
          0.6352052688598633,
          1.4955822229385376,
          1.5691884756088257,
          6.016139984130859,
          1.8889437913894653,
          3.129190444946289,
          1.760064959526062,
          1.2000459432601929,
          2.058419704437256,
          1.4405649900436401,
          0.8615669012069702,
          0.14441104233264923,
          1.2339271306991577,
          2.252525568008423,
          0.2114136964082718,
          0.46078166365623474,
          0.559190571308136,
          3.0070881843566895,
          1.7901138067245483,
          1.5265083312988281,
          1.3788806200027466,
          0.7263842821121216,
          2.9432947635650635,
          0.23010344803333282,
          0.26694434881210327,
          0.21667824685573578,
          3.0295722484588623,
          1.071360468864441,
          0.9688912034034729,
          6.098677158355713,
          1.034040927886963,
          4.115962028503418,
          3.10957932472229,
          1.028694987297058,
          2.5981359481811523,
          1.5798676013946533,
          2.8778598308563232,
          2.500201940536499,
          2.0388123989105225,
          1.4411669969558716,
          1.0347278118133545,
          1.62613046169281,
          1.250534176826477,
          2.2898054122924805,
          4.161197662353516,
          1.4278724193572998,
          4.182008743286133,
          2.2725610733032227,
          2.4639952182769775,
          10.734058380126953,
          1.5624980926513672,
          2.8527846336364746,
          2.2516608238220215,
          9.181519508361816,
          3.077688217163086,
          4.056114673614502,
          2.1922693252563477,
          7.339626789093018,
          4.51613712310791,
          2.7401602268218994,
          1.1574519872665405,
          3.2694976329803467,
          1.3090243339538574,
          0.9057109355926514,
          4.827462673187256,
          5.525877952575684,
          3.969388961791992,
          4.342611312866211,
          4.227319240570068,
          5.575881481170654,
          4.096574306488037,
          4.5257039070129395,
          3.7991063594818115,
          8.26856517791748,
          2.8549234867095947,
          3.3699803352355957,
          3.0894875526428223,
          3.018649101257324,
          2.8507392406463623,
          0.683935284614563,
          2.677003860473633,
          7.374722003936768,
          3.5784099102020264,
          0.35935547947883606,
          0.8260942101478577,
          1.6721066236495972,
          1.3306875228881836,
          0.9340975284576416,
          1.1419209241867065,
          4.942978858947754,
          2.9015467166900635,
          2.7356297969818115,
          0.8922446966171265,
          2.3562004566192627,
          0.43532466888427734,
          4.729358196258545,
          5.283679008483887,
          3.5984256267547607,
          0.6287661790847778,
          1.0006351470947266,
          3.4182393550872803,
          2.8577017784118652,
          1.478054404258728,
          3.1614701747894287,
          3.3789429664611816,
          1.9478448629379272,
          2.5136702060699463,
          2.7224903106689453,
          1.2569600343704224,
          0.3249111771583557,
          0.941864013671875,
          1.8816338777542114,
          5.579503536224365,
          1.9227931499481201,
          2.46001935005188,
          0.5428035259246826,
          1.3585971593856812,
          2.2426154613494873,
          2.0879242420196533,
          1.0196776390075684,
          0.6852642297744751,
          2.5146093368530273,
          6.252923965454102,
          1.1467442512512207,
          2.6210739612579346,
          0.9072213172912598,
          2.0072033405303955,
          0.6913524866104126,
          0.09357858449220657,
          3.897183895111084,
          1.1200077533721924,
          1.6750216484069824,
          1.7544687986373901,
          1.4410827159881592,
          0.5024542808532715,
          1.247299313545227,
          2.3394315242767334,
          6.14284086227417,
          2.2349467277526855,
          1.8215959072113037,
          1.2950479984283447,
          1.9485405683517456,
          2.711249828338623,
          0.49657097458839417,
          0.5136673450469971,
          1.1465954780578613,
          0.837181806564331,
          4.083362579345703,
          3.1770198345184326,
          3.3559799194335938,
          3.8737237453460693,
          1.061948537826538,
          2.3231770992279053,
          2.521688461303711,
          4.115749359130859,
          6.300159454345703,
          8.112585067749023,
          3.746546983718872,
          4.521318435668945,
          9.941946029663086,
          0.34057286381721497,
          5.176860332489014,
          6.7743659019470215,
          6.593391418457031,
          5.025026321411133,
          8.719648361206055,
          7.406900882720947,
          5.507630348205566,
          1.4441838264465332,
          2.142420530319214,
          6.67783784866333,
          4.063453674316406,
          0.41648998856544495,
          1.9395697116851807,
          0.6439691781997681,
          2.0418241024017334,
          0.22820957005023956,
          0.012327000498771667,
          0.10851544886827469,
          3.111902952194214,
          2.3475024700164795,
          3.166807174682617,
          3.0794525146484375,
          1.6607892513275146,
          1.2858734130859375,
          6.427314281463623,
          2.4418580532073975,
          0.564735472202301,
          0.8429886102676392,
          2.134047508239746,
          1.6246014833450317,
          1.1922016143798828,
          0.79729825258255,
          0.16471879184246063,
          4.089548110961914,
          1.92598557472229,
          1.9238337278366089,
          0.875977635383606,
          4.1504082679748535,
          0.5382922887802124,
          1.922844409942627,
          1.699191689491272,
          3.7646002769470215,
          0.33713969588279724,
          2.84263014793396,
          0.6167906522750854,
          6.172598361968994,
          2.1201131343841553,
          1.0092499256134033,
          2.5572736263275146,
          2.82169246673584,
          1.9116240739822388,
          0.46972447633743286,
          2.0365872383117676,
          0.7961735725402832,
          2.433650016784668,
          2.2817976474761963,
          2.5746102333068848,
          0.4398784339427948,
          2.8836581707000732,
          2.588266372680664,
          3.5761916637420654,
          2.1997463703155518,
          0.7001338005065918,
          1.100184440612793,
          1.033596158027649,
          1.731088399887085,
          0.7042338252067566,
          1.7021135091781616,
          1.5630841255187988,
          0.5172015428543091,
          0.8677765727043152,
          0.6886775493621826,
          0.15760403871536255,
          1.3555704355239868,
          3.0151376724243164,
          1.6186249256134033,
          2.414780855178833,
          4.984672546386719,
          1.8954496383666992,
          2.6103618144989014,
          1.467252492904663,
          1.8190124034881592,
          3.4505419731140137,
          3.4001076221466064,
          1.2685723304748535,
          3.671039342880249,
          4.707963943481445,
          3.2948105335235596,
          5.535890102386475,
          1.6434895992279053,
          0.7107086777687073,
          0.6061624884605408,
          3.369877576828003,
          6.163990020751953,
          5.530992031097412,
          1.089280366897583,
          2.6786787509918213,
          4.712580680847168,
          1.9399408102035522,
          5.624324798583984,
          5.650608062744141,
          1.4345202445983887,
          2.778386116027832,
          1.939058542251587,
          0.8143320083618164,
          0.5228675603866577,
          5.424755096435547,
          4.679388999938965,
          4.865160942077637,
          2.1366636753082275,
          4.3787336349487305,
          1.249778151512146,
          3.3916568756103516,
          0.10743673890829086,
          0.051520876586437225,
          4.477596282958984,
          2.167999029159546,
          2.792717218399048,
          5.825512886047363,
          1.5875325202941895,
          2.920595169067383,
          7.691413402557373,
          5.2018914222717285,
          0.8490056991577148,
          4.80073881149292,
          2.7665228843688965,
          0.6428279876708984,
          2.3890271186828613,
          3.8809876441955566,
          0.5633606910705566,
          0.15600576996803284,
          0.12525330483913422,
          0.4411044418811798,
          4.781774997711182,
          1.504468560218811,
          5.512655258178711,
          5.710560321807861,
          3.3383617401123047,
          1.9346799850463867,
          5.4017438888549805,
          5.41574239730835,
          4.867981910705566,
          1.811009407043457,
          4.641680717468262,
          5.078794479370117,
          4.063730716705322,
          0.31526920199394226,
          6.028494834899902,
          2.951033353805542,
          0.738751232624054,
          4.9976959228515625,
          2.5961546897888184,
          4.108119487762451,
          1.032304048538208,
          3.323970079421997,
          3.1801531314849854,
          3.5472207069396973,
          2.38960862159729,
          2.977508306503296,
          2.160767078399658,
          8.24789810180664,
          2.152850866317749,
          3.952188014984131,
          1.2267687320709229,
          2.66736102104187,
          1.1024643182754517,
          1.666234016418457,
          3.26922607421875,
          3.042571544647217,
          4.009601593017578,
          1.2784112691879272,
          0.4450315535068512,
          0.8847813010215759,
          0.5899984240531921,
          0.38207438588142395,
          2.9493236541748047,
          1.7833689451217651,
          1.7936980724334717,
          1.9638491868972778,
          4.118914604187012,
          2.655722141265869,
          4.1765851974487305,
          5.0348381996154785,
          2.2338504791259766,
          0.40505608916282654,
          2.1688878536224365,
          5.338140964508057,
          3.6326491832733154,
          0.4342484474182129,
          2.523606538772583,
          4.521525859832764,
          5.197702884674072,
          1.6525671482086182,
          3.1663661003112793,
          1.3512324094772339,
          1.198126196861267,
          7.152040004730225,
          4.635715007781982,
          8.020271301269531,
          2.4736526012420654,
          8.279383659362793,
          0,
          0,
          0,
          0,
          0,
          0,
          0,
          0,
          0,
          0,
          0,
          0,
          0,
          0,
          0,
          0,
          0,
          0,
          0,
          0,
          0,
          0,
          0,
          0,
          0,
          0,
          0,
          0,
          0,
          0,
          0,
          0,
          0,
          0,
          0.4947376549243927,
          0.7680581212043762,
          0.5360857248306274,
          3.2758846282958984,
          5.452373504638672,
          1.9202497005462646,
          0.7727652192115784,
          1.364612102508545,
          1.781988501548767,
          0.76254802942276,
          10.387552261352539,
          2.324680805206299,
          4.651065349578857,
          2.071777105331421,
          5.845203876495361,
          1.8243390321731567,
          4.61845064163208,
          3.8079559803009033,
          4.926753997802734,
          6.463931083679199,
          6.914344310760498,
          0.7036290168762207,
          11.044394493103027,
          5.306019306182861,
          3.5038299560546875,
          6.248008728027344,
          6.3493242263793945,
          2.779564619064331,
          3.4159438610076904,
          3.7440860271453857,
          4.0425615310668945,
          3.0692379474639893,
          3.328295946121216,
          5.90165901184082,
          3.185655355453491,
          2.8742620944976807,
          0.3471105396747589,
          1.6915055513381958,
          5.9364495277404785,
          2.045430898666382,
          1.720330834388733,
          2.9349920749664307,
          4.094744682312012,
          1.2827444076538086,
          0.6917656660079956,
          3.0134053230285645,
          0.976883590221405,
          0.4271090030670166,
          0.5575672388076782,
          0.507729172706604,
          1.3871444463729858,
          0.6843534111976624,
          1.0749074220657349,
          1.1477173566818237,
          3.0808627605438232,
          2.783734083175659,
          0.2856404185295105,
          2.1095831394195557,
          0.6161895990371704,
          0.39822760224342346,
          0.32927554845809937,
          1.537219762802124,
          0.41233059763908386,
          1.5001249313354492,
          3.6895854473114014,
          4.805263519287109,
          2.287569999694824,
          1.9954124689102173,
          3.310570001602173,
          2.624833106994629,
          3.2475924491882324,
          4.54976224899292,
          1.4800297021865845,
          0.7541860938072205,
          3.3303136825561523,
          2.0882205963134766,
          0.9104552268981934,
          2.0984246730804443,
          3.0967888832092285,
          1.1017615795135498,
          2.7333457469940186
         ],
         "yaxis": "y"
        }
       ],
       "layout": {
        "barmode": "group",
        "coloraxis": {
         "colorbar": {
          "title": {
           "text": "Laser"
          }
         },
         "colorscale": [
          [
           0,
           "#0d0887"
          ],
          [
           0.1111111111111111,
           "#46039f"
          ],
          [
           0.2222222222222222,
           "#7201a8"
          ],
          [
           0.3333333333333333,
           "#9c179e"
          ],
          [
           0.4444444444444444,
           "#bd3786"
          ],
          [
           0.5555555555555556,
           "#d8576b"
          ],
          [
           0.6666666666666666,
           "#ed7953"
          ],
          [
           0.7777777777777778,
           "#fb9f3a"
          ],
          [
           0.8888888888888888,
           "#fdca26"
          ],
          [
           1,
           "#f0f921"
          ]
         ]
        },
        "legend": {
         "tracegroupgap": 0
        },
        "margin": {
         "t": 60
        },
        "template": {
         "data": {
          "bar": [
           {
            "error_x": {
             "color": "#2a3f5f"
            },
            "error_y": {
             "color": "#2a3f5f"
            },
            "marker": {
             "line": {
              "color": "#E5ECF6",
              "width": 0.5
             },
             "pattern": {
              "fillmode": "overlay",
              "size": 10,
              "solidity": 0.2
             }
            },
            "type": "bar"
           }
          ],
          "barpolar": [
           {
            "marker": {
             "line": {
              "color": "#E5ECF6",
              "width": 0.5
             },
             "pattern": {
              "fillmode": "overlay",
              "size": 10,
              "solidity": 0.2
             }
            },
            "type": "barpolar"
           }
          ],
          "carpet": [
           {
            "aaxis": {
             "endlinecolor": "#2a3f5f",
             "gridcolor": "white",
             "linecolor": "white",
             "minorgridcolor": "white",
             "startlinecolor": "#2a3f5f"
            },
            "baxis": {
             "endlinecolor": "#2a3f5f",
             "gridcolor": "white",
             "linecolor": "white",
             "minorgridcolor": "white",
             "startlinecolor": "#2a3f5f"
            },
            "type": "carpet"
           }
          ],
          "choropleth": [
           {
            "colorbar": {
             "outlinewidth": 0,
             "ticks": ""
            },
            "type": "choropleth"
           }
          ],
          "contour": [
           {
            "colorbar": {
             "outlinewidth": 0,
             "ticks": ""
            },
            "colorscale": [
             [
              0,
              "#0d0887"
             ],
             [
              0.1111111111111111,
              "#46039f"
             ],
             [
              0.2222222222222222,
              "#7201a8"
             ],
             [
              0.3333333333333333,
              "#9c179e"
             ],
             [
              0.4444444444444444,
              "#bd3786"
             ],
             [
              0.5555555555555556,
              "#d8576b"
             ],
             [
              0.6666666666666666,
              "#ed7953"
             ],
             [
              0.7777777777777778,
              "#fb9f3a"
             ],
             [
              0.8888888888888888,
              "#fdca26"
             ],
             [
              1,
              "#f0f921"
             ]
            ],
            "type": "contour"
           }
          ],
          "contourcarpet": [
           {
            "colorbar": {
             "outlinewidth": 0,
             "ticks": ""
            },
            "type": "contourcarpet"
           }
          ],
          "heatmap": [
           {
            "colorbar": {
             "outlinewidth": 0,
             "ticks": ""
            },
            "colorscale": [
             [
              0,
              "#0d0887"
             ],
             [
              0.1111111111111111,
              "#46039f"
             ],
             [
              0.2222222222222222,
              "#7201a8"
             ],
             [
              0.3333333333333333,
              "#9c179e"
             ],
             [
              0.4444444444444444,
              "#bd3786"
             ],
             [
              0.5555555555555556,
              "#d8576b"
             ],
             [
              0.6666666666666666,
              "#ed7953"
             ],
             [
              0.7777777777777778,
              "#fb9f3a"
             ],
             [
              0.8888888888888888,
              "#fdca26"
             ],
             [
              1,
              "#f0f921"
             ]
            ],
            "type": "heatmap"
           }
          ],
          "heatmapgl": [
           {
            "colorbar": {
             "outlinewidth": 0,
             "ticks": ""
            },
            "colorscale": [
             [
              0,
              "#0d0887"
             ],
             [
              0.1111111111111111,
              "#46039f"
             ],
             [
              0.2222222222222222,
              "#7201a8"
             ],
             [
              0.3333333333333333,
              "#9c179e"
             ],
             [
              0.4444444444444444,
              "#bd3786"
             ],
             [
              0.5555555555555556,
              "#d8576b"
             ],
             [
              0.6666666666666666,
              "#ed7953"
             ],
             [
              0.7777777777777778,
              "#fb9f3a"
             ],
             [
              0.8888888888888888,
              "#fdca26"
             ],
             [
              1,
              "#f0f921"
             ]
            ],
            "type": "heatmapgl"
           }
          ],
          "histogram": [
           {
            "marker": {
             "pattern": {
              "fillmode": "overlay",
              "size": 10,
              "solidity": 0.2
             }
            },
            "type": "histogram"
           }
          ],
          "histogram2d": [
           {
            "colorbar": {
             "outlinewidth": 0,
             "ticks": ""
            },
            "colorscale": [
             [
              0,
              "#0d0887"
             ],
             [
              0.1111111111111111,
              "#46039f"
             ],
             [
              0.2222222222222222,
              "#7201a8"
             ],
             [
              0.3333333333333333,
              "#9c179e"
             ],
             [
              0.4444444444444444,
              "#bd3786"
             ],
             [
              0.5555555555555556,
              "#d8576b"
             ],
             [
              0.6666666666666666,
              "#ed7953"
             ],
             [
              0.7777777777777778,
              "#fb9f3a"
             ],
             [
              0.8888888888888888,
              "#fdca26"
             ],
             [
              1,
              "#f0f921"
             ]
            ],
            "type": "histogram2d"
           }
          ],
          "histogram2dcontour": [
           {
            "colorbar": {
             "outlinewidth": 0,
             "ticks": ""
            },
            "colorscale": [
             [
              0,
              "#0d0887"
             ],
             [
              0.1111111111111111,
              "#46039f"
             ],
             [
              0.2222222222222222,
              "#7201a8"
             ],
             [
              0.3333333333333333,
              "#9c179e"
             ],
             [
              0.4444444444444444,
              "#bd3786"
             ],
             [
              0.5555555555555556,
              "#d8576b"
             ],
             [
              0.6666666666666666,
              "#ed7953"
             ],
             [
              0.7777777777777778,
              "#fb9f3a"
             ],
             [
              0.8888888888888888,
              "#fdca26"
             ],
             [
              1,
              "#f0f921"
             ]
            ],
            "type": "histogram2dcontour"
           }
          ],
          "mesh3d": [
           {
            "colorbar": {
             "outlinewidth": 0,
             "ticks": ""
            },
            "type": "mesh3d"
           }
          ],
          "parcoords": [
           {
            "line": {
             "colorbar": {
              "outlinewidth": 0,
              "ticks": ""
             }
            },
            "type": "parcoords"
           }
          ],
          "pie": [
           {
            "automargin": true,
            "type": "pie"
           }
          ],
          "scatter": [
           {
            "fillpattern": {
             "fillmode": "overlay",
             "size": 10,
             "solidity": 0.2
            },
            "type": "scatter"
           }
          ],
          "scatter3d": [
           {
            "line": {
             "colorbar": {
              "outlinewidth": 0,
              "ticks": ""
             }
            },
            "marker": {
             "colorbar": {
              "outlinewidth": 0,
              "ticks": ""
             }
            },
            "type": "scatter3d"
           }
          ],
          "scattercarpet": [
           {
            "marker": {
             "colorbar": {
              "outlinewidth": 0,
              "ticks": ""
             }
            },
            "type": "scattercarpet"
           }
          ],
          "scattergeo": [
           {
            "marker": {
             "colorbar": {
              "outlinewidth": 0,
              "ticks": ""
             }
            },
            "type": "scattergeo"
           }
          ],
          "scattergl": [
           {
            "marker": {
             "colorbar": {
              "outlinewidth": 0,
              "ticks": ""
             }
            },
            "type": "scattergl"
           }
          ],
          "scattermapbox": [
           {
            "marker": {
             "colorbar": {
              "outlinewidth": 0,
              "ticks": ""
             }
            },
            "type": "scattermapbox"
           }
          ],
          "scatterpolar": [
           {
            "marker": {
             "colorbar": {
              "outlinewidth": 0,
              "ticks": ""
             }
            },
            "type": "scatterpolar"
           }
          ],
          "scatterpolargl": [
           {
            "marker": {
             "colorbar": {
              "outlinewidth": 0,
              "ticks": ""
             }
            },
            "type": "scatterpolargl"
           }
          ],
          "scatterternary": [
           {
            "marker": {
             "colorbar": {
              "outlinewidth": 0,
              "ticks": ""
             }
            },
            "type": "scatterternary"
           }
          ],
          "surface": [
           {
            "colorbar": {
             "outlinewidth": 0,
             "ticks": ""
            },
            "colorscale": [
             [
              0,
              "#0d0887"
             ],
             [
              0.1111111111111111,
              "#46039f"
             ],
             [
              0.2222222222222222,
              "#7201a8"
             ],
             [
              0.3333333333333333,
              "#9c179e"
             ],
             [
              0.4444444444444444,
              "#bd3786"
             ],
             [
              0.5555555555555556,
              "#d8576b"
             ],
             [
              0.6666666666666666,
              "#ed7953"
             ],
             [
              0.7777777777777778,
              "#fb9f3a"
             ],
             [
              0.8888888888888888,
              "#fdca26"
             ],
             [
              1,
              "#f0f921"
             ]
            ],
            "type": "surface"
           }
          ],
          "table": [
           {
            "cells": {
             "fill": {
              "color": "#EBF0F8"
             },
             "line": {
              "color": "white"
             }
            },
            "header": {
             "fill": {
              "color": "#C8D4E3"
             },
             "line": {
              "color": "white"
             }
            },
            "type": "table"
           }
          ]
         },
         "layout": {
          "annotationdefaults": {
           "arrowcolor": "#2a3f5f",
           "arrowhead": 0,
           "arrowwidth": 1
          },
          "autotypenumbers": "strict",
          "coloraxis": {
           "colorbar": {
            "outlinewidth": 0,
            "ticks": ""
           }
          },
          "colorscale": {
           "diverging": [
            [
             0,
             "#8e0152"
            ],
            [
             0.1,
             "#c51b7d"
            ],
            [
             0.2,
             "#de77ae"
            ],
            [
             0.3,
             "#f1b6da"
            ],
            [
             0.4,
             "#fde0ef"
            ],
            [
             0.5,
             "#f7f7f7"
            ],
            [
             0.6,
             "#e6f5d0"
            ],
            [
             0.7,
             "#b8e186"
            ],
            [
             0.8,
             "#7fbc41"
            ],
            [
             0.9,
             "#4d9221"
            ],
            [
             1,
             "#276419"
            ]
           ],
           "sequential": [
            [
             0,
             "#0d0887"
            ],
            [
             0.1111111111111111,
             "#46039f"
            ],
            [
             0.2222222222222222,
             "#7201a8"
            ],
            [
             0.3333333333333333,
             "#9c179e"
            ],
            [
             0.4444444444444444,
             "#bd3786"
            ],
            [
             0.5555555555555556,
             "#d8576b"
            ],
            [
             0.6666666666666666,
             "#ed7953"
            ],
            [
             0.7777777777777778,
             "#fb9f3a"
            ],
            [
             0.8888888888888888,
             "#fdca26"
            ],
            [
             1,
             "#f0f921"
            ]
           ],
           "sequentialminus": [
            [
             0,
             "#0d0887"
            ],
            [
             0.1111111111111111,
             "#46039f"
            ],
            [
             0.2222222222222222,
             "#7201a8"
            ],
            [
             0.3333333333333333,
             "#9c179e"
            ],
            [
             0.4444444444444444,
             "#bd3786"
            ],
            [
             0.5555555555555556,
             "#d8576b"
            ],
            [
             0.6666666666666666,
             "#ed7953"
            ],
            [
             0.7777777777777778,
             "#fb9f3a"
            ],
            [
             0.8888888888888888,
             "#fdca26"
            ],
            [
             1,
             "#f0f921"
            ]
           ]
          },
          "colorway": [
           "#636efa",
           "#EF553B",
           "#00cc96",
           "#ab63fa",
           "#FFA15A",
           "#19d3f3",
           "#FF6692",
           "#B6E880",
           "#FF97FF",
           "#FECB52"
          ],
          "font": {
           "color": "#2a3f5f"
          },
          "geo": {
           "bgcolor": "white",
           "lakecolor": "white",
           "landcolor": "#E5ECF6",
           "showlakes": true,
           "showland": true,
           "subunitcolor": "white"
          },
          "hoverlabel": {
           "align": "left"
          },
          "hovermode": "closest",
          "mapbox": {
           "style": "light"
          },
          "paper_bgcolor": "white",
          "plot_bgcolor": "#E5ECF6",
          "polar": {
           "angularaxis": {
            "gridcolor": "white",
            "linecolor": "white",
            "ticks": ""
           },
           "bgcolor": "#E5ECF6",
           "radialaxis": {
            "gridcolor": "white",
            "linecolor": "white",
            "ticks": ""
           }
          },
          "scene": {
           "xaxis": {
            "backgroundcolor": "#E5ECF6",
            "gridcolor": "white",
            "gridwidth": 2,
            "linecolor": "white",
            "showbackground": true,
            "ticks": "",
            "zerolinecolor": "white"
           },
           "yaxis": {
            "backgroundcolor": "#E5ECF6",
            "gridcolor": "white",
            "gridwidth": 2,
            "linecolor": "white",
            "showbackground": true,
            "ticks": "",
            "zerolinecolor": "white"
           },
           "zaxis": {
            "backgroundcolor": "#E5ECF6",
            "gridcolor": "white",
            "gridwidth": 2,
            "linecolor": "white",
            "showbackground": true,
            "ticks": "",
            "zerolinecolor": "white"
           }
          },
          "shapedefaults": {
           "line": {
            "color": "#2a3f5f"
           }
          },
          "ternary": {
           "aaxis": {
            "gridcolor": "white",
            "linecolor": "white",
            "ticks": ""
           },
           "baxis": {
            "gridcolor": "white",
            "linecolor": "white",
            "ticks": ""
           },
           "bgcolor": "#E5ECF6",
           "caxis": {
            "gridcolor": "white",
            "linecolor": "white",
            "ticks": ""
           }
          },
          "title": {
           "x": 0.05
          },
          "xaxis": {
           "automargin": true,
           "gridcolor": "white",
           "linecolor": "white",
           "ticks": "",
           "title": {
            "standoff": 15
           },
           "zerolinecolor": "white",
           "zerolinewidth": 2
          },
          "yaxis": {
           "automargin": true,
           "gridcolor": "white",
           "linecolor": "white",
           "ticks": "",
           "title": {
            "standoff": 15
           },
           "zerolinecolor": "white",
           "zerolinewidth": 2
          }
         }
        },
        "xaxis": {
         "anchor": "y",
         "domain": [
          0,
          1
         ],
         "title": {
          "text": "Camera"
         }
        },
        "yaxis": {
         "anchor": "x",
         "autorange": "reversed",
         "domain": [
          0,
          1
         ],
         "title": {
          "text": "residual"
         }
        }
       }
      }
     },
     "metadata": {},
     "output_type": "display_data"
    }
   ],
   "source": [
    "# get residuals on beamCaptures\n",
    "\n",
    "data_points = []\n",
    "for camera_capture in calibrate_node['Content']['cameraCaptures']['captures']:\n",
    "\tfor laser_capture in camera_capture['laserCaptures']['captures']:\n",
    "\t\tif laser_capture['Selected']:\n",
    "\t\t\tbeam_capture_index = 0\n",
    "\t\t\tfor beam_capture in laser_capture['beamCaptures']['captures']:\n",
    "\t\t\t\tif beam_capture['Selected']:\n",
    "\t\t\t\t\tdata_point = {}\n",
    "\t\t\t\t\tdata_point['Camera'] = \"{0} {1}\".format(camera_capture['date'], camera_capture['time'])\n",
    "\t\t\t\t\tdata_point['Laser'] = laser_capture['serialNumber']\n",
    "\t\t\t\t\tdata_point['projectionPoint_x'] = beam_capture['projectionPoint'][0]\n",
    "\t\t\t\t\tdata_point['projectionPoint_y'] = beam_capture['projectionPoint'][1]\n",
    "\t\t\t\t\tdata_point['residual'] = beam_capture['residual']\n",
    "\t\t\t\t\tdata_point['beam_capture_index'] = beam_capture_index\n",
    "\t\t\t\t\tdata_points.append(data_point)\n",
    "\t\t\t\t\tbeam_capture_index += 1\n",
    "\n",
    "\n",
    "fig = px.bar(data_points\n",
    "\t, x='Camera'\n",
    "\t, color='Laser'\n",
    "\t, y='residual'\n",
    "\t, hover_name='Laser'\n",
    "\t, hover_data=['beam_capture_index', 'projectionPoint_x', 'projectionPoint_y']\n",
    "\t, barmode=\"group\")\n",
    "fig.update_yaxes(autorange=\"reversed\")\n",
    "fig.show()"
   ]
  },
  {
   "cell_type": "code",
   "execution_count": 83,
   "metadata": {},
   "outputs": [
    {
     "data": {
      "application/vnd.plotly.v1+json": {
       "config": {
        "plotlyServerURL": "https://plot.ly"
       },
       "data": [
        {
         "customdata": [
          [
           0,
           -0.5,
           -0.5
          ],
          [
           1,
           0,
           -0.5
          ],
          [
           2,
           0.5,
           -0.5
          ],
          [
           3,
           -0.5,
           0
          ],
          [
           4,
           0,
           0
          ],
          [
           5,
           0.5,
           0
          ],
          [
           6,
           -0.5,
           0.5
          ],
          [
           7,
           0,
           0.5
          ],
          [
           8,
           0.5,
           0.5
          ],
          [
           0,
           -0.5,
           -0.5
          ],
          [
           1,
           0,
           -0.5
          ],
          [
           2,
           0.5,
           -0.5
          ],
          [
           3,
           -0.5,
           0
          ],
          [
           4,
           0,
           0
          ],
          [
           5,
           0.5,
           0
          ],
          [
           6,
           -0.5,
           0.5
          ],
          [
           7,
           0,
           0.5
          ],
          [
           8,
           0.5,
           0.5
          ],
          [
           0,
           -0.5,
           -0.5
          ],
          [
           1,
           0,
           -0.5
          ],
          [
           2,
           0.5,
           -0.5
          ],
          [
           3,
           -0.5,
           0
          ],
          [
           4,
           0,
           0
          ],
          [
           5,
           0.5,
           0
          ],
          [
           6,
           -0.5,
           0.5
          ],
          [
           7,
           0,
           0.5
          ],
          [
           8,
           0.5,
           0.5
          ],
          [
           0,
           0,
           -0.5
          ],
          [
           1,
           0.5,
           -0.5
          ],
          [
           2,
           -0.5,
           0
          ],
          [
           3,
           0.5,
           0
          ],
          [
           4,
           -0.5,
           0.5
          ],
          [
           5,
           0,
           0.5
          ],
          [
           6,
           0.5,
           0.5
          ],
          [
           0,
           -0.5,
           -0.5
          ],
          [
           1,
           0,
           -0.5
          ],
          [
           2,
           0.5,
           -0.5
          ],
          [
           3,
           -0.5,
           0
          ],
          [
           4,
           0,
           0
          ],
          [
           5,
           0.5,
           0
          ],
          [
           6,
           -0.5,
           0.5
          ],
          [
           7,
           0,
           0.5
          ],
          [
           8,
           0.5,
           0.5
          ],
          [
           0,
           -0.5,
           -0.5
          ],
          [
           1,
           0,
           -0.5
          ],
          [
           2,
           0.5,
           -0.5
          ],
          [
           3,
           -0.5,
           0
          ],
          [
           4,
           0,
           0
          ],
          [
           5,
           0.5,
           0
          ],
          [
           6,
           -0.5,
           0.5
          ],
          [
           7,
           0,
           0.5
          ],
          [
           8,
           0.5,
           0.5
          ],
          [
           0,
           -0.5,
           -0.5
          ],
          [
           1,
           0,
           -0.5
          ],
          [
           2,
           0.5,
           -0.5
          ],
          [
           3,
           -0.5,
           0
          ],
          [
           4,
           0,
           0
          ],
          [
           5,
           0.5,
           0
          ],
          [
           6,
           -0.5,
           0.5
          ],
          [
           7,
           0,
           0.5
          ],
          [
           8,
           0.5,
           0.5
          ],
          [
           0,
           -0.5,
           -0.5
          ],
          [
           1,
           0,
           -0.5
          ],
          [
           2,
           0.5,
           -0.5
          ],
          [
           3,
           -0.5,
           0
          ],
          [
           4,
           0,
           0
          ],
          [
           5,
           0.5,
           0
          ],
          [
           6,
           -0.5,
           0.5
          ],
          [
           7,
           0,
           0.5
          ],
          [
           8,
           0.5,
           0.5
          ],
          [
           0,
           -0.5,
           -0.5
          ],
          [
           1,
           0,
           -0.5
          ],
          [
           2,
           0.5,
           -0.5
          ],
          [
           3,
           -0.5,
           0
          ],
          [
           4,
           0,
           0
          ],
          [
           5,
           0.5,
           0
          ],
          [
           6,
           -0.5,
           0.5
          ],
          [
           7,
           0,
           0.5
          ],
          [
           8,
           0.5,
           0.5
          ],
          [
           0,
           -0.5,
           -0.5
          ],
          [
           1,
           0,
           -0.5
          ],
          [
           2,
           0.5,
           -0.5
          ],
          [
           3,
           -0.5,
           0
          ],
          [
           4,
           0,
           0
          ],
          [
           5,
           0.5,
           0
          ],
          [
           6,
           -0.5,
           0.5
          ],
          [
           7,
           0,
           0.5
          ],
          [
           8,
           0.5,
           0.5
          ],
          [
           0,
           -0.5,
           -0.5
          ],
          [
           1,
           0,
           -0.5
          ],
          [
           2,
           0.5,
           -0.5
          ],
          [
           3,
           -0.5,
           0
          ],
          [
           4,
           0,
           0
          ],
          [
           5,
           0.5,
           0
          ],
          [
           6,
           -0.5,
           0.5
          ],
          [
           7,
           0,
           0.5
          ],
          [
           8,
           0.5,
           0.5
          ],
          [
           0,
           0,
           -0.5
          ],
          [
           1,
           0.5,
           -0.5
          ],
          [
           2,
           -0.5,
           0
          ],
          [
           3,
           0,
           0
          ],
          [
           4,
           0.5,
           0
          ],
          [
           5,
           -0.5,
           0.5
          ],
          [
           6,
           0,
           0.5
          ],
          [
           7,
           0.5,
           0.5
          ],
          [
           0,
           -0.5,
           -0.5
          ],
          [
           1,
           0,
           -0.5
          ],
          [
           2,
           0.5,
           -0.5
          ],
          [
           3,
           -0.5,
           0
          ],
          [
           4,
           0.5,
           0
          ],
          [
           5,
           -0.5,
           0.5
          ],
          [
           6,
           0,
           0.5
          ],
          [
           7,
           0.5,
           0.5
          ],
          [
           0,
           -0.5,
           -0.5
          ],
          [
           1,
           0,
           -0.5
          ],
          [
           2,
           0.5,
           -0.5
          ],
          [
           3,
           -0.5,
           0
          ],
          [
           4,
           0,
           0
          ],
          [
           5,
           0.5,
           0
          ],
          [
           6,
           -0.5,
           0.5
          ],
          [
           7,
           0,
           0.5
          ],
          [
           8,
           0.5,
           0.5
          ],
          [
           0,
           -0.5,
           -0.5
          ],
          [
           1,
           -0.5,
           0
          ],
          [
           2,
           0,
           0
          ],
          [
           3,
           0.5,
           0
          ],
          [
           4,
           -0.5,
           0.5
          ],
          [
           5,
           0,
           0.5
          ],
          [
           6,
           0.5,
           0.5
          ],
          [
           0,
           -0.5,
           -0.5
          ],
          [
           1,
           0,
           -0.5
          ],
          [
           2,
           0.5,
           -0.5
          ],
          [
           3,
           -0.5,
           0
          ],
          [
           4,
           0,
           0
          ],
          [
           5,
           0.5,
           0
          ],
          [
           6,
           -0.5,
           0.5
          ],
          [
           7,
           0,
           0.5
          ],
          [
           8,
           0.5,
           0.5
          ],
          [
           0,
           -0.5,
           -0.5
          ],
          [
           1,
           0,
           -0.5
          ],
          [
           2,
           0.5,
           -0.5
          ],
          [
           3,
           -0.5,
           0
          ],
          [
           4,
           0,
           0
          ],
          [
           5,
           0.5,
           0
          ],
          [
           6,
           -0.5,
           0.5
          ],
          [
           7,
           0,
           0.5
          ],
          [
           8,
           0.5,
           0.5
          ],
          [
           0,
           -0.5,
           -0.5
          ],
          [
           1,
           0.5,
           -0.5
          ],
          [
           2,
           -0.5,
           0
          ],
          [
           3,
           0,
           0
          ],
          [
           4,
           0.5,
           0
          ],
          [
           5,
           -0.5,
           0.5
          ],
          [
           6,
           0,
           0.5
          ],
          [
           7,
           0.5,
           0.5
          ],
          [
           0,
           -0.5,
           -0.5
          ],
          [
           1,
           0,
           -0.5
          ],
          [
           2,
           0.5,
           -0.5
          ],
          [
           3,
           -0.5,
           0
          ],
          [
           4,
           0,
           0
          ],
          [
           5,
           0.5,
           0
          ],
          [
           6,
           -0.5,
           0.5
          ],
          [
           7,
           0,
           0.5
          ],
          [
           8,
           0.5,
           0.5
          ],
          [
           0,
           -0.5,
           -0.5
          ],
          [
           1,
           0,
           -0.5
          ],
          [
           2,
           0.5,
           -0.5
          ],
          [
           3,
           -0.5,
           0
          ],
          [
           4,
           0,
           0
          ],
          [
           5,
           0.5,
           0
          ],
          [
           6,
           -0.5,
           0.5
          ],
          [
           7,
           0,
           0.5
          ],
          [
           8,
           0.5,
           0.5
          ],
          [
           0,
           0,
           0
          ],
          [
           1,
           0.5,
           0
          ],
          [
           2,
           -0.5,
           0.5
          ],
          [
           3,
           0,
           0.5
          ],
          [
           4,
           0.5,
           0.5
          ],
          [
           0,
           -0.5,
           -0.5
          ],
          [
           1,
           0,
           -0.5
          ],
          [
           2,
           0.5,
           -0.5
          ],
          [
           3,
           -0.5,
           0
          ],
          [
           4,
           0,
           0
          ],
          [
           5,
           0.5,
           0
          ],
          [
           6,
           -0.5,
           0.5
          ],
          [
           7,
           0,
           0.5
          ],
          [
           8,
           0.5,
           0.5
          ],
          [
           0,
           -0.5,
           -0.5
          ],
          [
           1,
           0.5,
           -0.5
          ],
          [
           2,
           -0.5,
           0
          ],
          [
           3,
           0,
           0
          ],
          [
           4,
           0.5,
           0
          ],
          [
           5,
           -0.5,
           0.5
          ],
          [
           6,
           0,
           0.5
          ],
          [
           7,
           0.5,
           0.5
          ],
          [
           0,
           -0.5,
           -0.5
          ],
          [
           1,
           0,
           -0.5
          ],
          [
           2,
           0.5,
           -0.5
          ],
          [
           3,
           -0.5,
           0
          ],
          [
           4,
           0,
           0
          ],
          [
           5,
           0.5,
           0
          ],
          [
           6,
           -0.5,
           0.5
          ],
          [
           7,
           0,
           0.5
          ],
          [
           8,
           0.5,
           0.5
          ],
          [
           0,
           -0.5,
           -0.5
          ],
          [
           1,
           0,
           -0.5
          ],
          [
           2,
           0.5,
           -0.5
          ],
          [
           3,
           -0.5,
           0
          ],
          [
           4,
           0,
           0
          ],
          [
           5,
           0.5,
           0
          ],
          [
           6,
           -0.5,
           0.5
          ],
          [
           7,
           0,
           0.5
          ],
          [
           8,
           0.5,
           0.5
          ],
          [
           0,
           -0.5,
           -0.5
          ],
          [
           1,
           0,
           -0.5
          ],
          [
           2,
           0.5,
           -0.5
          ],
          [
           3,
           -0.5,
           0
          ],
          [
           4,
           0,
           0
          ],
          [
           5,
           0.5,
           0
          ],
          [
           6,
           -0.5,
           0.5
          ],
          [
           7,
           0,
           0.5
          ],
          [
           8,
           0.5,
           0.5
          ],
          [
           0,
           -0.5,
           -0.5
          ],
          [
           1,
           0,
           -0.5
          ],
          [
           2,
           0.5,
           -0.5
          ],
          [
           3,
           -0.5,
           0
          ],
          [
           4,
           0,
           0
          ],
          [
           5,
           0.5,
           0
          ],
          [
           6,
           -0.5,
           0.5
          ],
          [
           7,
           0,
           0.5
          ]
         ],
         "hovertemplate": "<b>%{hovertext}</b><br><br>Camera=Wed 2024.11.20 02:52<br>residual=%{x}<br>Laser=%{y}<br>beam_capture_index=%{customdata[0]}<br>projectionPoint_x=%{customdata[1]}<br>projectionPoint_y=%{customdata[2]}<extra></extra>",
         "hovertext": [
          1,
          1,
          1,
          1,
          1,
          1,
          1,
          1,
          1,
          2,
          2,
          2,
          2,
          2,
          2,
          2,
          2,
          2,
          3,
          3,
          3,
          3,
          3,
          3,
          3,
          3,
          3,
          4,
          4,
          4,
          4,
          4,
          4,
          4,
          36,
          36,
          36,
          36,
          36,
          36,
          36,
          36,
          36,
          6,
          6,
          6,
          6,
          6,
          6,
          6,
          6,
          6,
          7,
          7,
          7,
          7,
          7,
          7,
          7,
          7,
          7,
          8,
          8,
          8,
          8,
          8,
          8,
          8,
          8,
          8,
          10,
          10,
          10,
          10,
          10,
          10,
          10,
          10,
          10,
          27,
          27,
          27,
          27,
          27,
          27,
          27,
          27,
          27,
          40,
          40,
          40,
          40,
          40,
          40,
          40,
          40,
          40,
          13,
          13,
          13,
          13,
          13,
          13,
          13,
          13,
          15,
          15,
          15,
          15,
          15,
          15,
          15,
          15,
          16,
          16,
          16,
          16,
          16,
          16,
          16,
          16,
          16,
          17,
          17,
          17,
          17,
          17,
          17,
          17,
          18,
          18,
          18,
          18,
          18,
          18,
          18,
          18,
          18,
          19,
          19,
          19,
          19,
          19,
          19,
          19,
          19,
          19,
          20,
          20,
          20,
          20,
          20,
          20,
          20,
          20,
          21,
          21,
          21,
          21,
          21,
          21,
          21,
          21,
          21,
          22,
          22,
          22,
          22,
          22,
          22,
          22,
          22,
          22,
          29,
          29,
          29,
          29,
          29,
          30,
          30,
          30,
          30,
          30,
          30,
          30,
          30,
          30,
          31,
          31,
          31,
          31,
          31,
          31,
          31,
          31,
          32,
          32,
          32,
          32,
          32,
          32,
          32,
          32,
          32,
          33,
          33,
          33,
          33,
          33,
          33,
          33,
          33,
          33,
          38,
          38,
          38,
          38,
          38,
          38,
          38,
          38,
          38,
          39,
          39,
          39,
          39,
          39,
          39,
          39,
          39
         ],
         "legendgroup": "Wed 2024.11.20 02:52",
         "marker": {
          "color": "#636efa",
          "symbol": "circle"
         },
         "mode": "markers",
         "name": "Wed 2024.11.20 02:52",
         "orientation": "v",
         "showlegend": true,
         "type": "scatter",
         "x": [
          8.514287948608398,
          7.716701030731201,
          8.064009666442871,
          7.141143321990967,
          5.804001808166504,
          3.951805830001831,
          5.989705562591553,
          4.82194185256958,
          3.331336259841919,
          5.469137668609619,
          0.5741366147994995,
          5.14367151260376,
          2.2520716190338135,
          0.8280343413352966,
          1.6609032154083252,
          2.939371109008789,
          0.8491306900978088,
          1.4304957389831543,
          5.051778793334961,
          1.4917237758636475,
          1.9179952144622803,
          1.6427096128463745,
          1.9359099864959717,
          1.8892251253128052,
          3.460474967956543,
          1.84516179561615,
          2.3759267330169678,
          1.8309706449508667,
          1.0468906164169312,
          0.9760383367538452,
          0.9948853254318237,
          3.751676321029663,
          1.2851545810699463,
          1.7125473022460938,
          4.066549301147461,
          1.1780599355697632,
          0.9241005182266235,
          1.15080988407135,
          0.7225992679595947,
          1.7564866542816162,
          0.9703226089477539,
          1.047523856163025,
          0.36793604493141174,
          1.3673604726791382,
          2.359304904937744,
          1.4739526510238647,
          1.8948445320129395,
          0.6419345736503601,
          0.5925120711326599,
          2.0184874534606934,
          0.8455333709716797,
          0.9932312965393066,
          1.9071184396743774,
          0.9542619585990906,
          4.103522777557373,
          2.639512777328491,
          0.4630661606788635,
          1.8488953113555908,
          0.8865469098091125,
          0.9268307089805603,
          0.9256788492202759,
          0.9890077114105225,
          1.6310933828353882,
          1.6080740690231323,
          1.7141199111938477,
          0.84010910987854,
          1.3296606540679932,
          2.897414445877075,
          1.450634241104126,
          2.7649831771850586,
          1.41020667552948,
          0.6486639976501465,
          1.6757138967514038,
          1.014073371887207,
          0.5148643255233765,
          0.9766910672187805,
          2.1786885261535645,
          0.9096260666847229,
          2.9422125816345215,
          1.5356348752975464,
          1.43048894405365,
          1.3912532329559326,
          2.718625783920288,
          1.2073782682418823,
          2.4817967414855957,
          4.453102111816406,
          1.2768977880477905,
          1.6977319717407227,
          1.087209701538086,
          0.8953770399093628,
          3.3130524158477783,
          0.5065709352493286,
          0.644739031791687,
          0.704521119594574,
          1.862430453300476,
          0.7134230136871338,
          0.6279200315475464,
          1.2795168161392212,
          2.007288932800293,
          1.0984907150268555,
          0.5229378342628479,
          0.9541563391685486,
          2.0700364112854004,
          0.7494866251945496,
          0.8776223659515381,
          0.7518739700317383,
          0.7088518738746643,
          3.6530416011810303,
          0.5858662724494934,
          0.6113296747207642,
          3.27052640914917,
          0.3684391975402832,
          1.3804782629013062,
          2.09207820892334,
          1.0618476867675781,
          2.321126937866211,
          1.4988906383514404,
          0.21755969524383545,
          1.390549659729004,
          1.0858404636383057,
          0.5622458457946777,
          1.4077863693237305,
          4.516557216644287,
          0.8278214335441589,
          0.36566421389579773,
          0.7876044511795044,
          1.216949462890625,
          1.3404462337493896,
          0.8924254179000854,
          4.387186050415039,
          2.0373899936676025,
          2.3190033435821533,
          3.348090171813965,
          3.014970064163208,
          1.4326179027557373,
          2.676840305328369,
          3.662403106689453,
          3.4452459812164307,
          1.941144347190857,
          3.129502058029175,
          3.218144655227661,
          5.03765344619751,
          1.4770808219909668,
          4.2232818603515625,
          9.893017768859863,
          3.0585179328918457,
          5.768970489501953,
          3.3399507999420166,
          3.8678998947143555,
          1.7899709939956665,
          0.9371227025985718,
          0.7005014419555664,
          2.467413902282715,
          1.7520971298217773,
          1.1644244194030762,
          4.187963008880615,
          1.8406033515930176,
          3.648575782775879,
          1.9190133810043335,
          0.4472959339618683,
          1.713083028793335,
          1.2967177629470825,
          0.9830952882766724,
          0.8158218264579773,
          3.6474084854125977,
          2.4926326274871826,
          3.9492013454437256,
          1.5656183958053589,
          0.5892221331596375,
          1.29386568069458,
          2.060659170150757,
          1.5856317281723022,
          1.1335519552230835,
          0.860500156879425,
          0.8283193111419678,
          0.6352052688598633,
          1.4955822229385376,
          1.5691884756088257,
          6.016139984130859,
          1.8889437913894653,
          3.129190444946289,
          1.760064959526062,
          1.2000459432601929,
          2.058419704437256,
          1.4405649900436401,
          0.8615669012069702,
          0.14441104233264923,
          1.2339271306991577,
          2.252525568008423,
          0.2114136964082718,
          0.46078166365623474,
          0.559190571308136,
          3.0070881843566895,
          1.7901138067245483,
          1.5265083312988281,
          1.3788806200027466,
          0.7263842821121216,
          2.9432947635650635,
          0.23010344803333282,
          0.26694434881210327,
          0.21667824685573578,
          3.0295722484588623,
          1.071360468864441,
          0.9688912034034729,
          6.098677158355713,
          1.034040927886963,
          4.115962028503418,
          3.10957932472229,
          1.028694987297058,
          2.5981359481811523,
          1.5798676013946533,
          2.8778598308563232,
          2.500201940536499,
          2.0388123989105225,
          1.4411669969558716,
          1.0347278118133545,
          1.62613046169281,
          1.250534176826477,
          2.2898054122924805,
          4.161197662353516,
          1.4278724193572998,
          4.182008743286133,
          2.2725610733032227,
          2.4639952182769775,
          10.734058380126953,
          1.5624980926513672,
          2.8527846336364746,
          2.2516608238220215,
          9.181519508361816,
          3.077688217163086
         ],
         "xaxis": "x",
         "y": [
          1,
          1,
          1,
          1,
          1,
          1,
          1,
          1,
          1,
          2,
          2,
          2,
          2,
          2,
          2,
          2,
          2,
          2,
          3,
          3,
          3,
          3,
          3,
          3,
          3,
          3,
          3,
          4,
          4,
          4,
          4,
          4,
          4,
          4,
          36,
          36,
          36,
          36,
          36,
          36,
          36,
          36,
          36,
          6,
          6,
          6,
          6,
          6,
          6,
          6,
          6,
          6,
          7,
          7,
          7,
          7,
          7,
          7,
          7,
          7,
          7,
          8,
          8,
          8,
          8,
          8,
          8,
          8,
          8,
          8,
          10,
          10,
          10,
          10,
          10,
          10,
          10,
          10,
          10,
          27,
          27,
          27,
          27,
          27,
          27,
          27,
          27,
          27,
          40,
          40,
          40,
          40,
          40,
          40,
          40,
          40,
          40,
          13,
          13,
          13,
          13,
          13,
          13,
          13,
          13,
          15,
          15,
          15,
          15,
          15,
          15,
          15,
          15,
          16,
          16,
          16,
          16,
          16,
          16,
          16,
          16,
          16,
          17,
          17,
          17,
          17,
          17,
          17,
          17,
          18,
          18,
          18,
          18,
          18,
          18,
          18,
          18,
          18,
          19,
          19,
          19,
          19,
          19,
          19,
          19,
          19,
          19,
          20,
          20,
          20,
          20,
          20,
          20,
          20,
          20,
          21,
          21,
          21,
          21,
          21,
          21,
          21,
          21,
          21,
          22,
          22,
          22,
          22,
          22,
          22,
          22,
          22,
          22,
          29,
          29,
          29,
          29,
          29,
          30,
          30,
          30,
          30,
          30,
          30,
          30,
          30,
          30,
          31,
          31,
          31,
          31,
          31,
          31,
          31,
          31,
          32,
          32,
          32,
          32,
          32,
          32,
          32,
          32,
          32,
          33,
          33,
          33,
          33,
          33,
          33,
          33,
          33,
          33,
          38,
          38,
          38,
          38,
          38,
          38,
          38,
          38,
          38,
          39,
          39,
          39,
          39,
          39,
          39,
          39,
          39
         ],
         "yaxis": "y"
        },
        {
         "customdata": [
          [
           0,
           -0.5,
           -0.5
          ],
          [
           1,
           0.5,
           -0.5
          ],
          [
           2,
           -0.5,
           0.5
          ],
          [
           3,
           0.5,
           0.5
          ],
          [
           0,
           -0.5,
           -0.5
          ],
          [
           1,
           0.5,
           -0.5
          ],
          [
           2,
           -0.5,
           0.5
          ],
          [
           3,
           0.5,
           0.5
          ],
          [
           0,
           -0.5,
           -0.5
          ],
          [
           1,
           0.5,
           -0.5
          ],
          [
           2,
           -0.5,
           0.5
          ],
          [
           3,
           0.5,
           0.5
          ],
          [
           0,
           -0.5,
           -0.5
          ],
          [
           1,
           0.5,
           -0.5
          ],
          [
           2,
           -0.5,
           0.5
          ],
          [
           3,
           0.5,
           0.5
          ],
          [
           0,
           -0.5,
           -0.5
          ],
          [
           1,
           0.5,
           -0.5
          ],
          [
           2,
           -0.5,
           0.5
          ],
          [
           3,
           0.5,
           0.5
          ],
          [
           0,
           -0.5,
           -0.5
          ],
          [
           1,
           0.5,
           -0.5
          ],
          [
           2,
           -0.5,
           0.5
          ],
          [
           3,
           0.5,
           0.5
          ],
          [
           0,
           -0.5,
           -0.5
          ],
          [
           1,
           0.5,
           -0.5
          ],
          [
           2,
           -0.5,
           0.5
          ],
          [
           3,
           0.5,
           0.5
          ],
          [
           0,
           -0.5,
           -0.5
          ],
          [
           1,
           0.5,
           -0.5
          ],
          [
           2,
           -0.5,
           0.5
          ],
          [
           3,
           0.5,
           0.5
          ],
          [
           0,
           -0.5,
           -0.5
          ],
          [
           1,
           0.5,
           -0.5
          ],
          [
           2,
           -0.5,
           0.5
          ],
          [
           3,
           0.5,
           0.5
          ],
          [
           0,
           -0.5,
           -0.5
          ],
          [
           1,
           0.5,
           -0.5
          ],
          [
           2,
           -0.5,
           0.5
          ],
          [
           3,
           0.5,
           0.5
          ],
          [
           0,
           0.5,
           -0.5
          ],
          [
           1,
           -0.5,
           0.5
          ],
          [
           2,
           0.5,
           0.5
          ],
          [
           0,
           -0.5,
           -0.5
          ],
          [
           1,
           0.5,
           -0.5
          ],
          [
           2,
           -0.5,
           0.5
          ],
          [
           3,
           0.5,
           0.5
          ],
          [
           0,
           -0.5,
           -0.5
          ],
          [
           1,
           0.5,
           -0.5
          ],
          [
           2,
           -0.5,
           0.5
          ],
          [
           3,
           0.5,
           0.5
          ],
          [
           0,
           -0.5,
           -0.5
          ],
          [
           1,
           0.5,
           -0.5
          ],
          [
           2,
           -0.5,
           0.5
          ],
          [
           3,
           0.5,
           0.5
          ],
          [
           0,
           -0.5,
           -0.5
          ],
          [
           1,
           0.5,
           -0.5
          ],
          [
           2,
           -0.5,
           0.5
          ],
          [
           0,
           -0.5,
           -0.5
          ],
          [
           1,
           0.5,
           -0.5
          ],
          [
           2,
           -0.5,
           0.5
          ],
          [
           3,
           0.5,
           0.5
          ],
          [
           0,
           -0.5,
           -0.5
          ],
          [
           1,
           0.5,
           -0.5
          ],
          [
           2,
           -0.5,
           0.5
          ],
          [
           3,
           0.5,
           0.5
          ],
          [
           0,
           0.5,
           -0.5
          ],
          [
           1,
           -0.5,
           0.5
          ],
          [
           2,
           0.5,
           0.5
          ],
          [
           0,
           -0.5,
           -0.5
          ],
          [
           1,
           0.5,
           -0.5
          ],
          [
           2,
           -0.5,
           0.5
          ],
          [
           3,
           0.5,
           0.5
          ],
          [
           0,
           -0.5,
           -0.5
          ],
          [
           1,
           0.5,
           -0.5
          ],
          [
           2,
           -0.5,
           0.5
          ],
          [
           3,
           0.5,
           0.5
          ],
          [
           0,
           -0.5,
           -0.5
          ],
          [
           1,
           0.5,
           -0.5
          ],
          [
           2,
           -0.5,
           0.5
          ],
          [
           3,
           0.5,
           0.5
          ],
          [
           0,
           -0.5,
           -0.5
          ],
          [
           1,
           0.5,
           -0.5
          ],
          [
           2,
           -0.5,
           0.5
          ],
          [
           3,
           0.5,
           0.5
          ],
          [
           0,
           -0.5,
           -0.5
          ],
          [
           1,
           -0.5,
           0.5
          ],
          [
           2,
           0.5,
           0.5
          ],
          [
           0,
           -0.5,
           -0.5
          ],
          [
           1,
           0.5,
           -0.5
          ],
          [
           2,
           -0.5,
           0.5
          ],
          [
           3,
           0.5,
           0.5
          ],
          [
           0,
           -0.5,
           -0.5
          ],
          [
           1,
           0.5,
           -0.5
          ],
          [
           2,
           -0.5,
           0.5
          ],
          [
           3,
           0.5,
           0.5
          ],
          [
           0,
           -0.5,
           -0.5
          ],
          [
           1,
           0.5,
           -0.5
          ],
          [
           2,
           -0.5,
           0.5
          ],
          [
           3,
           0.5,
           0.5
          ],
          [
           0,
           -0.5,
           -0.5
          ],
          [
           1,
           0.5,
           -0.5
          ],
          [
           2,
           -0.5,
           0.5
          ],
          [
           3,
           0.5,
           0.5
          ]
         ],
         "hovertemplate": "<b>%{hovertext}</b><br><br>Camera=Wed 2024.11.20 03:43<br>residual=%{x}<br>Laser=%{y}<br>beam_capture_index=%{customdata[0]}<br>projectionPoint_x=%{customdata[1]}<br>projectionPoint_y=%{customdata[2]}<extra></extra>",
         "hovertext": [
          1,
          1,
          1,
          1,
          2,
          2,
          2,
          2,
          3,
          3,
          3,
          3,
          4,
          4,
          4,
          4,
          36,
          36,
          36,
          36,
          6,
          6,
          6,
          6,
          7,
          7,
          7,
          7,
          8,
          8,
          8,
          8,
          10,
          10,
          10,
          10,
          27,
          27,
          27,
          27,
          40,
          40,
          40,
          15,
          15,
          15,
          15,
          16,
          16,
          16,
          16,
          17,
          17,
          17,
          17,
          18,
          18,
          18,
          21,
          21,
          21,
          21,
          22,
          22,
          22,
          22,
          2,
          2,
          2,
          8,
          8,
          8,
          8,
          23,
          23,
          23,
          23,
          25,
          25,
          25,
          25,
          30,
          30,
          30,
          30,
          31,
          31,
          31,
          32,
          32,
          32,
          32,
          33,
          33,
          33,
          33,
          38,
          38,
          38,
          38,
          39,
          39,
          39,
          39
         ],
         "legendgroup": "Wed 2024.11.20 03:43",
         "marker": {
          "color": "#EF553B",
          "symbol": "circle"
         },
         "mode": "markers",
         "name": "Wed 2024.11.20 03:43",
         "orientation": "v",
         "showlegend": true,
         "type": "scatter",
         "x": [
          4.056114673614502,
          2.1922693252563477,
          7.339626789093018,
          4.51613712310791,
          2.7401602268218994,
          1.1574519872665405,
          3.2694976329803467,
          1.3090243339538574,
          0.9057109355926514,
          4.827462673187256,
          5.525877952575684,
          3.969388961791992,
          4.342611312866211,
          4.227319240570068,
          5.575881481170654,
          4.096574306488037,
          4.5257039070129395,
          3.7991063594818115,
          8.26856517791748,
          2.8549234867095947,
          3.3699803352355957,
          3.0894875526428223,
          3.018649101257324,
          2.8507392406463623,
          0.683935284614563,
          2.677003860473633,
          7.374722003936768,
          3.5784099102020264,
          0.35935547947883606,
          0.8260942101478577,
          1.6721066236495972,
          1.3306875228881836,
          0.9340975284576416,
          1.1419209241867065,
          4.942978858947754,
          2.9015467166900635,
          2.7356297969818115,
          0.8922446966171265,
          2.3562004566192627,
          0.43532466888427734,
          4.729358196258545,
          5.283679008483887,
          3.5984256267547607,
          0.6287661790847778,
          1.0006351470947266,
          3.4182393550872803,
          2.8577017784118652,
          1.478054404258728,
          3.1614701747894287,
          3.3789429664611816,
          1.9478448629379272,
          2.5136702060699463,
          2.7224903106689453,
          1.2569600343704224,
          0.3249111771583557,
          0.941864013671875,
          1.8816338777542114,
          5.579503536224365,
          1.9227931499481201,
          2.46001935005188,
          0.5428035259246826,
          1.3585971593856812,
          2.2426154613494873,
          2.0879242420196533,
          1.0196776390075684,
          0.6852642297744751,
          2.5146093368530273,
          6.252923965454102,
          1.1467442512512207,
          2.6210739612579346,
          0.9072213172912598,
          2.0072033405303955,
          0.6913524866104126,
          0.09357858449220657,
          3.897183895111084,
          1.1200077533721924,
          1.6750216484069824,
          1.7544687986373901,
          1.4410827159881592,
          0.5024542808532715,
          1.247299313545227,
          2.3394315242767334,
          6.14284086227417,
          2.2349467277526855,
          1.8215959072113037,
          1.2950479984283447,
          1.9485405683517456,
          2.711249828338623,
          0.49657097458839417,
          0.5136673450469971,
          1.1465954780578613,
          0.837181806564331,
          4.083362579345703,
          3.1770198345184326,
          3.3559799194335938,
          3.8737237453460693,
          1.061948537826538,
          2.3231770992279053,
          2.521688461303711,
          4.115749359130859,
          6.300159454345703,
          8.112585067749023,
          3.746546983718872,
          4.521318435668945
         ],
         "xaxis": "x",
         "y": [
          1,
          1,
          1,
          1,
          2,
          2,
          2,
          2,
          3,
          3,
          3,
          3,
          4,
          4,
          4,
          4,
          36,
          36,
          36,
          36,
          6,
          6,
          6,
          6,
          7,
          7,
          7,
          7,
          8,
          8,
          8,
          8,
          10,
          10,
          10,
          10,
          27,
          27,
          27,
          27,
          40,
          40,
          40,
          15,
          15,
          15,
          15,
          16,
          16,
          16,
          16,
          17,
          17,
          17,
          17,
          18,
          18,
          18,
          21,
          21,
          21,
          21,
          22,
          22,
          22,
          22,
          2,
          2,
          2,
          8,
          8,
          8,
          8,
          23,
          23,
          23,
          23,
          25,
          25,
          25,
          25,
          30,
          30,
          30,
          30,
          31,
          31,
          31,
          32,
          32,
          32,
          32,
          33,
          33,
          33,
          33,
          38,
          38,
          38,
          38,
          39,
          39,
          39,
          39
         ],
         "yaxis": "y"
        },
        {
         "customdata": [
          [
           0,
           -0.5,
           -0.5
          ],
          [
           1,
           0.5,
           -0.5
          ],
          [
           0,
           -0.5,
           -0.5
          ],
          [
           1,
           0.5,
           -0.5
          ],
          [
           0,
           -0.5,
           -0.5
          ],
          [
           1,
           0.5,
           -0.5
          ],
          [
           0,
           -0.5,
           -0.5
          ],
          [
           1,
           0.5,
           -0.5
          ],
          [
           2,
           -0.5,
           0.5
          ],
          [
           0,
           -0.5,
           -0.5
          ],
          [
           1,
           0.5,
           -0.5
          ],
          [
           0,
           -0.5,
           -0.5
          ],
          [
           1,
           0.5,
           -0.5
          ],
          [
           2,
           -0.5,
           0.5
          ],
          [
           0,
           -0.5,
           -0.5
          ],
          [
           1,
           0.5,
           -0.5
          ],
          [
           2,
           -0.5,
           0.5
          ],
          [
           0,
           -0.5,
           -0.5
          ],
          [
           1,
           0.5,
           -0.5
          ],
          [
           2,
           -0.5,
           0.5
          ],
          [
           0,
           -0.5,
           -0.5
          ],
          [
           1,
           0.5,
           -0.5
          ],
          [
           2,
           -0.5,
           0.5
          ],
          [
           0,
           -0.5,
           -0.5
          ],
          [
           1,
           0.5,
           -0.5
          ],
          [
           2,
           -0.5,
           0.5
          ],
          [
           0,
           -0.5,
           -0.5
          ],
          [
           1,
           0.5,
           -0.5
          ],
          [
           2,
           -0.5,
           0.5
          ],
          [
           0,
           -0.5,
           -0.5
          ],
          [
           1,
           0.5,
           -0.5
          ],
          [
           2,
           -0.5,
           0.5
          ],
          [
           0,
           -0.5,
           -0.5
          ],
          [
           1,
           0.5,
           -0.5
          ],
          [
           2,
           -0.5,
           0.5
          ],
          [
           0,
           -0.5,
           -0.5
          ],
          [
           1,
           0.5,
           -0.5
          ],
          [
           2,
           -0.5,
           0.5
          ],
          [
           3,
           0.5,
           0.5
          ],
          [
           0,
           -0.5,
           -0.5
          ],
          [
           1,
           0.5,
           -0.5
          ],
          [
           2,
           -0.5,
           0.5
          ],
          [
           3,
           0.5,
           0.5
          ],
          [
           0,
           -0.5,
           -0.5
          ],
          [
           1,
           0.5,
           -0.5
          ],
          [
           2,
           -0.5,
           0.5
          ],
          [
           3,
           0.5,
           0.5
          ],
          [
           0,
           -0.5,
           -0.5
          ],
          [
           1,
           -0.5,
           0.5
          ],
          [
           2,
           0.5,
           0.5
          ],
          [
           0,
           -0.5,
           -0.5
          ],
          [
           1,
           0.5,
           -0.5
          ],
          [
           2,
           -0.5,
           0.5
          ],
          [
           3,
           0.5,
           0.5
          ],
          [
           0,
           -0.5,
           -0.5
          ],
          [
           1,
           0.5,
           -0.5
          ],
          [
           2,
           -0.5,
           0.5
          ],
          [
           3,
           0.5,
           0.5
          ],
          [
           0,
           -0.5,
           -0.5
          ],
          [
           1,
           0.5,
           -0.5
          ],
          [
           2,
           -0.5,
           0.5
          ],
          [
           3,
           0.5,
           0.5
          ],
          [
           0,
           0.5,
           -0.5
          ],
          [
           1,
           0.5,
           0.5
          ],
          [
           0,
           -0.5,
           -0.5
          ],
          [
           1,
           0.5,
           -0.5
          ],
          [
           2,
           -0.5,
           0.5
          ],
          [
           3,
           0.5,
           0.5
          ],
          [
           0,
           -0.5,
           -0.5
          ],
          [
           1,
           0.5,
           -0.5
          ],
          [
           2,
           -0.5,
           0.5
          ],
          [
           3,
           0.5,
           0.5
          ],
          [
           0,
           0.5,
           -0.5
          ],
          [
           1,
           -0.5,
           0.5
          ],
          [
           2,
           0.5,
           0.5
          ],
          [
           0,
           0.5,
           -0.5
          ],
          [
           1,
           -0.5,
           0.5
          ],
          [
           2,
           0.5,
           0.5
          ],
          [
           0,
           -0.5,
           -0.5
          ],
          [
           1,
           0.5,
           -0.5
          ],
          [
           2,
           -0.5,
           0.5
          ],
          [
           3,
           0.5,
           0.5
          ],
          [
           0,
           -0.5,
           -0.5
          ],
          [
           1,
           0.5,
           -0.5
          ],
          [
           2,
           -0.5,
           0.5
          ],
          [
           3,
           0.5,
           0.5
          ],
          [
           0,
           0.5,
           -0.5
          ],
          [
           1,
           -0.5,
           0.5
          ],
          [
           2,
           0.5,
           0.5
          ],
          [
           0,
           -0.5,
           -0.5
          ],
          [
           1,
           0.5,
           -0.5
          ],
          [
           2,
           0.5,
           0.5
          ],
          [
           0,
           -0.5,
           -0.5
          ],
          [
           1,
           0.5,
           -0.5
          ],
          [
           2,
           0.5,
           0.5
          ],
          [
           0,
           -0.5,
           -0.5
          ],
          [
           1,
           0.5,
           -0.5
          ]
         ],
         "hovertemplate": "<b>%{hovertext}</b><br><br>Camera=Wed 2024.11.20 23:51<br>residual=%{x}<br>Laser=%{y}<br>beam_capture_index=%{customdata[0]}<br>projectionPoint_x=%{customdata[1]}<br>projectionPoint_y=%{customdata[2]}<extra></extra>",
         "hovertext": [
          1,
          1,
          3,
          3,
          4,
          4,
          36,
          36,
          36,
          6,
          6,
          7,
          7,
          7,
          8,
          8,
          8,
          37,
          37,
          37,
          10,
          10,
          10,
          27,
          27,
          27,
          40,
          40,
          40,
          13,
          13,
          13,
          35,
          35,
          35,
          15,
          15,
          15,
          15,
          16,
          16,
          16,
          16,
          17,
          17,
          17,
          17,
          18,
          18,
          18,
          20,
          20,
          20,
          20,
          21,
          21,
          21,
          21,
          22,
          22,
          22,
          22,
          23,
          23,
          24,
          24,
          24,
          24,
          25,
          25,
          25,
          25,
          26,
          26,
          26,
          29,
          29,
          29,
          30,
          30,
          30,
          30,
          31,
          31,
          31,
          31,
          32,
          32,
          32,
          33,
          33,
          33,
          38,
          38,
          38,
          39,
          39
         ],
         "legendgroup": "Wed 2024.11.20 23:51",
         "marker": {
          "color": "#00cc96",
          "symbol": "circle"
         },
         "mode": "markers",
         "name": "Wed 2024.11.20 23:51",
         "orientation": "v",
         "showlegend": true,
         "type": "scatter",
         "x": [
          9.941946029663086,
          0.34057286381721497,
          5.176860332489014,
          6.7743659019470215,
          6.593391418457031,
          5.025026321411133,
          8.719648361206055,
          7.406900882720947,
          5.507630348205566,
          1.4441838264465332,
          2.142420530319214,
          6.67783784866333,
          4.063453674316406,
          0.41648998856544495,
          1.9395697116851807,
          0.6439691781997681,
          2.0418241024017334,
          0.22820957005023956,
          0.012327000498771667,
          0.10851544886827469,
          3.111902952194214,
          2.3475024700164795,
          3.166807174682617,
          3.0794525146484375,
          1.6607892513275146,
          1.2858734130859375,
          6.427314281463623,
          2.4418580532073975,
          0.564735472202301,
          0.8429886102676392,
          2.134047508239746,
          1.6246014833450317,
          1.1922016143798828,
          0.79729825258255,
          0.16471879184246063,
          4.089548110961914,
          1.92598557472229,
          1.9238337278366089,
          0.875977635383606,
          4.1504082679748535,
          0.5382922887802124,
          1.922844409942627,
          1.699191689491272,
          3.7646002769470215,
          0.33713969588279724,
          2.84263014793396,
          0.6167906522750854,
          6.172598361968994,
          2.1201131343841553,
          1.0092499256134033,
          2.5572736263275146,
          2.82169246673584,
          1.9116240739822388,
          0.46972447633743286,
          2.0365872383117676,
          0.7961735725402832,
          2.433650016784668,
          2.2817976474761963,
          2.5746102333068848,
          0.4398784339427948,
          2.8836581707000732,
          2.588266372680664,
          3.5761916637420654,
          2.1997463703155518,
          0.7001338005065918,
          1.100184440612793,
          1.033596158027649,
          1.731088399887085,
          0.7042338252067566,
          1.7021135091781616,
          1.5630841255187988,
          0.5172015428543091,
          0.8677765727043152,
          0.6886775493621826,
          0.15760403871536255,
          1.3555704355239868,
          3.0151376724243164,
          1.6186249256134033,
          2.414780855178833,
          4.984672546386719,
          1.8954496383666992,
          2.6103618144989014,
          1.467252492904663,
          1.8190124034881592,
          3.4505419731140137,
          3.4001076221466064,
          1.2685723304748535,
          3.671039342880249,
          4.707963943481445,
          3.2948105335235596,
          5.535890102386475,
          1.6434895992279053,
          0.7107086777687073,
          0.6061624884605408,
          3.369877576828003,
          6.163990020751953,
          5.530992031097412
         ],
         "xaxis": "x",
         "y": [
          1,
          1,
          3,
          3,
          4,
          4,
          36,
          36,
          36,
          6,
          6,
          7,
          7,
          7,
          8,
          8,
          8,
          37,
          37,
          37,
          10,
          10,
          10,
          27,
          27,
          27,
          40,
          40,
          40,
          13,
          13,
          13,
          35,
          35,
          35,
          15,
          15,
          15,
          15,
          16,
          16,
          16,
          16,
          17,
          17,
          17,
          17,
          18,
          18,
          18,
          20,
          20,
          20,
          20,
          21,
          21,
          21,
          21,
          22,
          22,
          22,
          22,
          23,
          23,
          24,
          24,
          24,
          24,
          25,
          25,
          25,
          25,
          26,
          26,
          26,
          29,
          29,
          29,
          30,
          30,
          30,
          30,
          31,
          31,
          31,
          31,
          32,
          32,
          32,
          33,
          33,
          33,
          38,
          38,
          38,
          39,
          39
         ],
         "yaxis": "y"
        },
        {
         "customdata": [
          [
           0,
           -0.5,
           -0.5
          ],
          [
           1,
           0.5,
           -0.5
          ],
          [
           0,
           -0.5,
           -0.5
          ],
          [
           1,
           0.5,
           -0.5
          ],
          [
           0,
           -0.5,
           -0.5
          ],
          [
           1,
           0.5,
           -0.5
          ],
          [
           2,
           -0.5,
           0.5
          ],
          [
           3,
           0.5,
           0.5
          ],
          [
           0,
           -0.5,
           -0.5
          ],
          [
           1,
           0.5,
           -0.5
          ],
          [
           2,
           -0.5,
           0.5
          ],
          [
           3,
           0.5,
           0.5
          ],
          [
           0,
           -0.5,
           -0.5
          ],
          [
           1,
           0.5,
           -0.5
          ],
          [
           2,
           -0.5,
           0.5
          ],
          [
           0,
           -0.5,
           -0.5
          ],
          [
           1,
           0.5,
           -0.5
          ],
          [
           2,
           -0.5,
           0.5
          ],
          [
           0,
           -0.5,
           -0.5
          ],
          [
           1,
           -0.5,
           0.5
          ],
          [
           0,
           -0.5,
           -0.5
          ],
          [
           1,
           0.5,
           -0.5
          ],
          [
           2,
           -0.5,
           0.5
          ],
          [
           0,
           -0.5,
           -0.5
          ],
          [
           1,
           0.5,
           -0.5
          ],
          [
           2,
           -0.5,
           0.5
          ],
          [
           0,
           -0.5,
           -0.5
          ],
          [
           1,
           0.5,
           -0.5
          ],
          [
           2,
           -0.5,
           0.5
          ],
          [
           3,
           0.5,
           0.5
          ],
          [
           0,
           -0.5,
           -0.5
          ],
          [
           1,
           0.5,
           -0.5
          ],
          [
           2,
           -0.5,
           0.5
          ],
          [
           3,
           0.5,
           0.5
          ],
          [
           0,
           -0.5,
           -0.5
          ],
          [
           1,
           0.5,
           -0.5
          ],
          [
           2,
           -0.5,
           0.5
          ],
          [
           3,
           0.5,
           0.5
          ],
          [
           0,
           -0.5,
           -0.5
          ],
          [
           1,
           -0.5,
           0.5
          ],
          [
           2,
           0.5,
           0.5
          ],
          [
           0,
           -0.5,
           -0.5
          ],
          [
           1,
           0.5,
           -0.5
          ],
          [
           2,
           -0.5,
           0.5
          ],
          [
           3,
           0.5,
           0.5
          ],
          [
           0,
           -0.5,
           -0.5
          ],
          [
           1,
           0.5,
           -0.5
          ],
          [
           2,
           -0.5,
           0.5
          ],
          [
           3,
           0.5,
           0.5
          ],
          [
           0,
           -0.5,
           -0.5
          ],
          [
           1,
           0.5,
           -0.5
          ],
          [
           2,
           -0.5,
           0.5
          ],
          [
           3,
           0.5,
           0.5
          ],
          [
           0,
           -0.5,
           -0.5
          ],
          [
           1,
           -0.5,
           0.5
          ],
          [
           2,
           0.5,
           0.5
          ],
          [
           0,
           -0.5,
           -0.5
          ],
          [
           1,
           0.5,
           -0.5
          ],
          [
           2,
           -0.5,
           0.5
          ],
          [
           3,
           0.5,
           0.5
          ],
          [
           0,
           -0.5,
           -0.5
          ],
          [
           1,
           0.5,
           -0.5
          ],
          [
           2,
           -0.5,
           0.5
          ],
          [
           3,
           0.5,
           0.5
          ],
          [
           0,
           -0.5,
           -0.5
          ],
          [
           1,
           0.5,
           -0.5
          ],
          [
           2,
           -0.5,
           0.5
          ],
          [
           3,
           0.5,
           0.5
          ],
          [
           0,
           -0.5,
           -0.5
          ],
          [
           1,
           0.5,
           -0.5
          ],
          [
           2,
           -0.5,
           0.5
          ],
          [
           3,
           0.5,
           0.5
          ],
          [
           0,
           -0.5,
           -0.5
          ],
          [
           1,
           0.5,
           -0.5
          ],
          [
           2,
           -0.5,
           0.5
          ],
          [
           3,
           0.5,
           0.5
          ],
          [
           0,
           -0.5,
           -0.5
          ],
          [
           1,
           0.5,
           -0.5
          ],
          [
           2,
           -0.5,
           0.5
          ],
          [
           3,
           0.5,
           0.5
          ],
          [
           0,
           -0.5,
           -0.5
          ],
          [
           1,
           0.5,
           -0.5
          ],
          [
           2,
           -0.5,
           0.5
          ],
          [
           3,
           0.5,
           0.5
          ],
          [
           0,
           -0.5,
           -0.5
          ],
          [
           1,
           0.5,
           -0.5
          ],
          [
           2,
           -0.5,
           0.5
          ],
          [
           3,
           0.5,
           0.5
          ],
          [
           0,
           -0.5,
           -0.5
          ],
          [
           1,
           0.5,
           -0.5
          ],
          [
           2,
           -0.5,
           0.5
          ],
          [
           3,
           0.5,
           0.5
          ],
          [
           0,
           -0.5,
           -0.5
          ],
          [
           1,
           0.5,
           -0.5
          ],
          [
           2,
           -0.5,
           0.5
          ],
          [
           0,
           -0.5,
           -0.5
          ],
          [
           1,
           0.5,
           -0.5
          ],
          [
           2,
           -0.5,
           0.5
          ],
          [
           3,
           0.5,
           0.5
          ],
          [
           0,
           -0.5,
           -0.5
          ],
          [
           1,
           0.5,
           -0.5
          ],
          [
           2,
           -0.5,
           0.5
          ],
          [
           3,
           0.5,
           0.5
          ],
          [
           0,
           -0.5,
           -0.5
          ],
          [
           1,
           0.5,
           -0.5
          ],
          [
           2,
           0.5,
           0.5
          ]
         ],
         "hovertemplate": "<b>%{hovertext}</b><br><br>Camera=Thu 2024.11.21 00:00<br>residual=%{x}<br>Laser=%{y}<br>beam_capture_index=%{customdata[0]}<br>projectionPoint_x=%{customdata[1]}<br>projectionPoint_y=%{customdata[2]}<extra></extra>",
         "hovertext": [
          3,
          3,
          4,
          4,
          36,
          36,
          36,
          36,
          6,
          6,
          6,
          6,
          7,
          7,
          7,
          8,
          8,
          8,
          37,
          37,
          10,
          10,
          10,
          27,
          27,
          27,
          40,
          40,
          40,
          40,
          13,
          13,
          13,
          13,
          35,
          35,
          35,
          35,
          15,
          15,
          15,
          16,
          16,
          16,
          16,
          17,
          17,
          17,
          17,
          18,
          18,
          18,
          18,
          20,
          20,
          20,
          21,
          21,
          21,
          21,
          22,
          22,
          22,
          22,
          23,
          23,
          23,
          23,
          24,
          24,
          24,
          24,
          25,
          25,
          25,
          25,
          26,
          26,
          26,
          26,
          29,
          29,
          29,
          29,
          30,
          30,
          30,
          30,
          31,
          31,
          31,
          31,
          32,
          32,
          32,
          33,
          33,
          33,
          33,
          38,
          38,
          38,
          38,
          39,
          39,
          39
         ],
         "legendgroup": "Thu 2024.11.21 00:00",
         "marker": {
          "color": "#ab63fa",
          "symbol": "circle"
         },
         "mode": "markers",
         "name": "Thu 2024.11.21 00:00",
         "orientation": "v",
         "showlegend": true,
         "type": "scatter",
         "x": [
          1.089280366897583,
          2.6786787509918213,
          4.712580680847168,
          1.9399408102035522,
          5.624324798583984,
          5.650608062744141,
          1.4345202445983887,
          2.778386116027832,
          1.939058542251587,
          0.8143320083618164,
          0.5228675603866577,
          5.424755096435547,
          4.679388999938965,
          4.865160942077637,
          2.1366636753082275,
          4.3787336349487305,
          1.249778151512146,
          3.3916568756103516,
          0.10743673890829086,
          0.051520876586437225,
          4.477596282958984,
          2.167999029159546,
          2.792717218399048,
          5.825512886047363,
          1.5875325202941895,
          2.920595169067383,
          7.691413402557373,
          5.2018914222717285,
          0.8490056991577148,
          4.80073881149292,
          2.7665228843688965,
          0.6428279876708984,
          2.3890271186828613,
          3.8809876441955566,
          0.5633606910705566,
          0.15600576996803284,
          0.12525330483913422,
          0.4411044418811798,
          4.781774997711182,
          1.504468560218811,
          5.512655258178711,
          5.710560321807861,
          3.3383617401123047,
          1.9346799850463867,
          5.4017438888549805,
          5.41574239730835,
          4.867981910705566,
          1.811009407043457,
          4.641680717468262,
          5.078794479370117,
          4.063730716705322,
          0.31526920199394226,
          6.028494834899902,
          2.951033353805542,
          0.738751232624054,
          4.9976959228515625,
          2.5961546897888184,
          4.108119487762451,
          1.032304048538208,
          3.323970079421997,
          3.1801531314849854,
          3.5472207069396973,
          2.38960862159729,
          2.977508306503296,
          2.160767078399658,
          8.24789810180664,
          2.152850866317749,
          3.952188014984131,
          1.2267687320709229,
          2.66736102104187,
          1.1024643182754517,
          1.666234016418457,
          3.26922607421875,
          3.042571544647217,
          4.009601593017578,
          1.2784112691879272,
          0.4450315535068512,
          0.8847813010215759,
          0.5899984240531921,
          0.38207438588142395,
          2.9493236541748047,
          1.7833689451217651,
          1.7936980724334717,
          1.9638491868972778,
          4.118914604187012,
          2.655722141265869,
          4.1765851974487305,
          5.0348381996154785,
          2.2338504791259766,
          0.40505608916282654,
          2.1688878536224365,
          5.338140964508057,
          3.6326491832733154,
          0.4342484474182129,
          2.523606538772583,
          4.521525859832764,
          5.197702884674072,
          1.6525671482086182,
          3.1663661003112793,
          1.3512324094772339,
          1.198126196861267,
          7.152040004730225,
          4.635715007781982,
          8.020271301269531,
          2.4736526012420654,
          8.279383659362793
         ],
         "xaxis": "x",
         "y": [
          3,
          3,
          4,
          4,
          36,
          36,
          36,
          36,
          6,
          6,
          6,
          6,
          7,
          7,
          7,
          8,
          8,
          8,
          37,
          37,
          10,
          10,
          10,
          27,
          27,
          27,
          40,
          40,
          40,
          40,
          13,
          13,
          13,
          13,
          35,
          35,
          35,
          35,
          15,
          15,
          15,
          16,
          16,
          16,
          16,
          17,
          17,
          17,
          17,
          18,
          18,
          18,
          18,
          20,
          20,
          20,
          21,
          21,
          21,
          21,
          22,
          22,
          22,
          22,
          23,
          23,
          23,
          23,
          24,
          24,
          24,
          24,
          25,
          25,
          25,
          25,
          26,
          26,
          26,
          26,
          29,
          29,
          29,
          29,
          30,
          30,
          30,
          30,
          31,
          31,
          31,
          31,
          32,
          32,
          32,
          33,
          33,
          33,
          33,
          38,
          38,
          38,
          38,
          39,
          39,
          39
         ],
         "yaxis": "y"
        },
        {
         "customdata": [
          [
           0,
           0,
           -0.5
          ],
          [
           1,
           0.5,
           -0.5
          ],
          [
           2,
           -0.5,
           0
          ],
          [
           3,
           0,
           0
          ],
          [
           4,
           0.5,
           0
          ],
          [
           5,
           -0.5,
           0.5
          ],
          [
           6,
           0,
           0.5
          ],
          [
           7,
           0.5,
           0.5
          ],
          [
           0,
           -0.5,
           -0.5
          ],
          [
           1,
           0,
           -0.5
          ],
          [
           2,
           0.5,
           -0.5
          ],
          [
           3,
           -0.5,
           0
          ],
          [
           4,
           0,
           0
          ],
          [
           5,
           0.5,
           0
          ],
          [
           6,
           -0.5,
           0.5
          ],
          [
           7,
           0,
           0.5
          ],
          [
           8,
           0.5,
           0.5
          ],
          [
           0,
           -0.5,
           -0.5
          ],
          [
           1,
           0,
           -0.5
          ],
          [
           2,
           0.5,
           -0.5
          ],
          [
           3,
           -0.5,
           0
          ],
          [
           4,
           0,
           0
          ],
          [
           5,
           0.5,
           0
          ],
          [
           6,
           -0.5,
           0.5
          ],
          [
           7,
           0,
           0.5
          ],
          [
           8,
           0.5,
           0.5
          ],
          [
           0,
           -0.5,
           -0.5
          ],
          [
           1,
           0,
           -0.5
          ],
          [
           2,
           -0.5,
           0
          ],
          [
           3,
           0,
           0
          ],
          [
           4,
           0.5,
           0
          ],
          [
           5,
           -0.5,
           0.5
          ],
          [
           6,
           0,
           0.5
          ],
          [
           7,
           0.5,
           0.5
          ]
         ],
         "hovertemplate": "<b>%{hovertext}</b><br><br>Camera=Thu 2024.11.21 00:36<br>residual=%{x}<br>Laser=%{y}<br>beam_capture_index=%{customdata[0]}<br>projectionPoint_x=%{customdata[1]}<br>projectionPoint_y=%{customdata[2]}<extra></extra>",
         "hovertext": [
          1,
          1,
          1,
          1,
          1,
          1,
          1,
          1,
          36,
          36,
          36,
          36,
          36,
          36,
          36,
          36,
          36,
          10,
          10,
          10,
          10,
          10,
          10,
          10,
          10,
          10,
          39,
          39,
          39,
          39,
          39,
          39,
          39,
          39
         ],
         "legendgroup": "Thu 2024.11.21 00:36",
         "marker": {
          "color": "#FFA15A",
          "symbol": "circle"
         },
         "mode": "markers",
         "name": "Thu 2024.11.21 00:36",
         "orientation": "v",
         "showlegend": true,
         "type": "scatter",
         "x": [
          0,
          0,
          0,
          0,
          0,
          0,
          0,
          0,
          0,
          0,
          0,
          0,
          0,
          0,
          0,
          0,
          0,
          0,
          0,
          0,
          0,
          0,
          0,
          0,
          0,
          0,
          0,
          0,
          0,
          0,
          0,
          0,
          0,
          0
         ],
         "xaxis": "x",
         "y": [
          1,
          1,
          1,
          1,
          1,
          1,
          1,
          1,
          36,
          36,
          36,
          36,
          36,
          36,
          36,
          36,
          36,
          10,
          10,
          10,
          10,
          10,
          10,
          10,
          10,
          10,
          39,
          39,
          39,
          39,
          39,
          39,
          39,
          39
         ],
         "yaxis": "y"
        },
        {
         "customdata": [
          [
           0,
           -0.5,
           -0.5
          ],
          [
           1,
           0,
           -0.5
          ],
          [
           2,
           0.5,
           -0.5
          ],
          [
           3,
           -0.5,
           0
          ],
          [
           4,
           0,
           0
          ],
          [
           5,
           0.5,
           0
          ],
          [
           6,
           -0.5,
           0.5
          ],
          [
           7,
           0,
           0.5
          ],
          [
           8,
           0.5,
           0.5
          ],
          [
           0,
           -0.5,
           -0.5
          ],
          [
           1,
           0,
           -0.5
          ],
          [
           2,
           0.5,
           -0.5
          ],
          [
           3,
           -0.5,
           0
          ],
          [
           4,
           0,
           0
          ],
          [
           5,
           0.5,
           0
          ],
          [
           6,
           -0.5,
           0.5
          ],
          [
           7,
           0,
           0.5
          ],
          [
           8,
           0.5,
           0.5
          ],
          [
           0,
           -0.5,
           -0.5
          ],
          [
           1,
           0,
           -0.5
          ],
          [
           2,
           0.5,
           -0.5
          ],
          [
           3,
           -0.5,
           0
          ],
          [
           4,
           0,
           0
          ],
          [
           5,
           0.5,
           0
          ],
          [
           6,
           -0.5,
           0.5
          ],
          [
           7,
           0,
           0.5
          ],
          [
           8,
           0.5,
           0.5
          ]
         ],
         "hovertemplate": "<b>%{hovertext}</b><br><br>Camera=Thu 2024.11.21 00:55<br>residual=%{x}<br>Laser=%{y}<br>beam_capture_index=%{customdata[0]}<br>projectionPoint_x=%{customdata[1]}<br>projectionPoint_y=%{customdata[2]}<extra></extra>",
         "hovertext": [
          1,
          1,
          1,
          1,
          1,
          1,
          1,
          1,
          1,
          19,
          19,
          19,
          19,
          19,
          19,
          19,
          19,
          19,
          39,
          39,
          39,
          39,
          39,
          39,
          39,
          39,
          39
         ],
         "legendgroup": "Thu 2024.11.21 00:55",
         "marker": {
          "color": "#19d3f3",
          "symbol": "circle"
         },
         "mode": "markers",
         "name": "Thu 2024.11.21 00:55",
         "orientation": "v",
         "showlegend": true,
         "type": "scatter",
         "x": [
          0.4947376549243927,
          0.7680581212043762,
          0.5360857248306274,
          3.2758846282958984,
          5.452373504638672,
          1.9202497005462646,
          0.7727652192115784,
          1.364612102508545,
          1.781988501548767,
          0.76254802942276,
          10.387552261352539,
          2.324680805206299,
          4.651065349578857,
          2.071777105331421,
          5.845203876495361,
          1.8243390321731567,
          4.61845064163208,
          3.8079559803009033,
          4.926753997802734,
          6.463931083679199,
          6.914344310760498,
          0.7036290168762207,
          11.044394493103027,
          5.306019306182861,
          3.5038299560546875,
          6.248008728027344,
          6.3493242263793945
         ],
         "xaxis": "x",
         "y": [
          1,
          1,
          1,
          1,
          1,
          1,
          1,
          1,
          1,
          19,
          19,
          19,
          19,
          19,
          19,
          19,
          19,
          19,
          39,
          39,
          39,
          39,
          39,
          39,
          39,
          39,
          39
         ],
         "yaxis": "y"
        },
        {
         "customdata": [
          [
           0,
           -0.5,
           -0.5
          ],
          [
           1,
           0,
           -0.5
          ],
          [
           2,
           0.5,
           -0.5
          ],
          [
           3,
           -0.5,
           0
          ],
          [
           4,
           0,
           0
          ],
          [
           5,
           0.5,
           0
          ],
          [
           6,
           -0.5,
           0.5
          ],
          [
           7,
           0,
           0.5
          ],
          [
           8,
           0.5,
           0.5
          ],
          [
           0,
           -0.5,
           -0.5
          ],
          [
           1,
           0,
           -0.5
          ],
          [
           2,
           0.5,
           -0.5
          ],
          [
           3,
           -0.5,
           0
          ],
          [
           4,
           0,
           0
          ],
          [
           5,
           0.5,
           0
          ],
          [
           6,
           -0.5,
           0.5
          ],
          [
           7,
           0,
           0.5
          ],
          [
           8,
           0.5,
           0.5
          ],
          [
           0,
           0,
           0.5
          ],
          [
           0,
           -0.5,
           -0.5
          ],
          [
           1,
           0,
           -0.5
          ],
          [
           2,
           0.5,
           -0.5
          ],
          [
           3,
           -0.5,
           0
          ],
          [
           4,
           0,
           0
          ],
          [
           5,
           0.5,
           0
          ],
          [
           6,
           -0.5,
           0.5
          ],
          [
           7,
           0,
           0.5
          ],
          [
           8,
           0.5,
           0.5
          ],
          [
           0,
           -0.5,
           -0.5
          ],
          [
           1,
           0,
           -0.5
          ],
          [
           2,
           0.5,
           -0.5
          ],
          [
           3,
           -0.5,
           0
          ],
          [
           4,
           0,
           0
          ],
          [
           5,
           0.5,
           0
          ],
          [
           6,
           -0.5,
           0.5
          ],
          [
           7,
           0,
           0.5
          ],
          [
           8,
           0.5,
           0.5
          ],
          [
           0,
           -0.5,
           -0.5
          ],
          [
           1,
           0.5,
           -0.5
          ],
          [
           2,
           -0.5,
           0
          ],
          [
           3,
           0,
           0
          ],
          [
           4,
           0.5,
           0
          ],
          [
           5,
           -0.5,
           0.5
          ],
          [
           6,
           0,
           0.5
          ],
          [
           7,
           0.5,
           0.5
          ],
          [
           0,
           -0.5,
           -0.5
          ],
          [
           1,
           0,
           -0.5
          ],
          [
           2,
           0.5,
           -0.5
          ],
          [
           3,
           -0.5,
           0
          ],
          [
           4,
           0,
           0
          ],
          [
           5,
           0.5,
           0
          ],
          [
           6,
           -0.5,
           0.5
          ],
          [
           7,
           0,
           0.5
          ],
          [
           8,
           0.5,
           0.5
          ]
         ],
         "hovertemplate": "<b>%{hovertext}</b><br><br>Camera=Thu 2024.11.21 03:25<br>residual=%{x}<br>Laser=%{y}<br>beam_capture_index=%{customdata[0]}<br>projectionPoint_x=%{customdata[1]}<br>projectionPoint_y=%{customdata[2]}<extra></extra>",
         "hovertext": [
          6,
          6,
          6,
          6,
          6,
          6,
          6,
          6,
          6,
          18,
          18,
          18,
          18,
          18,
          18,
          18,
          18,
          18,
          19,
          20,
          20,
          20,
          20,
          20,
          20,
          20,
          20,
          20,
          24,
          24,
          24,
          24,
          24,
          24,
          24,
          24,
          24,
          30,
          30,
          30,
          30,
          30,
          30,
          30,
          30,
          38,
          38,
          38,
          38,
          38,
          38,
          38,
          38,
          38
         ],
         "legendgroup": "Thu 2024.11.21 03:25",
         "marker": {
          "color": "#FF6692",
          "symbol": "circle"
         },
         "mode": "markers",
         "name": "Thu 2024.11.21 03:25",
         "orientation": "v",
         "showlegend": true,
         "type": "scatter",
         "x": [
          2.779564619064331,
          3.4159438610076904,
          3.7440860271453857,
          4.0425615310668945,
          3.0692379474639893,
          3.328295946121216,
          5.90165901184082,
          3.185655355453491,
          2.8742620944976807,
          0.3471105396747589,
          1.6915055513381958,
          5.9364495277404785,
          2.045430898666382,
          1.720330834388733,
          2.9349920749664307,
          4.094744682312012,
          1.2827444076538086,
          0.6917656660079956,
          3.0134053230285645,
          0.976883590221405,
          0.4271090030670166,
          0.5575672388076782,
          0.507729172706604,
          1.3871444463729858,
          0.6843534111976624,
          1.0749074220657349,
          1.1477173566818237,
          3.0808627605438232,
          2.783734083175659,
          0.2856404185295105,
          2.1095831394195557,
          0.6161895990371704,
          0.39822760224342346,
          0.32927554845809937,
          1.537219762802124,
          0.41233059763908386,
          1.5001249313354492,
          3.6895854473114014,
          4.805263519287109,
          2.287569999694824,
          1.9954124689102173,
          3.310570001602173,
          2.624833106994629,
          3.2475924491882324,
          4.54976224899292,
          1.4800297021865845,
          0.7541860938072205,
          3.3303136825561523,
          2.0882205963134766,
          0.9104552268981934,
          2.0984246730804443,
          3.0967888832092285,
          1.1017615795135498,
          2.7333457469940186
         ],
         "xaxis": "x",
         "y": [
          6,
          6,
          6,
          6,
          6,
          6,
          6,
          6,
          6,
          18,
          18,
          18,
          18,
          18,
          18,
          18,
          18,
          18,
          19,
          20,
          20,
          20,
          20,
          20,
          20,
          20,
          20,
          20,
          24,
          24,
          24,
          24,
          24,
          24,
          24,
          24,
          24,
          30,
          30,
          30,
          30,
          30,
          30,
          30,
          30,
          38,
          38,
          38,
          38,
          38,
          38,
          38,
          38,
          38
         ],
         "yaxis": "y"
        }
       ],
       "layout": {
        "legend": {
         "title": {
          "text": "Camera"
         },
         "tracegroupgap": 0
        },
        "template": {
         "data": {
          "bar": [
           {
            "error_x": {
             "color": "#2a3f5f"
            },
            "error_y": {
             "color": "#2a3f5f"
            },
            "marker": {
             "line": {
              "color": "#E5ECF6",
              "width": 0.5
             },
             "pattern": {
              "fillmode": "overlay",
              "size": 10,
              "solidity": 0.2
             }
            },
            "type": "bar"
           }
          ],
          "barpolar": [
           {
            "marker": {
             "line": {
              "color": "#E5ECF6",
              "width": 0.5
             },
             "pattern": {
              "fillmode": "overlay",
              "size": 10,
              "solidity": 0.2
             }
            },
            "type": "barpolar"
           }
          ],
          "carpet": [
           {
            "aaxis": {
             "endlinecolor": "#2a3f5f",
             "gridcolor": "white",
             "linecolor": "white",
             "minorgridcolor": "white",
             "startlinecolor": "#2a3f5f"
            },
            "baxis": {
             "endlinecolor": "#2a3f5f",
             "gridcolor": "white",
             "linecolor": "white",
             "minorgridcolor": "white",
             "startlinecolor": "#2a3f5f"
            },
            "type": "carpet"
           }
          ],
          "choropleth": [
           {
            "colorbar": {
             "outlinewidth": 0,
             "ticks": ""
            },
            "type": "choropleth"
           }
          ],
          "contour": [
           {
            "colorbar": {
             "outlinewidth": 0,
             "ticks": ""
            },
            "colorscale": [
             [
              0,
              "#0d0887"
             ],
             [
              0.1111111111111111,
              "#46039f"
             ],
             [
              0.2222222222222222,
              "#7201a8"
             ],
             [
              0.3333333333333333,
              "#9c179e"
             ],
             [
              0.4444444444444444,
              "#bd3786"
             ],
             [
              0.5555555555555556,
              "#d8576b"
             ],
             [
              0.6666666666666666,
              "#ed7953"
             ],
             [
              0.7777777777777778,
              "#fb9f3a"
             ],
             [
              0.8888888888888888,
              "#fdca26"
             ],
             [
              1,
              "#f0f921"
             ]
            ],
            "type": "contour"
           }
          ],
          "contourcarpet": [
           {
            "colorbar": {
             "outlinewidth": 0,
             "ticks": ""
            },
            "type": "contourcarpet"
           }
          ],
          "heatmap": [
           {
            "colorbar": {
             "outlinewidth": 0,
             "ticks": ""
            },
            "colorscale": [
             [
              0,
              "#0d0887"
             ],
             [
              0.1111111111111111,
              "#46039f"
             ],
             [
              0.2222222222222222,
              "#7201a8"
             ],
             [
              0.3333333333333333,
              "#9c179e"
             ],
             [
              0.4444444444444444,
              "#bd3786"
             ],
             [
              0.5555555555555556,
              "#d8576b"
             ],
             [
              0.6666666666666666,
              "#ed7953"
             ],
             [
              0.7777777777777778,
              "#fb9f3a"
             ],
             [
              0.8888888888888888,
              "#fdca26"
             ],
             [
              1,
              "#f0f921"
             ]
            ],
            "type": "heatmap"
           }
          ],
          "heatmapgl": [
           {
            "colorbar": {
             "outlinewidth": 0,
             "ticks": ""
            },
            "colorscale": [
             [
              0,
              "#0d0887"
             ],
             [
              0.1111111111111111,
              "#46039f"
             ],
             [
              0.2222222222222222,
              "#7201a8"
             ],
             [
              0.3333333333333333,
              "#9c179e"
             ],
             [
              0.4444444444444444,
              "#bd3786"
             ],
             [
              0.5555555555555556,
              "#d8576b"
             ],
             [
              0.6666666666666666,
              "#ed7953"
             ],
             [
              0.7777777777777778,
              "#fb9f3a"
             ],
             [
              0.8888888888888888,
              "#fdca26"
             ],
             [
              1,
              "#f0f921"
             ]
            ],
            "type": "heatmapgl"
           }
          ],
          "histogram": [
           {
            "marker": {
             "pattern": {
              "fillmode": "overlay",
              "size": 10,
              "solidity": 0.2
             }
            },
            "type": "histogram"
           }
          ],
          "histogram2d": [
           {
            "colorbar": {
             "outlinewidth": 0,
             "ticks": ""
            },
            "colorscale": [
             [
              0,
              "#0d0887"
             ],
             [
              0.1111111111111111,
              "#46039f"
             ],
             [
              0.2222222222222222,
              "#7201a8"
             ],
             [
              0.3333333333333333,
              "#9c179e"
             ],
             [
              0.4444444444444444,
              "#bd3786"
             ],
             [
              0.5555555555555556,
              "#d8576b"
             ],
             [
              0.6666666666666666,
              "#ed7953"
             ],
             [
              0.7777777777777778,
              "#fb9f3a"
             ],
             [
              0.8888888888888888,
              "#fdca26"
             ],
             [
              1,
              "#f0f921"
             ]
            ],
            "type": "histogram2d"
           }
          ],
          "histogram2dcontour": [
           {
            "colorbar": {
             "outlinewidth": 0,
             "ticks": ""
            },
            "colorscale": [
             [
              0,
              "#0d0887"
             ],
             [
              0.1111111111111111,
              "#46039f"
             ],
             [
              0.2222222222222222,
              "#7201a8"
             ],
             [
              0.3333333333333333,
              "#9c179e"
             ],
             [
              0.4444444444444444,
              "#bd3786"
             ],
             [
              0.5555555555555556,
              "#d8576b"
             ],
             [
              0.6666666666666666,
              "#ed7953"
             ],
             [
              0.7777777777777778,
              "#fb9f3a"
             ],
             [
              0.8888888888888888,
              "#fdca26"
             ],
             [
              1,
              "#f0f921"
             ]
            ],
            "type": "histogram2dcontour"
           }
          ],
          "mesh3d": [
           {
            "colorbar": {
             "outlinewidth": 0,
             "ticks": ""
            },
            "type": "mesh3d"
           }
          ],
          "parcoords": [
           {
            "line": {
             "colorbar": {
              "outlinewidth": 0,
              "ticks": ""
             }
            },
            "type": "parcoords"
           }
          ],
          "pie": [
           {
            "automargin": true,
            "type": "pie"
           }
          ],
          "scatter": [
           {
            "fillpattern": {
             "fillmode": "overlay",
             "size": 10,
             "solidity": 0.2
            },
            "type": "scatter"
           }
          ],
          "scatter3d": [
           {
            "line": {
             "colorbar": {
              "outlinewidth": 0,
              "ticks": ""
             }
            },
            "marker": {
             "colorbar": {
              "outlinewidth": 0,
              "ticks": ""
             }
            },
            "type": "scatter3d"
           }
          ],
          "scattercarpet": [
           {
            "marker": {
             "colorbar": {
              "outlinewidth": 0,
              "ticks": ""
             }
            },
            "type": "scattercarpet"
           }
          ],
          "scattergeo": [
           {
            "marker": {
             "colorbar": {
              "outlinewidth": 0,
              "ticks": ""
             }
            },
            "type": "scattergeo"
           }
          ],
          "scattergl": [
           {
            "marker": {
             "colorbar": {
              "outlinewidth": 0,
              "ticks": ""
             }
            },
            "type": "scattergl"
           }
          ],
          "scattermapbox": [
           {
            "marker": {
             "colorbar": {
              "outlinewidth": 0,
              "ticks": ""
             }
            },
            "type": "scattermapbox"
           }
          ],
          "scatterpolar": [
           {
            "marker": {
             "colorbar": {
              "outlinewidth": 0,
              "ticks": ""
             }
            },
            "type": "scatterpolar"
           }
          ],
          "scatterpolargl": [
           {
            "marker": {
             "colorbar": {
              "outlinewidth": 0,
              "ticks": ""
             }
            },
            "type": "scatterpolargl"
           }
          ],
          "scatterternary": [
           {
            "marker": {
             "colorbar": {
              "outlinewidth": 0,
              "ticks": ""
             }
            },
            "type": "scatterternary"
           }
          ],
          "surface": [
           {
            "colorbar": {
             "outlinewidth": 0,
             "ticks": ""
            },
            "colorscale": [
             [
              0,
              "#0d0887"
             ],
             [
              0.1111111111111111,
              "#46039f"
             ],
             [
              0.2222222222222222,
              "#7201a8"
             ],
             [
              0.3333333333333333,
              "#9c179e"
             ],
             [
              0.4444444444444444,
              "#bd3786"
             ],
             [
              0.5555555555555556,
              "#d8576b"
             ],
             [
              0.6666666666666666,
              "#ed7953"
             ],
             [
              0.7777777777777778,
              "#fb9f3a"
             ],
             [
              0.8888888888888888,
              "#fdca26"
             ],
             [
              1,
              "#f0f921"
             ]
            ],
            "type": "surface"
           }
          ],
          "table": [
           {
            "cells": {
             "fill": {
              "color": "#EBF0F8"
             },
             "line": {
              "color": "white"
             }
            },
            "header": {
             "fill": {
              "color": "#C8D4E3"
             },
             "line": {
              "color": "white"
             }
            },
            "type": "table"
           }
          ]
         },
         "layout": {
          "annotationdefaults": {
           "arrowcolor": "#2a3f5f",
           "arrowhead": 0,
           "arrowwidth": 1
          },
          "autotypenumbers": "strict",
          "coloraxis": {
           "colorbar": {
            "outlinewidth": 0,
            "ticks": ""
           }
          },
          "colorscale": {
           "diverging": [
            [
             0,
             "#8e0152"
            ],
            [
             0.1,
             "#c51b7d"
            ],
            [
             0.2,
             "#de77ae"
            ],
            [
             0.3,
             "#f1b6da"
            ],
            [
             0.4,
             "#fde0ef"
            ],
            [
             0.5,
             "#f7f7f7"
            ],
            [
             0.6,
             "#e6f5d0"
            ],
            [
             0.7,
             "#b8e186"
            ],
            [
             0.8,
             "#7fbc41"
            ],
            [
             0.9,
             "#4d9221"
            ],
            [
             1,
             "#276419"
            ]
           ],
           "sequential": [
            [
             0,
             "#0d0887"
            ],
            [
             0.1111111111111111,
             "#46039f"
            ],
            [
             0.2222222222222222,
             "#7201a8"
            ],
            [
             0.3333333333333333,
             "#9c179e"
            ],
            [
             0.4444444444444444,
             "#bd3786"
            ],
            [
             0.5555555555555556,
             "#d8576b"
            ],
            [
             0.6666666666666666,
             "#ed7953"
            ],
            [
             0.7777777777777778,
             "#fb9f3a"
            ],
            [
             0.8888888888888888,
             "#fdca26"
            ],
            [
             1,
             "#f0f921"
            ]
           ],
           "sequentialminus": [
            [
             0,
             "#0d0887"
            ],
            [
             0.1111111111111111,
             "#46039f"
            ],
            [
             0.2222222222222222,
             "#7201a8"
            ],
            [
             0.3333333333333333,
             "#9c179e"
            ],
            [
             0.4444444444444444,
             "#bd3786"
            ],
            [
             0.5555555555555556,
             "#d8576b"
            ],
            [
             0.6666666666666666,
             "#ed7953"
            ],
            [
             0.7777777777777778,
             "#fb9f3a"
            ],
            [
             0.8888888888888888,
             "#fdca26"
            ],
            [
             1,
             "#f0f921"
            ]
           ]
          },
          "colorway": [
           "#636efa",
           "#EF553B",
           "#00cc96",
           "#ab63fa",
           "#FFA15A",
           "#19d3f3",
           "#FF6692",
           "#B6E880",
           "#FF97FF",
           "#FECB52"
          ],
          "font": {
           "color": "#2a3f5f"
          },
          "geo": {
           "bgcolor": "white",
           "lakecolor": "white",
           "landcolor": "#E5ECF6",
           "showlakes": true,
           "showland": true,
           "subunitcolor": "white"
          },
          "hoverlabel": {
           "align": "left"
          },
          "hovermode": "closest",
          "mapbox": {
           "style": "light"
          },
          "paper_bgcolor": "white",
          "plot_bgcolor": "#E5ECF6",
          "polar": {
           "angularaxis": {
            "gridcolor": "white",
            "linecolor": "white",
            "ticks": ""
           },
           "bgcolor": "#E5ECF6",
           "radialaxis": {
            "gridcolor": "white",
            "linecolor": "white",
            "ticks": ""
           }
          },
          "scene": {
           "xaxis": {
            "backgroundcolor": "#E5ECF6",
            "gridcolor": "white",
            "gridwidth": 2,
            "linecolor": "white",
            "showbackground": true,
            "ticks": "",
            "zerolinecolor": "white"
           },
           "yaxis": {
            "backgroundcolor": "#E5ECF6",
            "gridcolor": "white",
            "gridwidth": 2,
            "linecolor": "white",
            "showbackground": true,
            "ticks": "",
            "zerolinecolor": "white"
           },
           "zaxis": {
            "backgroundcolor": "#E5ECF6",
            "gridcolor": "white",
            "gridwidth": 2,
            "linecolor": "white",
            "showbackground": true,
            "ticks": "",
            "zerolinecolor": "white"
           }
          },
          "shapedefaults": {
           "line": {
            "color": "#2a3f5f"
           }
          },
          "ternary": {
           "aaxis": {
            "gridcolor": "white",
            "linecolor": "white",
            "ticks": ""
           },
           "baxis": {
            "gridcolor": "white",
            "linecolor": "white",
            "ticks": ""
           },
           "bgcolor": "#E5ECF6",
           "caxis": {
            "gridcolor": "white",
            "linecolor": "white",
            "ticks": ""
           }
          },
          "title": {
           "x": 0.05
          },
          "xaxis": {
           "automargin": true,
           "gridcolor": "white",
           "linecolor": "white",
           "ticks": "",
           "title": {
            "standoff": 15
           },
           "zerolinecolor": "white",
           "zerolinewidth": 2
          },
          "yaxis": {
           "automargin": true,
           "gridcolor": "white",
           "linecolor": "white",
           "ticks": "",
           "title": {
            "standoff": 15
           },
           "zerolinecolor": "white",
           "zerolinewidth": 2
          }
         }
        },
        "title": {
         "text": "Mean residual 2.3946117484953504 px"
        },
        "xaxis": {
         "anchor": "y",
         "domain": [
          0,
          1
         ],
         "title": {
          "text": "residual"
         }
        },
        "yaxis": {
         "anchor": "x",
         "domain": [
          0,
          1
         ],
         "title": {
          "text": "Laser"
         }
        }
       }
      }
     },
     "metadata": {},
     "output_type": "display_data"
    }
   ],
   "source": [
    "residuals = []\n",
    "for data_point in data_points:\n",
    "    residuals.append(data_point['residual'])\n",
    "mean_residual = np.mean(residuals)\n",
    "\n",
    "fig = px.scatter(data_points\n",
    "    , x='residual'\n",
    "    , y='Laser'\n",
    "    , color='Camera'\n",
    "    , hover_name='Laser'\n",
    "\t, hover_data=['beam_capture_index', 'projectionPoint_x', 'projectionPoint_y']\n",
    "    , title=\"Mean residual {0} px\".format(mean_residual))\n",
    "fig.show()"
   ]
  },
  {
   "cell_type": "code",
   "execution_count": 84,
   "metadata": {},
   "outputs": [
    {
     "data": {
      "application/vnd.plotly.v1+json": {
       "config": {
        "plotlyServerURL": "https://plot.ly"
       },
       "data": [
        {
         "customdata": [
          [
           0
          ],
          [
           1
          ],
          [
           2
          ]
         ],
         "hovertemplate": "<b>%{hovertext}</b><br><br>Camera=Wed 2024.11.20 23:51<br>projectionPoint_x=%{x}<br>projectionPoint_y=%{y}<br>residual=%{z}<br>beam_capture_index=%{customdata[0]}<extra></extra>",
         "hovertext": [
          26,
          26,
          26
         ],
         "legendgroup": "Wed 2024.11.20 23:51",
         "marker": {
          "color": "#636efa",
          "symbol": "circle"
         },
         "mode": "markers",
         "name": "Wed 2024.11.20 23:51",
         "scene": "scene",
         "showlegend": true,
         "type": "scatter3d",
         "x": [
          0.5,
          -0.5,
          0.5
         ],
         "y": [
          -0.5,
          0.5,
          0.5
         ],
         "z": [
          0.8677765727043152,
          0.6886775493621826,
          0.15760403871536255
         ]
        },
        {
         "customdata": [
          [
           0
          ],
          [
           1
          ],
          [
           2
          ],
          [
           3
          ]
         ],
         "hovertemplate": "<b>%{hovertext}</b><br><br>Camera=Thu 2024.11.21 00:00<br>projectionPoint_x=%{x}<br>projectionPoint_y=%{y}<br>residual=%{z}<br>beam_capture_index=%{customdata[0]}<extra></extra>",
         "hovertext": [
          26,
          26,
          26,
          26
         ],
         "legendgroup": "Thu 2024.11.21 00:00",
         "marker": {
          "color": "#EF553B",
          "symbol": "circle"
         },
         "mode": "markers",
         "name": "Thu 2024.11.21 00:00",
         "scene": "scene",
         "showlegend": true,
         "type": "scatter3d",
         "x": [
          -0.5,
          0.5,
          -0.5,
          0.5
         ],
         "y": [
          -0.5,
          -0.5,
          0.5,
          0.5
         ],
         "z": [
          0.4450315535068512,
          0.8847813010215759,
          0.5899984240531921,
          0.38207438588142395
         ]
        }
       ],
       "layout": {
        "legend": {
         "title": {
          "text": "Camera"
         },
         "tracegroupgap": 0
        },
        "scene": {
         "domain": {
          "x": [
           0,
           1
          ],
          "y": [
           0,
           1
          ]
         },
         "xaxis": {
          "title": {
           "text": "projectionPoint_x"
          }
         },
         "yaxis": {
          "title": {
           "text": "projectionPoint_y"
          }
         },
         "zaxis": {
          "title": {
           "text": "residual"
          }
         }
        },
        "template": {
         "data": {
          "bar": [
           {
            "error_x": {
             "color": "#2a3f5f"
            },
            "error_y": {
             "color": "#2a3f5f"
            },
            "marker": {
             "line": {
              "color": "#E5ECF6",
              "width": 0.5
             },
             "pattern": {
              "fillmode": "overlay",
              "size": 10,
              "solidity": 0.2
             }
            },
            "type": "bar"
           }
          ],
          "barpolar": [
           {
            "marker": {
             "line": {
              "color": "#E5ECF6",
              "width": 0.5
             },
             "pattern": {
              "fillmode": "overlay",
              "size": 10,
              "solidity": 0.2
             }
            },
            "type": "barpolar"
           }
          ],
          "carpet": [
           {
            "aaxis": {
             "endlinecolor": "#2a3f5f",
             "gridcolor": "white",
             "linecolor": "white",
             "minorgridcolor": "white",
             "startlinecolor": "#2a3f5f"
            },
            "baxis": {
             "endlinecolor": "#2a3f5f",
             "gridcolor": "white",
             "linecolor": "white",
             "minorgridcolor": "white",
             "startlinecolor": "#2a3f5f"
            },
            "type": "carpet"
           }
          ],
          "choropleth": [
           {
            "colorbar": {
             "outlinewidth": 0,
             "ticks": ""
            },
            "type": "choropleth"
           }
          ],
          "contour": [
           {
            "colorbar": {
             "outlinewidth": 0,
             "ticks": ""
            },
            "colorscale": [
             [
              0,
              "#0d0887"
             ],
             [
              0.1111111111111111,
              "#46039f"
             ],
             [
              0.2222222222222222,
              "#7201a8"
             ],
             [
              0.3333333333333333,
              "#9c179e"
             ],
             [
              0.4444444444444444,
              "#bd3786"
             ],
             [
              0.5555555555555556,
              "#d8576b"
             ],
             [
              0.6666666666666666,
              "#ed7953"
             ],
             [
              0.7777777777777778,
              "#fb9f3a"
             ],
             [
              0.8888888888888888,
              "#fdca26"
             ],
             [
              1,
              "#f0f921"
             ]
            ],
            "type": "contour"
           }
          ],
          "contourcarpet": [
           {
            "colorbar": {
             "outlinewidth": 0,
             "ticks": ""
            },
            "type": "contourcarpet"
           }
          ],
          "heatmap": [
           {
            "colorbar": {
             "outlinewidth": 0,
             "ticks": ""
            },
            "colorscale": [
             [
              0,
              "#0d0887"
             ],
             [
              0.1111111111111111,
              "#46039f"
             ],
             [
              0.2222222222222222,
              "#7201a8"
             ],
             [
              0.3333333333333333,
              "#9c179e"
             ],
             [
              0.4444444444444444,
              "#bd3786"
             ],
             [
              0.5555555555555556,
              "#d8576b"
             ],
             [
              0.6666666666666666,
              "#ed7953"
             ],
             [
              0.7777777777777778,
              "#fb9f3a"
             ],
             [
              0.8888888888888888,
              "#fdca26"
             ],
             [
              1,
              "#f0f921"
             ]
            ],
            "type": "heatmap"
           }
          ],
          "heatmapgl": [
           {
            "colorbar": {
             "outlinewidth": 0,
             "ticks": ""
            },
            "colorscale": [
             [
              0,
              "#0d0887"
             ],
             [
              0.1111111111111111,
              "#46039f"
             ],
             [
              0.2222222222222222,
              "#7201a8"
             ],
             [
              0.3333333333333333,
              "#9c179e"
             ],
             [
              0.4444444444444444,
              "#bd3786"
             ],
             [
              0.5555555555555556,
              "#d8576b"
             ],
             [
              0.6666666666666666,
              "#ed7953"
             ],
             [
              0.7777777777777778,
              "#fb9f3a"
             ],
             [
              0.8888888888888888,
              "#fdca26"
             ],
             [
              1,
              "#f0f921"
             ]
            ],
            "type": "heatmapgl"
           }
          ],
          "histogram": [
           {
            "marker": {
             "pattern": {
              "fillmode": "overlay",
              "size": 10,
              "solidity": 0.2
             }
            },
            "type": "histogram"
           }
          ],
          "histogram2d": [
           {
            "colorbar": {
             "outlinewidth": 0,
             "ticks": ""
            },
            "colorscale": [
             [
              0,
              "#0d0887"
             ],
             [
              0.1111111111111111,
              "#46039f"
             ],
             [
              0.2222222222222222,
              "#7201a8"
             ],
             [
              0.3333333333333333,
              "#9c179e"
             ],
             [
              0.4444444444444444,
              "#bd3786"
             ],
             [
              0.5555555555555556,
              "#d8576b"
             ],
             [
              0.6666666666666666,
              "#ed7953"
             ],
             [
              0.7777777777777778,
              "#fb9f3a"
             ],
             [
              0.8888888888888888,
              "#fdca26"
             ],
             [
              1,
              "#f0f921"
             ]
            ],
            "type": "histogram2d"
           }
          ],
          "histogram2dcontour": [
           {
            "colorbar": {
             "outlinewidth": 0,
             "ticks": ""
            },
            "colorscale": [
             [
              0,
              "#0d0887"
             ],
             [
              0.1111111111111111,
              "#46039f"
             ],
             [
              0.2222222222222222,
              "#7201a8"
             ],
             [
              0.3333333333333333,
              "#9c179e"
             ],
             [
              0.4444444444444444,
              "#bd3786"
             ],
             [
              0.5555555555555556,
              "#d8576b"
             ],
             [
              0.6666666666666666,
              "#ed7953"
             ],
             [
              0.7777777777777778,
              "#fb9f3a"
             ],
             [
              0.8888888888888888,
              "#fdca26"
             ],
             [
              1,
              "#f0f921"
             ]
            ],
            "type": "histogram2dcontour"
           }
          ],
          "mesh3d": [
           {
            "colorbar": {
             "outlinewidth": 0,
             "ticks": ""
            },
            "type": "mesh3d"
           }
          ],
          "parcoords": [
           {
            "line": {
             "colorbar": {
              "outlinewidth": 0,
              "ticks": ""
             }
            },
            "type": "parcoords"
           }
          ],
          "pie": [
           {
            "automargin": true,
            "type": "pie"
           }
          ],
          "scatter": [
           {
            "fillpattern": {
             "fillmode": "overlay",
             "size": 10,
             "solidity": 0.2
            },
            "type": "scatter"
           }
          ],
          "scatter3d": [
           {
            "line": {
             "colorbar": {
              "outlinewidth": 0,
              "ticks": ""
             }
            },
            "marker": {
             "colorbar": {
              "outlinewidth": 0,
              "ticks": ""
             }
            },
            "type": "scatter3d"
           }
          ],
          "scattercarpet": [
           {
            "marker": {
             "colorbar": {
              "outlinewidth": 0,
              "ticks": ""
             }
            },
            "type": "scattercarpet"
           }
          ],
          "scattergeo": [
           {
            "marker": {
             "colorbar": {
              "outlinewidth": 0,
              "ticks": ""
             }
            },
            "type": "scattergeo"
           }
          ],
          "scattergl": [
           {
            "marker": {
             "colorbar": {
              "outlinewidth": 0,
              "ticks": ""
             }
            },
            "type": "scattergl"
           }
          ],
          "scattermapbox": [
           {
            "marker": {
             "colorbar": {
              "outlinewidth": 0,
              "ticks": ""
             }
            },
            "type": "scattermapbox"
           }
          ],
          "scatterpolar": [
           {
            "marker": {
             "colorbar": {
              "outlinewidth": 0,
              "ticks": ""
             }
            },
            "type": "scatterpolar"
           }
          ],
          "scatterpolargl": [
           {
            "marker": {
             "colorbar": {
              "outlinewidth": 0,
              "ticks": ""
             }
            },
            "type": "scatterpolargl"
           }
          ],
          "scatterternary": [
           {
            "marker": {
             "colorbar": {
              "outlinewidth": 0,
              "ticks": ""
             }
            },
            "type": "scatterternary"
           }
          ],
          "surface": [
           {
            "colorbar": {
             "outlinewidth": 0,
             "ticks": ""
            },
            "colorscale": [
             [
              0,
              "#0d0887"
             ],
             [
              0.1111111111111111,
              "#46039f"
             ],
             [
              0.2222222222222222,
              "#7201a8"
             ],
             [
              0.3333333333333333,
              "#9c179e"
             ],
             [
              0.4444444444444444,
              "#bd3786"
             ],
             [
              0.5555555555555556,
              "#d8576b"
             ],
             [
              0.6666666666666666,
              "#ed7953"
             ],
             [
              0.7777777777777778,
              "#fb9f3a"
             ],
             [
              0.8888888888888888,
              "#fdca26"
             ],
             [
              1,
              "#f0f921"
             ]
            ],
            "type": "surface"
           }
          ],
          "table": [
           {
            "cells": {
             "fill": {
              "color": "#EBF0F8"
             },
             "line": {
              "color": "white"
             }
            },
            "header": {
             "fill": {
              "color": "#C8D4E3"
             },
             "line": {
              "color": "white"
             }
            },
            "type": "table"
           }
          ]
         },
         "layout": {
          "annotationdefaults": {
           "arrowcolor": "#2a3f5f",
           "arrowhead": 0,
           "arrowwidth": 1
          },
          "autotypenumbers": "strict",
          "coloraxis": {
           "colorbar": {
            "outlinewidth": 0,
            "ticks": ""
           }
          },
          "colorscale": {
           "diverging": [
            [
             0,
             "#8e0152"
            ],
            [
             0.1,
             "#c51b7d"
            ],
            [
             0.2,
             "#de77ae"
            ],
            [
             0.3,
             "#f1b6da"
            ],
            [
             0.4,
             "#fde0ef"
            ],
            [
             0.5,
             "#f7f7f7"
            ],
            [
             0.6,
             "#e6f5d0"
            ],
            [
             0.7,
             "#b8e186"
            ],
            [
             0.8,
             "#7fbc41"
            ],
            [
             0.9,
             "#4d9221"
            ],
            [
             1,
             "#276419"
            ]
           ],
           "sequential": [
            [
             0,
             "#0d0887"
            ],
            [
             0.1111111111111111,
             "#46039f"
            ],
            [
             0.2222222222222222,
             "#7201a8"
            ],
            [
             0.3333333333333333,
             "#9c179e"
            ],
            [
             0.4444444444444444,
             "#bd3786"
            ],
            [
             0.5555555555555556,
             "#d8576b"
            ],
            [
             0.6666666666666666,
             "#ed7953"
            ],
            [
             0.7777777777777778,
             "#fb9f3a"
            ],
            [
             0.8888888888888888,
             "#fdca26"
            ],
            [
             1,
             "#f0f921"
            ]
           ],
           "sequentialminus": [
            [
             0,
             "#0d0887"
            ],
            [
             0.1111111111111111,
             "#46039f"
            ],
            [
             0.2222222222222222,
             "#7201a8"
            ],
            [
             0.3333333333333333,
             "#9c179e"
            ],
            [
             0.4444444444444444,
             "#bd3786"
            ],
            [
             0.5555555555555556,
             "#d8576b"
            ],
            [
             0.6666666666666666,
             "#ed7953"
            ],
            [
             0.7777777777777778,
             "#fb9f3a"
            ],
            [
             0.8888888888888888,
             "#fdca26"
            ],
            [
             1,
             "#f0f921"
            ]
           ]
          },
          "colorway": [
           "#636efa",
           "#EF553B",
           "#00cc96",
           "#ab63fa",
           "#FFA15A",
           "#19d3f3",
           "#FF6692",
           "#B6E880",
           "#FF97FF",
           "#FECB52"
          ],
          "font": {
           "color": "#2a3f5f"
          },
          "geo": {
           "bgcolor": "white",
           "lakecolor": "white",
           "landcolor": "#E5ECF6",
           "showlakes": true,
           "showland": true,
           "subunitcolor": "white"
          },
          "hoverlabel": {
           "align": "left"
          },
          "hovermode": "closest",
          "mapbox": {
           "style": "light"
          },
          "paper_bgcolor": "white",
          "plot_bgcolor": "#E5ECF6",
          "polar": {
           "angularaxis": {
            "gridcolor": "white",
            "linecolor": "white",
            "ticks": ""
           },
           "bgcolor": "#E5ECF6",
           "radialaxis": {
            "gridcolor": "white",
            "linecolor": "white",
            "ticks": ""
           }
          },
          "scene": {
           "xaxis": {
            "backgroundcolor": "#E5ECF6",
            "gridcolor": "white",
            "gridwidth": 2,
            "linecolor": "white",
            "showbackground": true,
            "ticks": "",
            "zerolinecolor": "white"
           },
           "yaxis": {
            "backgroundcolor": "#E5ECF6",
            "gridcolor": "white",
            "gridwidth": 2,
            "linecolor": "white",
            "showbackground": true,
            "ticks": "",
            "zerolinecolor": "white"
           },
           "zaxis": {
            "backgroundcolor": "#E5ECF6",
            "gridcolor": "white",
            "gridwidth": 2,
            "linecolor": "white",
            "showbackground": true,
            "ticks": "",
            "zerolinecolor": "white"
           }
          },
          "shapedefaults": {
           "line": {
            "color": "#2a3f5f"
           }
          },
          "ternary": {
           "aaxis": {
            "gridcolor": "white",
            "linecolor": "white",
            "ticks": ""
           },
           "baxis": {
            "gridcolor": "white",
            "linecolor": "white",
            "ticks": ""
           },
           "bgcolor": "#E5ECF6",
           "caxis": {
            "gridcolor": "white",
            "linecolor": "white",
            "ticks": ""
           }
          },
          "title": {
           "x": 0.05
          },
          "xaxis": {
           "automargin": true,
           "gridcolor": "white",
           "linecolor": "white",
           "ticks": "",
           "title": {
            "standoff": 15
           },
           "zerolinecolor": "white",
           "zerolinewidth": 2
          },
          "yaxis": {
           "automargin": true,
           "gridcolor": "white",
           "linecolor": "white",
           "ticks": "",
           "title": {
            "standoff": 15
           },
           "zerolinecolor": "white",
           "zerolinewidth": 2
          }
         }
        },
        "title": {
         "text": "Residuals for selected laser #26"
        }
       }
      }
     },
     "metadata": {},
     "output_type": "display_data"
    }
   ],
   "source": [
    "select_laser = 26\n",
    "data_points_selected = list(filter(lambda data_point: data_point['Laser'] == select_laser, data_points))\n",
    "\n",
    "\n",
    "fig = px.scatter_3d(data_points_selected\n",
    "    , x='projectionPoint_x'\n",
    "    , y='projectionPoint_y'\n",
    "    , z='residual'\n",
    "    , color='Camera'\n",
    "    , hover_name='Laser'\n",
    "\t, hover_data=['beam_capture_index', 'projectionPoint_x', 'projectionPoint_y']\n",
    "    , title=\"Residuals for selected laser #{0}\".format(select_laser))\n",
    "fig.show()"
   ]
  },
  {
   "cell_type": "code",
   "execution_count": 85,
   "metadata": {},
   "outputs": [
    {
     "data": {
      "text/plain": [
       "[{'Camera': 'Wed 2024.11.20 23:51',\n",
       "  'Laser': 26,\n",
       "  'projectionPoint_x': 0.5,\n",
       "  'projectionPoint_y': -0.5,\n",
       "  'residual': 0.8677765727043152,\n",
       "  'beam_capture_index': 0},\n",
       " {'Camera': 'Wed 2024.11.20 23:51',\n",
       "  'Laser': 26,\n",
       "  'projectionPoint_x': -0.5,\n",
       "  'projectionPoint_y': 0.5,\n",
       "  'residual': 0.6886775493621826,\n",
       "  'beam_capture_index': 1},\n",
       " {'Camera': 'Wed 2024.11.20 23:51',\n",
       "  'Laser': 26,\n",
       "  'projectionPoint_x': 0.5,\n",
       "  'projectionPoint_y': 0.5,\n",
       "  'residual': 0.15760403871536255,\n",
       "  'beam_capture_index': 2},\n",
       " {'Camera': 'Thu 2024.11.21 00:00',\n",
       "  'Laser': 26,\n",
       "  'projectionPoint_x': -0.5,\n",
       "  'projectionPoint_y': -0.5,\n",
       "  'residual': 0.4450315535068512,\n",
       "  'beam_capture_index': 0},\n",
       " {'Camera': 'Thu 2024.11.21 00:00',\n",
       "  'Laser': 26,\n",
       "  'projectionPoint_x': 0.5,\n",
       "  'projectionPoint_y': -0.5,\n",
       "  'residual': 0.8847813010215759,\n",
       "  'beam_capture_index': 1},\n",
       " {'Camera': 'Thu 2024.11.21 00:00',\n",
       "  'Laser': 26,\n",
       "  'projectionPoint_x': -0.5,\n",
       "  'projectionPoint_y': 0.5,\n",
       "  'residual': 0.5899984240531921,\n",
       "  'beam_capture_index': 2},\n",
       " {'Camera': 'Thu 2024.11.21 00:00',\n",
       "  'Laser': 26,\n",
       "  'projectionPoint_x': 0.5,\n",
       "  'projectionPoint_y': 0.5,\n",
       "  'residual': 0.38207438588142395,\n",
       "  'beam_capture_index': 3}]"
      ]
     },
     "execution_count": 85,
     "metadata": {},
     "output_type": "execute_result"
    }
   ],
   "source": [
    "data_points_selected"
   ]
  },
  {
   "cell_type": "code",
   "execution_count": null,
   "metadata": {},
   "outputs": [],
   "source": []
  }
 ],
 "metadata": {
  "kernelspec": {
   "display_name": "base",
   "language": "python",
   "name": "python3"
  },
  "language_info": {
   "codemirror_mode": {
    "name": "ipython",
    "version": 3
   },
   "file_extension": ".py",
   "mimetype": "text/x-python",
   "name": "python",
   "nbconvert_exporter": "python",
   "pygments_lexer": "ipython3",
   "version": "3.9.7"
  },
  "orig_nbformat": 4
 },
 "nbformat": 4,
 "nbformat_minor": 2
}
